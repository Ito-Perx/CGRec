{
 "cells": [
  {
   "cell_type": "markdown",
   "metadata": {},
   "source": [
    "## PySpark recommendation engine"
   ]
  },
  {
   "cell_type": "markdown",
   "metadata": {},
   "source": [
    "Have noted with Vidyut that currently we have to build method-pool instead of rules. (Notes are in separated email.)\n",
    "\n",
    "* Here we illustrate the PySpark env with CF(ALS) and BPR using our own data"
   ]
  },
  {
   "cell_type": "code",
   "execution_count": 1,
   "metadata": {},
   "outputs": [],
   "source": [
    "# env\n",
    "from pyspark import SparkConf, SparkContext \n",
    "\n",
    "# methods\n",
    "from pyspark.mllib.recommendation import ALS, Rating\n",
    "from bpr_spark.bpr import bprMF\n",
    "\n",
    "# data processing\n",
    "import numpy as np\n",
    "import pandas as pd\n",
    "# result processing\n",
    "import math\n",
    "import heapq"
   ]
  },
  {
   "cell_type": "markdown",
   "metadata": {},
   "source": [
    "## 0. Data Preparation"
   ]
  },
  {
   "cell_type": "markdown",
   "metadata": {},
   "source": [
    "* For this demo, the data is prepared, hence in the future when real data comes, this module serves as the data cleansing and data wrangling accordingly."
   ]
  },
  {
   "cell_type": "markdown",
   "metadata": {},
   "source": [
    "## 1. Learning"
   ]
  },
  {
   "cell_type": "markdown",
   "metadata": {},
   "source": [
    "### Load  data\n",
    "This fuction translates the data into RDD rating format."
   ]
  },
  {
   "cell_type": "code",
   "execution_count": 11,
   "metadata": {},
   "outputs": [],
   "source": [
    "# _File_name = '/Users/ito/venv/pyspark-rec/Amazon_videogame_data'\n",
    "_File_name = '/Users/ito/venv/pyspark-rec/CG-Tops/Tops_user-item_data'"
   ]
  },
  {
   "cell_type": "code",
   "execution_count": 13,
   "metadata": {},
   "outputs": [],
   "source": [
    "def get_rating(str):  \n",
    "    arr = str.split('\\t') \n",
    "    user_id = int(arr[0])  \n",
    "    movie_id = int(arr[1])  \n",
    "    user_rating = float(arr[2])  \n",
    "    return Rating(user_id, movie_id, user_rating)\n",
    "try:\n",
    "    sc.stop()\n",
    "except:\n",
    "    pass"
   ]
  },
  {
   "cell_type": "markdown",
   "metadata": {},
   "source": [
    "Set Spark Context (cannot be reset once set well)."
   ]
  },
  {
   "cell_type": "code",
   "execution_count": 14,
   "metadata": {},
   "outputs": [
    {
     "data": {
      "text/plain": [
       "[u'999\\t7071\\t1\\t736433', u'999\\t7070\\t1\\t736433', u'999\\t6951\\t1\\t736485']"
      ]
     },
     "execution_count": 14,
     "metadata": {},
     "output_type": "execute_result"
    }
   ],
   "source": [
    "conf = SparkConf().setMaster('local').setAppName('RecoEng').set(\"spark.executor.memory\", \"8g\")  \n",
    "sc = SparkContext(conf=conf)\n",
    "data = sc.textFile(_File_name)  \n",
    "data.top(3)"
   ]
  },
  {
   "cell_type": "markdown",
   "metadata": {},
   "source": [
    "* For mllib.recommendation, there is already data structure running on it called 'Rating'"
   ]
  },
  {
   "cell_type": "code",
   "execution_count": 15,
   "metadata": {},
   "outputs": [
    {
     "data": {
      "text/plain": [
       "[Rating(user=9204, product=43518, rating=1.0),\n",
       " Rating(user=9204, product=43392, rating=2.0),\n",
       " Rating(user=9204, product=43378, rating=1.0)]"
      ]
     },
     "execution_count": 15,
     "metadata": {},
     "output_type": "execute_result"
    }
   ],
   "source": [
    "ratings = data.map(get_rating) \n",
    "ratings.top(3)"
   ]
  },
  {
   "cell_type": "code",
   "execution_count": 16,
   "metadata": {},
   "outputs": [],
   "source": [
    "split = [0.8, 0.2]\n",
    "ratings_cf_train, ratings_cf_test = ratings.randomSplit(split, seed = 225)\n",
    "ratings2 = data.map(lambda line: line.split(\"\\t\")).map(lambda x: map(int, x[:2]))\n",
    "ratings_bpr_train, ratings_bpr_test = ratings2.randomSplit(split, seed = 25)"
   ]
  },
  {
   "cell_type": "markdown",
   "metadata": {},
   "source": [
    "### I. Collaborative Filtering \n",
    "* using Alternating Least Squares (ALS) optimization\n",
    "* call java function \"trainALSModel\""
   ]
  },
  {
   "cell_type": "code",
   "execution_count": 17,
   "metadata": {},
   "outputs": [],
   "source": [
    "def CollaborativeFiltering(ratings, rank = 5, iterations = 20):\n",
    "    model = ALS.train(ratings, rank, iterations)\n",
    "    return model"
   ]
  },
  {
   "cell_type": "code",
   "execution_count": 61,
   "metadata": {},
   "outputs": [],
   "source": [
    "rank = 10\n",
    "iterations = 20"
   ]
  },
  {
   "cell_type": "code",
   "execution_count": 62,
   "metadata": {},
   "outputs": [
    {
     "name": "stdout",
     "output_type": "stream",
     "text": [
      "CPU times: user 13.7 ms, sys: 5.1 ms, total: 18.8 ms\n",
      "Wall time: 29.9 s\n"
     ]
    }
   ],
   "source": [
    "%%time\n",
    "CFmodel = CollaborativeFiltering(ratings_cf_train, rank, iterations)"
   ]
  },
  {
   "cell_type": "code",
   "execution_count": 63,
   "metadata": {},
   "outputs": [],
   "source": [
    "# %%time\n",
    "# rank = 10  \n",
    "# iterations = 5    \n",
    "# ALSmodel = ALS.train(ratings, rank, iterations)"
   ]
  },
  {
   "cell_type": "markdown",
   "metadata": {},
   "source": [
    "The scalability and efficiency of pySpark is going well, and even it is not CPU-wise multiprocessed. "
   ]
  },
  {
   "cell_type": "markdown",
   "metadata": {},
   "source": [
    "So far so good, means my next step is towards accuracy and realistic level."
   ]
  },
  {
   "cell_type": "code",
   "execution_count": 64,
   "metadata": {
    "scrolled": false
   },
   "outputs": [
    {
     "name": "stdout",
     "output_type": "stream",
     "text": [
      "CPU times: user 11.5 ms, sys: 4.49 ms, total: 15.9 ms\n",
      "Wall time: 31.4 s\n"
     ]
    }
   ],
   "source": [
    "%%time\n",
    "CFmodel_ = CollaborativeFiltering(ratings, rank, iterations)"
   ]
  },
  {
   "cell_type": "code",
   "execution_count": 65,
   "metadata": {},
   "outputs": [
    {
     "name": "stdout",
     "output_type": "stream",
     "text": [
      "CPU times: user 4.72 ms, sys: 2.1 ms, total: 6.82 ms\n",
      "Wall time: 118 ms\n"
     ]
    }
   ],
   "source": [
    "# %%time\n",
    "# top_howmany = 5\n",
    "# rec_items_cf_ = []\n",
    "# for i in range(1, 4):\n",
    "#     rec_items_cf_.extend(CFmodel_.recommendProducts(i, top_howmany)) \n",
    "# rec_items_cf_    "
   ]
  },
  {
   "cell_type": "markdown",
   "metadata": {},
   "source": [
    "### II. Bayesian Personalized Ranking (for PySpark)\n",
    "* optimized using Stochastic Gradient Descent (SGD, cannot be as simply paralled as ALS)  \n",
    "* have remained only user-item information yet (the basic BPR or BPR-1)\n",
    "* return 2 matrices (user matrix with (#user,k), item matrix with (k,#item))"
   ]
  },
  {
   "cell_type": "code",
   "execution_count": 24,
   "metadata": {},
   "outputs": [],
   "source": [
    "# conf = SparkConf().setMaster(\"local\").setAppName(\"BPR\").set(\"spark.executor.memory\", \"8g\")\n",
    "# sc = SparkContext(conf=conf)"
   ]
  },
  {
   "cell_type": "code",
   "execution_count": 25,
   "metadata": {},
   "outputs": [],
   "source": [
    "# data = sc.textFile(\"/Users/ito/venv/pyspark-rec/CG-Tops/Tops_user-item_data\")\n",
    "# ratings = data.map(lambda line: line.split(\"\\t\")).map(lambda x: map(int, x[:2]))"
   ]
  },
  {
   "cell_type": "code",
   "execution_count": 26,
   "metadata": {},
   "outputs": [
    {
     "data": {
      "text/plain": [
       "[[9204, 43518], [9204, 43392]]"
      ]
     },
     "execution_count": 26,
     "metadata": {},
     "output_type": "execute_result"
    }
   ],
   "source": [
    "ratings_bpr_train.top(2)"
   ]
  },
  {
   "cell_type": "code",
   "execution_count": 27,
   "metadata": {
    "scrolled": true
   },
   "outputs": [
    {
     "data": {
      "text/plain": [
       "1596054"
      ]
     },
     "execution_count": 27,
     "metadata": {},
     "output_type": "execute_result"
    }
   ],
   "source": [
    "ratings_bpr_train.count()"
   ]
  },
  {
   "cell_type": "code",
   "execution_count": 28,
   "metadata": {},
   "outputs": [],
   "source": [
    "%%time\n",
    "userMat, prodMat = bprMF(ratings_bpr_train, rank = 5, num_iter = 20, num_neg_samples = 10) "
   ]
  },
  {
   "cell_type": "markdown",
   "metadata": {},
   "source": [
    "* Building another version that can run faster (MR for map reduce) (to be continued..)"
   ]
  },
  {
   "cell_type": "code",
   "execution_count": 31,
   "metadata": {},
   "outputs": [],
   "source": [
    "# from bpr_spark.distbpr import bpr_MF_MR\n",
    "# userMat2, prodMat2 = bpr_MF_MR(ratings, 10, 10)\n",
    "# userMat2, prodMat2 = bpr_MF_MR(ratings, 10, 10, nb_partitions = 8)"
   ]
  },
  {
   "cell_type": "markdown",
   "metadata": {},
   "source": [
    "* Can try to see the result of a single user"
   ]
  },
  {
   "cell_type": "code",
   "execution_count": 225,
   "metadata": {},
   "outputs": [
    {
     "data": {
      "text/plain": [
       "array([ 1.67108379,  1.76053857,  1.78451347, ...,  0.71302791,\n",
       "        1.19058677,  0.88390921])"
      ]
     },
     "execution_count": 225,
     "metadata": {},
     "output_type": "execute_result"
    }
   ],
   "source": [
    "userid = 10\n",
    "rec_items_bpr = np.inner(userMat[userid].T, prodMat)\n",
    "rec_items_bpr"
   ]
  },
  {
   "cell_type": "markdown",
   "metadata": {},
   "source": [
    "#### Simple Result showcasing"
   ]
  },
  {
   "cell_type": "markdown",
   "metadata": {},
   "source": [
    "* Simple result from Collaborative Filtering "
   ]
  },
  {
   "cell_type": "code",
   "execution_count": 70,
   "metadata": {},
   "outputs": [],
   "source": [
    "# print ('recommend items for userid %d:' % userid)\n",
    "# [i for i in rec_items]"
   ]
  },
  {
   "cell_type": "markdown",
   "metadata": {},
   "source": [
    "* Simple result from Bayesian Personalized Ranking"
   ]
  },
  {
   "cell_type": "code",
   "execution_count": 37,
   "metadata": {},
   "outputs": [],
   "source": [
    "# print ('recommend items for userid %d:' % userid)\n",
    "# for idx, i in enumerate(res[0]):\n",
    "#     print 'user=%d, ' % userid + 'product=%d, ' % i  + 'rating=%f' % top_list[idx]"
   ]
  },
  {
   "cell_type": "code",
   "execution_count": 38,
   "metadata": {},
   "outputs": [],
   "source": [
    "# Manually do the similar showcasing like \"ALSmodel.recommendProducts(userid, top_howmany)\" using heap sorting\n",
    "\n",
    "# top_howmany = 5\n",
    "# res = []\n",
    "# top_list = heapq.nlargest(top_howmany,rec_items_bpr)\n",
    "# res.append([i for i in range(len(rec_items_bpr)) if rec_items_bpr[i] in top_list])\n",
    "\n",
    "# userid = 10\n",
    "# rec_items = CFmodel.recommendProducts(userid, top_howmany)  \n",
    "\n",
    "# print top_list\n",
    "# pd.DataFrame(rec_items)"
   ]
  },
  {
   "cell_type": "code",
   "execution_count": 39,
   "metadata": {},
   "outputs": [],
   "source": [
    "# userMat.shape\n",
    "# num_users = ratings2.map(lambda x: x[0]).max()"
   ]
  },
  {
   "cell_type": "code",
   "execution_count": 40,
   "metadata": {},
   "outputs": [
    {
     "name": "stdout",
     "output_type": "stream",
     "text": [
      "CPU times: user 103 ms, sys: 3.91 ms, total: 106 ms\n",
      "Wall time: 260 ms\n"
     ]
    }
   ],
   "source": [
    "%%time\n",
    "\n",
    "rec_items_cf_ = []\n",
    "rec_items_bpr_ = []\n",
    "for i in range(1, 4):\n",
    "    rec_items_cf_.extend(CFmodel_.recommendProducts(i, top_howmany)) \n",
    "    \n",
    "    rec_items_bpr = np.inner(userMat[i].T, prodMat)\n",
    "    top_list = heapq.nlargest(top_howmany,rec_items_bpr)\n",
    "    \n",
    "    idx = 0\n",
    "    for j in range(len(rec_items_bpr)):\n",
    "        if rec_items_bpr[j] in top_list:\n",
    "            rec_items_bpr_.append((i, j, top_list[idx])) \n",
    "            idx += 1\n"
   ]
  },
  {
   "cell_type": "markdown",
   "metadata": {},
   "source": [
    "### III. FM (in another jupyter sheet)"
   ]
  },
  {
   "cell_type": "markdown",
   "metadata": {},
   "source": [
    "* FMonSpark_demo_a9a.ipynb"
   ]
  },
  {
   "cell_type": "markdown",
   "metadata": {},
   "source": [
    "## 2. Predicting"
   ]
  },
  {
   "cell_type": "markdown",
   "metadata": {},
   "source": [
    "### predicting on test_set for each method considered"
   ]
  },
  {
   "cell_type": "code",
   "execution_count": 71,
   "metadata": {},
   "outputs": [],
   "source": [
    "top_howmany = 10"
   ]
  },
  {
   "cell_type": "markdown",
   "metadata": {},
   "source": [
    "* Gathering recommending result"
   ]
  },
  {
   "cell_type": "code",
   "execution_count": 72,
   "metadata": {},
   "outputs": [],
   "source": [
    "# ## testing\n",
    "# %%time\n",
    "# # CFmodel_.recommendProducts(1, top_howmany)\n",
    "# userid = 10\n",
    "# rec_items_bpr = np.inner(userMat[userid].T, prodMat)\n",
    "# res = []\n",
    "# top_list = heapq.nlargest(top_howmany,rec_items_bpr)\n",
    "# res.append([i for i in range(len(rec_items_bpr)) if rec_items_bpr[i] in top_list])"
   ]
  },
  {
   "cell_type": "markdown",
   "metadata": {},
   "source": [
    "* Blackboxing the recommendProducts from BPR's perspective (as a service)"
   ]
  },
  {
   "cell_type": "code",
   "execution_count": 73,
   "metadata": {},
   "outputs": [],
   "source": [
    "def bpr_recommendProducts(userID, top_howmany = 5):\n",
    "    rec_items_bpr = np.inner(userMat[userID].T, prodMat)\n",
    "    res_4_userID = []\n",
    "    top_list = heapq.nlargest(top_howmany,rec_items_bpr)\n",
    "\n",
    "    idx = 0\n",
    "    for j in range(len(rec_items_bpr)):\n",
    "        if rec_items_bpr[j] in top_list:\n",
    "            res_4_userID.append((userID, j, top_list[idx])) \n",
    "            idx += 1\n",
    "    return res_4_userID"
   ]
  },
  {
   "cell_type": "code",
   "execution_count": 44,
   "metadata": {},
   "outputs": [],
   "source": [
    "rec_items_cf = []\n",
    "rec_items_bpr = []\n",
    "for i in range(1, userMat.shape[0]):\n",
    "    rec_items_cf.extend(CFmodel_.recommendProducts(i, top_howmany)) \n",
    "    rec_items_bpr.extend(bpr_recommendProducts(i, top_howmany)) "
   ]
  },
  {
   "cell_type": "code",
   "execution_count": 45,
   "metadata": {},
   "outputs": [
    {
     "data": {
      "text/plain": [
       "9205"
      ]
     },
     "execution_count": 45,
     "metadata": {},
     "output_type": "execute_result"
    }
   ],
   "source": [
    "userMat.shape[0]"
   ]
  },
  {
   "cell_type": "markdown",
   "metadata": {},
   "source": [
    "### voting scheme based on the results gathered"
   ]
  },
  {
   "cell_type": "markdown",
   "metadata": {},
   "source": [
    "* Result regularizing"
   ]
  },
  {
   "cell_type": "code",
   "execution_count": 46,
   "metadata": {},
   "outputs": [],
   "source": [
    "cf_res_df = pd.DataFrame(rec_items_cf)\n",
    "cf_devider = np.mean(cf_res_df.groupby('user').rating.max())\n",
    "cf_res_df['rating'] = cf_res_df.rating/cf_devider"
   ]
  },
  {
   "cell_type": "code",
   "execution_count": 47,
   "metadata": {},
   "outputs": [],
   "source": [
    "bpr_res_df = pd.DataFrame(rec_items_bpr)\n",
    "bpr_res_df.columns = cf_res_df.columns # convenient way for column name\n",
    "bpr_devider = np.mean(bpr_res_df.groupby('user').rating.max())\n",
    "bpr_res_df['rating'] = bpr_res_df.rating/bpr_devider"
   ]
  },
  {
   "cell_type": "markdown",
   "metadata": {},
   "source": [
    "* Generating overall results"
   ]
  },
  {
   "cell_type": "code",
   "execution_count": 48,
   "metadata": {},
   "outputs": [],
   "source": [
    "overall_df = pd.concat([cf_res_df,bpr_res_df])\n",
    "overall_df_show = overall_df.groupby(['user','product']).rating.sum()"
   ]
  },
  {
   "cell_type": "markdown",
   "metadata": {},
   "source": [
    "* Selecting the most possible recommendations (from mid of the top values -- avoid overfitting)"
   ]
  },
  {
   "cell_type": "code",
   "execution_count": 49,
   "metadata": {},
   "outputs": [],
   "source": [
    "def taking_out_reco_pairs(input_pairs, num = 7, init_pos = 7):\n",
    "    _pairs_items = input_pairs.sort_values(ascending=False).index\n",
    "    if len(_pairs_items)<init_pos+num:\n",
    "        return _pairs_items[-num:]\n",
    "    return _pairs_items[init_pos:init_pos+num]"
   ]
  },
  {
   "cell_type": "code",
   "execution_count": 50,
   "metadata": {},
   "outputs": [],
   "source": [
    "overall_result = []\n",
    "for i in range(1,userMat.shape[0]):\n",
    "    overall_result.append([i, list(taking_out_reco_pairs(overall_df_show[i]))])"
   ]
  },
  {
   "cell_type": "markdown",
   "metadata": {},
   "source": [
    "## 3. Evaluation (Just showcase here)"
   ]
  },
  {
   "cell_type": "markdown",
   "metadata": {},
   "source": [
    "* Hit Ratio evaluation "
   ]
  },
  {
   "cell_type": "code",
   "execution_count": 54,
   "metadata": {},
   "outputs": [],
   "source": [
    "def getHit(input_tuple):\n",
    "    user = input_tuple[0]\n",
    "    item = input_tuple[1]\n",
    "    \n",
    "    for reco_item in overall_result[user-1][1]:\n",
    "        if reco_item == item:\n",
    "            return 7\n",
    "    return 0"
   ]
  },
  {
   "cell_type": "markdown",
   "metadata": {},
   "source": [
    "* NDCG evaluation"
   ]
  },
  {
   "cell_type": "code",
   "execution_count": 55,
   "metadata": {},
   "outputs": [],
   "source": [
    "def getNDCG(input_tuple):\n",
    "    user = input_tuple[0]\n",
    "    item = input_tuple[1]\n",
    "    \n",
    "    for idx, reco_item in enumerate(overall_result[user-1][1]):\n",
    "        if reco_item == item:\n",
    "            return 2*math.log(2)/math.log(idx+2)\n",
    "    return 0"
   ]
  },
  {
   "cell_type": "markdown",
   "metadata": {},
   "source": [
    "* Calculation of the result"
   ]
  },
  {
   "cell_type": "code",
   "execution_count": 209,
   "metadata": {},
   "outputs": [
    {
     "name": "stdout",
     "output_type": "stream",
     "text": [
      "Hit Ratio (%100): 0.0796852546353\n",
      "NDCG: 0.0124813550497\n"
     ]
    }
   ],
   "source": [
    "ratings_test_len = ratings_bpr_test.count()\n",
    "print 'Hit Ratio (%100): ' + str(ratings_bpr_test.map(getHit).sum()*1.0/ratings_test_len)\n",
    "print 'NDCG: ' + str(ratings_bpr_test.map(getNDCG).sum()/ratings_test_len)"
   ]
  },
  {
   "cell_type": "markdown",
   "metadata": {},
   "source": [
    "## 4. Further Demonstration"
   ]
  },
  {
   "cell_type": "markdown",
   "metadata": {},
   "source": [
    "### Customer Informations"
   ]
  },
  {
   "cell_type": "code",
   "execution_count": 274,
   "metadata": {},
   "outputs": [],
   "source": [
    "def strip_brace(input):\n",
    "#     input = input.strip('{')\n",
    "#     input = input.strip('}')\n",
    "    return input[1:-1]\n",
    "#     return input\n",
    "cstmfile = '/Users/ito/venv/CG-RecoEng/data/og_data/Customer_Profile.csv'\n",
    "customer = pd.read_csv(cstmfile, sep=',', engine='c')\n",
    "customer.CustomerID = customer.CustomerID.map(strip_brace)"
   ]
  },
  {
   "cell_type": "markdown",
   "metadata": {},
   "source": [
    "* Select useful information to display"
   ]
  },
  {
   "cell_type": "code",
   "execution_count": 275,
   "metadata": {},
   "outputs": [
    {
     "data": {
      "text/html": [
       "<div>\n",
       "<style scoped>\n",
       "    .dataframe tbody tr th:only-of-type {\n",
       "        vertical-align: middle;\n",
       "    }\n",
       "\n",
       "    .dataframe tbody tr th {\n",
       "        vertical-align: top;\n",
       "    }\n",
       "\n",
       "    .dataframe thead th {\n",
       "        text-align: right;\n",
       "    }\n",
       "</style>\n",
       "<table border=\"1\" class=\"dataframe\">\n",
       "  <thead>\n",
       "    <tr style=\"text-align: right;\">\n",
       "      <th></th>\n",
       "      <th>CustomerID</th>\n",
       "      <th>DateofBirth</th>\n",
       "      <th>Nationality</th>\n",
       "      <th>Gender</th>\n",
       "      <th>MaritalStatus</th>\n",
       "      <th>NoofChildren</th>\n",
       "    </tr>\n",
       "  </thead>\n",
       "  <tbody>\n",
       "    <tr>\n",
       "      <th>0</th>\n",
       "      <td>0003B311-AEFF-494D-9AAD-9951FA5AC599</td>\n",
       "      <td>1981-06-26 00:00:00</td>\n",
       "      <td>Thai</td>\n",
       "      <td>F</td>\n",
       "      <td>S</td>\n",
       "      <td>0</td>\n",
       "    </tr>\n",
       "    <tr>\n",
       "      <th>1</th>\n",
       "      <td>0005861F-87C4-4CEB-80D4-61CFB8F34E47</td>\n",
       "      <td>1978-09-08 00:00:00</td>\n",
       "      <td>Unknown</td>\n",
       "      <td>NaN</td>\n",
       "      <td>NaN</td>\n",
       "      <td>0</td>\n",
       "    </tr>\n",
       "    <tr>\n",
       "      <th>2</th>\n",
       "      <td>000684B2-425D-4B3E-9F97-388B88C2A2AD</td>\n",
       "      <td>1981-01-01 00:00:00</td>\n",
       "      <td>Thai</td>\n",
       "      <td>F</td>\n",
       "      <td>S</td>\n",
       "      <td>0</td>\n",
       "    </tr>\n",
       "    <tr>\n",
       "      <th>3</th>\n",
       "      <td>000728AC-3ED5-479A-8DF9-3A94AA40665F</td>\n",
       "      <td>1978-10-16 00:00:00</td>\n",
       "      <td>Thai</td>\n",
       "      <td>F</td>\n",
       "      <td>S</td>\n",
       "      <td>0</td>\n",
       "    </tr>\n",
       "    <tr>\n",
       "      <th>4</th>\n",
       "      <td>0007C4F6-4BBE-4706-AD88-D25B79FC41E3</td>\n",
       "      <td>1984-07-29 00:00:00</td>\n",
       "      <td>Thai</td>\n",
       "      <td>F</td>\n",
       "      <td>M</td>\n",
       "      <td>0</td>\n",
       "    </tr>\n",
       "  </tbody>\n",
       "</table>\n",
       "</div>"
      ],
      "text/plain": [
       "                             CustomerID          DateofBirth Nationality  \\\n",
       "0  0003B311-AEFF-494D-9AAD-9951FA5AC599  1981-06-26 00:00:00        Thai   \n",
       "1  0005861F-87C4-4CEB-80D4-61CFB8F34E47  1978-09-08 00:00:00     Unknown   \n",
       "2  000684B2-425D-4B3E-9F97-388B88C2A2AD  1981-01-01 00:00:00        Thai   \n",
       "3  000728AC-3ED5-479A-8DF9-3A94AA40665F  1978-10-16 00:00:00        Thai   \n",
       "4  0007C4F6-4BBE-4706-AD88-D25B79FC41E3  1984-07-29 00:00:00        Thai   \n",
       "\n",
       "  Gender MaritalStatus  NoofChildren  \n",
       "0      F             S             0  \n",
       "1    NaN           NaN             0  \n",
       "2      F             S             0  \n",
       "3      F             S             0  \n",
       "4      F             M             0  "
      ]
     },
     "execution_count": 275,
     "metadata": {},
     "output_type": "execute_result"
    }
   ],
   "source": [
    "customer_sorted = customer.sort_values(by='CustomerID')\n",
    "customer_sorted = customer_sorted.reset_index()\n",
    "customer_sub = customer_sorted[['CustomerID','DateofBirth','Nationality','Gender','MaritalStatus','NoofChildren']]\n",
    "customer_sub.head()"
   ]
  },
  {
   "cell_type": "markdown",
   "metadata": {},
   "source": [
    "* Age converter"
   ]
  },
  {
   "cell_type": "code",
   "execution_count": 276,
   "metadata": {},
   "outputs": [],
   "source": [
    "from datetime import date\n",
    "\n",
    "days_in_year = 365.2425 # for leap year\n",
    "today = pd.to_datetime(date.today())\n",
    "\n",
    "def age_converter(input):\n",
    "    try:\n",
    "        return int((today - pd.to_datetime(input)).days / days_in_year)\n",
    "    except:\n",
    "        return 'Unknown'\n",
    "    \n",
    "# (today - pd.to_datetime(customer_sub.DateofBirth[0])).days\n",
    "# int((today - pd.to_datetime('2018-01-22')).days / days_in_year)"
   ]
  },
  {
   "cell_type": "markdown",
   "metadata": {},
   "source": [
    "* Information Processing"
   ]
  },
  {
   "cell_type": "code",
   "execution_count": 277,
   "metadata": {},
   "outputs": [
    {
     "data": {
      "text/html": [
       "<div>\n",
       "<style scoped>\n",
       "    .dataframe tbody tr th:only-of-type {\n",
       "        vertical-align: middle;\n",
       "    }\n",
       "\n",
       "    .dataframe tbody tr th {\n",
       "        vertical-align: top;\n",
       "    }\n",
       "\n",
       "    .dataframe thead th {\n",
       "        text-align: right;\n",
       "    }\n",
       "</style>\n",
       "<table border=\"1\" class=\"dataframe\">\n",
       "  <thead>\n",
       "    <tr style=\"text-align: right;\">\n",
       "      <th></th>\n",
       "      <th>CustomerID</th>\n",
       "      <th>Nationality</th>\n",
       "      <th>Gender</th>\n",
       "      <th>MaritalStatus</th>\n",
       "      <th>NoofChildren</th>\n",
       "      <th>Age</th>\n",
       "    </tr>\n",
       "  </thead>\n",
       "  <tbody>\n",
       "    <tr>\n",
       "      <th>0</th>\n",
       "      <td>0003B311-AEFF-494D-9AAD-9951FA5AC599</td>\n",
       "      <td>Thai</td>\n",
       "      <td>Female</td>\n",
       "      <td>Single</td>\n",
       "      <td>0</td>\n",
       "      <td>36</td>\n",
       "    </tr>\n",
       "    <tr>\n",
       "      <th>1</th>\n",
       "      <td>0005861F-87C4-4CEB-80D4-61CFB8F34E47</td>\n",
       "      <td>Unknown</td>\n",
       "      <td>Unknown</td>\n",
       "      <td>Unknown</td>\n",
       "      <td>0</td>\n",
       "      <td>39</td>\n",
       "    </tr>\n",
       "    <tr>\n",
       "      <th>2</th>\n",
       "      <td>000684B2-425D-4B3E-9F97-388B88C2A2AD</td>\n",
       "      <td>Thai</td>\n",
       "      <td>Female</td>\n",
       "      <td>Single</td>\n",
       "      <td>0</td>\n",
       "      <td>37</td>\n",
       "    </tr>\n",
       "    <tr>\n",
       "      <th>3</th>\n",
       "      <td>000728AC-3ED5-479A-8DF9-3A94AA40665F</td>\n",
       "      <td>Thai</td>\n",
       "      <td>Female</td>\n",
       "      <td>Single</td>\n",
       "      <td>0</td>\n",
       "      <td>39</td>\n",
       "    </tr>\n",
       "    <tr>\n",
       "      <th>4</th>\n",
       "      <td>0007C4F6-4BBE-4706-AD88-D25B79FC41E3</td>\n",
       "      <td>Thai</td>\n",
       "      <td>Female</td>\n",
       "      <td>Married</td>\n",
       "      <td>0</td>\n",
       "      <td>33</td>\n",
       "    </tr>\n",
       "  </tbody>\n",
       "</table>\n",
       "</div>"
      ],
      "text/plain": [
       "                             CustomerID Nationality   Gender MaritalStatus  \\\n",
       "0  0003B311-AEFF-494D-9AAD-9951FA5AC599        Thai   Female        Single   \n",
       "1  0005861F-87C4-4CEB-80D4-61CFB8F34E47     Unknown  Unknown       Unknown   \n",
       "2  000684B2-425D-4B3E-9F97-388B88C2A2AD        Thai   Female        Single   \n",
       "3  000728AC-3ED5-479A-8DF9-3A94AA40665F        Thai   Female        Single   \n",
       "4  0007C4F6-4BBE-4706-AD88-D25B79FC41E3        Thai   Female       Married   \n",
       "\n",
       "   NoofChildren Age  \n",
       "0             0  36  \n",
       "1             0  39  \n",
       "2             0  37  \n",
       "3             0  39  \n",
       "4             0  33  "
      ]
     },
     "execution_count": 277,
     "metadata": {},
     "output_type": "execute_result"
    }
   ],
   "source": [
    "customer_sub = customer_sub.fillna('Unknown')\n",
    "customer_sub['Age'] = customer_sub.DateofBirth.map(age_converter)\n",
    "customer_sub.drop(columns='DateofBirth',inplace=True)\n",
    "customer_sub['Gender'] = customer_sub.Gender.replace(['F','M'],['Female','Male'])\n",
    "customer_sub['MaritalStatus'] = customer_sub.MaritalStatus.replace(['S','M'],['Single','Married'])\n",
    "customer_sub.head()"
   ]
  },
  {
   "cell_type": "markdown",
   "metadata": {},
   "source": [
    "* We can hence even analysis whether a customer is possibly divorced as they are not indicating \"Marital Status\" while having babies."
   ]
  },
  {
   "cell_type": "code",
   "execution_count": 278,
   "metadata": {},
   "outputs": [],
   "source": [
    "divorce_idx = customer_sub[( (customer_sub.MaritalStatus == 'Single') | (customer_sub.MaritalStatus == 'Unknown') )&(customer_sub.NoofChildren>0)].index\n",
    "customer_sub['PossDivorced'] = pd.Series(['Yes' if i in divorce_idx else 'N. A.' for i in range(customer_sub.shape[0])])"
   ]
  },
  {
   "cell_type": "code",
   "execution_count": 279,
   "metadata": {
    "scrolled": true
   },
   "outputs": [
    {
     "data": {
      "text/html": [
       "<div>\n",
       "<style scoped>\n",
       "    .dataframe tbody tr th:only-of-type {\n",
       "        vertical-align: middle;\n",
       "    }\n",
       "\n",
       "    .dataframe tbody tr th {\n",
       "        vertical-align: top;\n",
       "    }\n",
       "\n",
       "    .dataframe thead th {\n",
       "        text-align: right;\n",
       "    }\n",
       "</style>\n",
       "<table border=\"1\" class=\"dataframe\">\n",
       "  <thead>\n",
       "    <tr style=\"text-align: right;\">\n",
       "      <th></th>\n",
       "      <th>CustomerID</th>\n",
       "      <th>Nationality</th>\n",
       "      <th>Gender</th>\n",
       "      <th>MaritalStatus</th>\n",
       "      <th>NoofChildren</th>\n",
       "      <th>Age</th>\n",
       "      <th>PossDivorced</th>\n",
       "    </tr>\n",
       "  </thead>\n",
       "  <tbody>\n",
       "    <tr>\n",
       "      <th>39</th>\n",
       "      <td>00BCA414-03FB-4477-B1BF-881A4E410F4F</td>\n",
       "      <td>Thai</td>\n",
       "      <td>Female</td>\n",
       "      <td>Unknown</td>\n",
       "      <td>1</td>\n",
       "      <td>45</td>\n",
       "      <td>Yes</td>\n",
       "    </tr>\n",
       "    <tr>\n",
       "      <th>90</th>\n",
       "      <td>01FA26A3-217B-40D8-871A-9277B606A72B</td>\n",
       "      <td>Thai</td>\n",
       "      <td>Female</td>\n",
       "      <td>Unknown</td>\n",
       "      <td>3</td>\n",
       "      <td>40</td>\n",
       "      <td>Yes</td>\n",
       "    </tr>\n",
       "    <tr>\n",
       "      <th>121</th>\n",
       "      <td>02A13115-AA4A-463F-A71A-12B5787D636D</td>\n",
       "      <td>Thai</td>\n",
       "      <td>Female</td>\n",
       "      <td>Unknown</td>\n",
       "      <td>2</td>\n",
       "      <td>52</td>\n",
       "      <td>Yes</td>\n",
       "    </tr>\n",
       "    <tr>\n",
       "      <th>152</th>\n",
       "      <td>037BC223-D01C-49C2-B4C1-C208937BA6A1</td>\n",
       "      <td>Thai</td>\n",
       "      <td>Female</td>\n",
       "      <td>Unknown</td>\n",
       "      <td>3</td>\n",
       "      <td>65</td>\n",
       "      <td>Yes</td>\n",
       "    </tr>\n",
       "    <tr>\n",
       "      <th>153</th>\n",
       "      <td>037D991B-0DB1-43D3-B95C-D3A3307F54DF</td>\n",
       "      <td>Thai</td>\n",
       "      <td>Female</td>\n",
       "      <td>Unknown</td>\n",
       "      <td>1</td>\n",
       "      <td>37</td>\n",
       "      <td>Yes</td>\n",
       "    </tr>\n",
       "    <tr>\n",
       "      <th>169</th>\n",
       "      <td>03E44B2E-D860-487F-AF50-37E44519739D</td>\n",
       "      <td>Thai</td>\n",
       "      <td>Female</td>\n",
       "      <td>Unknown</td>\n",
       "      <td>3</td>\n",
       "      <td>59</td>\n",
       "      <td>Yes</td>\n",
       "    </tr>\n",
       "    <tr>\n",
       "      <th>197</th>\n",
       "      <td>0475AAC0-C8A7-410B-8930-FCA49C8E5213</td>\n",
       "      <td>Thai</td>\n",
       "      <td>Female</td>\n",
       "      <td>Unknown</td>\n",
       "      <td>2</td>\n",
       "      <td>43</td>\n",
       "      <td>Yes</td>\n",
       "    </tr>\n",
       "    <tr>\n",
       "      <th>213</th>\n",
       "      <td>04F2FED0-8C16-4BE7-919A-52F4C3F977A1</td>\n",
       "      <td>Thai</td>\n",
       "      <td>Female</td>\n",
       "      <td>Single</td>\n",
       "      <td>1</td>\n",
       "      <td>37</td>\n",
       "      <td>Yes</td>\n",
       "    </tr>\n",
       "    <tr>\n",
       "      <th>222</th>\n",
       "      <td>05239B2F-5076-4DE3-AA49-C7630256ACE7</td>\n",
       "      <td>Thai</td>\n",
       "      <td>Female</td>\n",
       "      <td>Single</td>\n",
       "      <td>1</td>\n",
       "      <td>31</td>\n",
       "      <td>Yes</td>\n",
       "    </tr>\n",
       "    <tr>\n",
       "      <th>228</th>\n",
       "      <td>0543EFAF-833F-4CBB-A738-A3DDD7AD8380</td>\n",
       "      <td>Thai</td>\n",
       "      <td>Female</td>\n",
       "      <td>Unknown</td>\n",
       "      <td>2</td>\n",
       "      <td>34</td>\n",
       "      <td>Yes</td>\n",
       "    </tr>\n",
       "  </tbody>\n",
       "</table>\n",
       "</div>"
      ],
      "text/plain": [
       "                               CustomerID Nationality  Gender MaritalStatus  \\\n",
       "39   00BCA414-03FB-4477-B1BF-881A4E410F4F        Thai  Female       Unknown   \n",
       "90   01FA26A3-217B-40D8-871A-9277B606A72B        Thai  Female       Unknown   \n",
       "121  02A13115-AA4A-463F-A71A-12B5787D636D        Thai  Female       Unknown   \n",
       "152  037BC223-D01C-49C2-B4C1-C208937BA6A1        Thai  Female       Unknown   \n",
       "153  037D991B-0DB1-43D3-B95C-D3A3307F54DF        Thai  Female       Unknown   \n",
       "169  03E44B2E-D860-487F-AF50-37E44519739D        Thai  Female       Unknown   \n",
       "197  0475AAC0-C8A7-410B-8930-FCA49C8E5213        Thai  Female       Unknown   \n",
       "213  04F2FED0-8C16-4BE7-919A-52F4C3F977A1        Thai  Female        Single   \n",
       "222  05239B2F-5076-4DE3-AA49-C7630256ACE7        Thai  Female        Single   \n",
       "228  0543EFAF-833F-4CBB-A738-A3DDD7AD8380        Thai  Female       Unknown   \n",
       "\n",
       "     NoofChildren Age PossDivorced  \n",
       "39              1  45          Yes  \n",
       "90              3  40          Yes  \n",
       "121             2  52          Yes  \n",
       "152             3  65          Yes  \n",
       "153             1  37          Yes  \n",
       "169             3  59          Yes  \n",
       "197             2  43          Yes  \n",
       "213             1  37          Yes  \n",
       "222             1  31          Yes  \n",
       "228             2  34          Yes  "
      ]
     },
     "execution_count": 279,
     "metadata": {},
     "output_type": "execute_result"
    }
   ],
   "source": [
    "customer_sub[customer_sub.PossDivorced == 'Yes'].head(10)"
   ]
  },
  {
   "cell_type": "markdown",
   "metadata": {},
   "source": [
    "### Product Info"
   ]
  },
  {
   "cell_type": "code",
   "execution_count": 280,
   "metadata": {},
   "outputs": [
    {
     "data": {
      "text/html": [
       "<div>\n",
       "<style scoped>\n",
       "    .dataframe tbody tr th:only-of-type {\n",
       "        vertical-align: middle;\n",
       "    }\n",
       "\n",
       "    .dataframe tbody tr th {\n",
       "        vertical-align: top;\n",
       "    }\n",
       "\n",
       "    .dataframe thead th {\n",
       "        text-align: right;\n",
       "    }\n",
       "</style>\n",
       "<table border=\"1\" class=\"dataframe\">\n",
       "  <thead>\n",
       "    <tr style=\"text-align: right;\">\n",
       "      <th></th>\n",
       "      <th>BUID</th>\n",
       "      <th>SKUID</th>\n",
       "      <th>PRODUCT_ENG_DESC</th>\n",
       "      <th>DEPT_ID</th>\n",
       "      <th>DEPT_ENG_DESC</th>\n",
       "      <th>SUBDEPT_ID</th>\n",
       "      <th>SUBDEPT_ENG_DESC</th>\n",
       "      <th>CLASS_ID</th>\n",
       "      <th>CLASS_ENG_DESC</th>\n",
       "      <th>CAT_ID</th>\n",
       "      <th>CAT_ENG_DESC</th>\n",
       "      <th>SUBCAT_ID</th>\n",
       "      <th>SUBCAT_ENG_DESC</th>\n",
       "      <th>BRAND_CODE</th>\n",
       "      <th>BRAND_ENG_NAME</th>\n",
       "      <th>SUPPLIER_CODE</th>\n",
       "      <th>SUPPLIER_ENG_NAME</th>\n",
       "    </tr>\n",
       "  </thead>\n",
       "  <tbody>\n",
       "    <tr>\n",
       "      <th>0</th>\n",
       "      <td>150</td>\n",
       "      <td>8851984131769</td>\n",
       "      <td>Autoquip Takara Springe(C2</td>\n",
       "      <td>3</td>\n",
       "      <td>GM/Housewares</td>\n",
       "      <td>5</td>\n",
       "      <td>GM/Non FMCG</td>\n",
       "      <td>1</td>\n",
       "      <td>DIY/Non FMCG</td>\n",
       "      <td>2</td>\n",
       "      <td>Garden Accessories/Non FMCG</td>\n",
       "      <td>1</td>\n",
       "      <td>Gardening Tools</td>\n",
       "      <td>10703</td>\n",
       "      <td>AUTO QUIP</td>\n",
       "      <td>9811566</td>\n",
       "      <td>AUTO QUIP LTD.,PART</td>\n",
       "    </tr>\n",
       "    <tr>\n",
       "      <th>1</th>\n",
       "      <td>150</td>\n",
       "      <td>8851984131837</td>\n",
       "      <td>Autoquip Takara Roll Jasmin(C2</td>\n",
       "      <td>3</td>\n",
       "      <td>GM/Housewares</td>\n",
       "      <td>5</td>\n",
       "      <td>GM/Non FMCG</td>\n",
       "      <td>1</td>\n",
       "      <td>DIY/Non FMCG</td>\n",
       "      <td>2</td>\n",
       "      <td>Garden Accessories/Non FMCG</td>\n",
       "      <td>1</td>\n",
       "      <td>Gardening Tools</td>\n",
       "      <td>10703</td>\n",
       "      <td>AUTO QUIP</td>\n",
       "      <td>9811566</td>\n",
       "      <td>AUTO QUIP LTD.,PART</td>\n",
       "    </tr>\n",
       "    <tr>\n",
       "      <th>2</th>\n",
       "      <td>150</td>\n",
       "      <td>8851984131882</td>\n",
       "      <td>Autoquip DGT Scissors 2504(C2</td>\n",
       "      <td>3</td>\n",
       "      <td>GM/Housewares</td>\n",
       "      <td>5</td>\n",
       "      <td>GM/Non FMCG</td>\n",
       "      <td>1</td>\n",
       "      <td>DIY/Non FMCG</td>\n",
       "      <td>2</td>\n",
       "      <td>Garden Accessories/Non FMCG</td>\n",
       "      <td>1</td>\n",
       "      <td>Gardening Tools</td>\n",
       "      <td>10703</td>\n",
       "      <td>AUTO QUIP</td>\n",
       "      <td>9811566</td>\n",
       "      <td>AUTO QUIP LTD.,PART</td>\n",
       "    </tr>\n",
       "    <tr>\n",
       "      <th>3</th>\n",
       "      <td>150</td>\n",
       "      <td>8858653363421</td>\n",
       "      <td>Triamorn VCD Mixed 69Bht(C</td>\n",
       "      <td>3</td>\n",
       "      <td>GM/Housewares</td>\n",
       "      <td>5</td>\n",
       "      <td>GM/Non FMCG</td>\n",
       "      <td>5</td>\n",
       "      <td>Toys/Gifts/Non FMCG</td>\n",
       "      <td>3</td>\n",
       "      <td>Entertainment</td>\n",
       "      <td>1</td>\n",
       "      <td>Movie</td>\n",
       "      <td>9813</td>\n",
       "      <td>TRIAMORN</td>\n",
       "      <td>9810917</td>\n",
       "      <td>TRI AMORN PLUS CO.,LTD.</td>\n",
       "    </tr>\n",
       "    <tr>\n",
       "      <th>4</th>\n",
       "      <td>150</td>\n",
       "      <td>8850633566242</td>\n",
       "      <td>Seagull Marathon Fry Pan 24cm</td>\n",
       "      <td>3</td>\n",
       "      <td>GM/Housewares</td>\n",
       "      <td>1</td>\n",
       "      <td>GM</td>\n",
       "      <td>2</td>\n",
       "      <td>Household</td>\n",
       "      <td>5</td>\n",
       "      <td>Cooking/Kitchen</td>\n",
       "      <td>8</td>\n",
       "      <td>Pans</td>\n",
       "      <td>2116</td>\n",
       "      <td>SEAGULL</td>\n",
       "      <td>9801221</td>\n",
       "      <td>THAI STAINLESS STEEL</td>\n",
       "    </tr>\n",
       "  </tbody>\n",
       "</table>\n",
       "</div>"
      ],
      "text/plain": [
       "   BUID          SKUID                PRODUCT_ENG_DESC  DEPT_ID  \\\n",
       "0   150  8851984131769      Autoquip Takara Springe(C2        3   \n",
       "1   150  8851984131837  Autoquip Takara Roll Jasmin(C2        3   \n",
       "2   150  8851984131882   Autoquip DGT Scissors 2504(C2        3   \n",
       "3   150  8858653363421      Triamorn VCD Mixed 69Bht(C        3   \n",
       "4   150  8850633566242   Seagull Marathon Fry Pan 24cm        3   \n",
       "\n",
       "   DEPT_ENG_DESC  SUBDEPT_ID SUBDEPT_ENG_DESC  CLASS_ID       CLASS_ENG_DESC  \\\n",
       "0  GM/Housewares           5      GM/Non FMCG         1         DIY/Non FMCG   \n",
       "1  GM/Housewares           5      GM/Non FMCG         1         DIY/Non FMCG   \n",
       "2  GM/Housewares           5      GM/Non FMCG         1         DIY/Non FMCG   \n",
       "3  GM/Housewares           5      GM/Non FMCG         5  Toys/Gifts/Non FMCG   \n",
       "4  GM/Housewares           1               GM         2            Household   \n",
       "\n",
       "   CAT_ID                 CAT_ENG_DESC  SUBCAT_ID  SUBCAT_ENG_DESC  \\\n",
       "0       2  Garden Accessories/Non FMCG          1  Gardening Tools   \n",
       "1       2  Garden Accessories/Non FMCG          1  Gardening Tools   \n",
       "2       2  Garden Accessories/Non FMCG          1  Gardening Tools   \n",
       "3       3                Entertainment          1            Movie   \n",
       "4       5              Cooking/Kitchen          8             Pans   \n",
       "\n",
       "   BRAND_CODE BRAND_ENG_NAME  SUPPLIER_CODE        SUPPLIER_ENG_NAME  \n",
       "0       10703      AUTO QUIP        9811566      AUTO QUIP LTD.,PART  \n",
       "1       10703      AUTO QUIP        9811566      AUTO QUIP LTD.,PART  \n",
       "2       10703      AUTO QUIP        9811566      AUTO QUIP LTD.,PART  \n",
       "3        9813       TRIAMORN        9810917  TRI AMORN PLUS CO.,LTD.  \n",
       "4        2116        SEAGULL        9801221     THAI STAINLESS STEEL  "
      ]
     },
     "execution_count": 280,
     "metadata": {},
     "output_type": "execute_result"
    }
   ],
   "source": [
    "productfile = '/Users/ito/venv/CG-RecoEng/data/og_data/ProductMaster_Tops.csv'\n",
    "product = pd.read_csv(productfile, sep=',', engine='c')\n",
    "product.head()"
   ]
  },
  {
   "cell_type": "code",
   "execution_count": 281,
   "metadata": {
    "scrolled": true
   },
   "outputs": [
    {
     "data": {
      "text/html": [
       "<div>\n",
       "<style scoped>\n",
       "    .dataframe tbody tr th:only-of-type {\n",
       "        vertical-align: middle;\n",
       "    }\n",
       "\n",
       "    .dataframe tbody tr th {\n",
       "        vertical-align: top;\n",
       "    }\n",
       "\n",
       "    .dataframe thead th {\n",
       "        text-align: right;\n",
       "    }\n",
       "</style>\n",
       "<table border=\"1\" class=\"dataframe\">\n",
       "  <thead>\n",
       "    <tr style=\"text-align: right;\">\n",
       "      <th></th>\n",
       "      <th>SKUID</th>\n",
       "      <th>PRODUCT_ENG_DESC</th>\n",
       "    </tr>\n",
       "  </thead>\n",
       "  <tbody>\n",
       "    <tr>\n",
       "      <th>0</th>\n",
       "      <td>11501</td>\n",
       "      <td>M&amp;S Mint Candy 50g</td>\n",
       "    </tr>\n",
       "    <tr>\n",
       "      <th>1</th>\n",
       "      <td>11679</td>\n",
       "      <td>M&amp;S Butter Choc Cookie225g</td>\n",
       "    </tr>\n",
       "    <tr>\n",
       "      <th>2</th>\n",
       "      <td>11693</td>\n",
       "      <td>M&amp;S Chocolate Chunk Cookie225g</td>\n",
       "    </tr>\n",
       "    <tr>\n",
       "      <th>3</th>\n",
       "      <td>11723</td>\n",
       "      <td>M&amp;S Pistachio AlmondCookie225g</td>\n",
       "    </tr>\n",
       "    <tr>\n",
       "      <th>4</th>\n",
       "      <td>11747</td>\n",
       "      <td>M&amp;S Chocolate Chunk Cookie225g</td>\n",
       "    </tr>\n",
       "  </tbody>\n",
       "</table>\n",
       "</div>"
      ],
      "text/plain": [
       "   SKUID                PRODUCT_ENG_DESC\n",
       "0  11501              M&S Mint Candy 50g\n",
       "1  11679      M&S Butter Choc Cookie225g\n",
       "2  11693  M&S Chocolate Chunk Cookie225g\n",
       "3  11723  M&S Pistachio AlmondCookie225g\n",
       "4  11747  M&S Chocolate Chunk Cookie225g"
      ]
     },
     "execution_count": 281,
     "metadata": {},
     "output_type": "execute_result"
    }
   ],
   "source": [
    "product_sorted = product.sort_values(by='SKUID')\n",
    "product_sorted = product_sorted.reset_index()\n",
    "product_sub = product_sorted[['SKUID','PRODUCT_ENG_DESC']]\n",
    "product_sub.head()"
   ]
  },
  {
   "cell_type": "markdown",
   "metadata": {},
   "source": [
    "### Result matching back"
   ]
  },
  {
   "cell_type": "markdown",
   "metadata": {},
   "source": [
    "#### Generating dictionary for both user and item"
   ]
  },
  {
   "cell_type": "code",
   "execution_count": 282,
   "metadata": {},
   "outputs": [],
   "source": [
    "user_matching_df = pd.read_csv('/Users/ito/venv/pyspark-rec/CG-Tops/user_matching_list', header=None, sep='\\t')\n",
    "item_matching_df = pd.read_csv('/Users/ito/venv/pyspark-rec/CG-Tops/item_matching_list', header=None, sep='\\t')"
   ]
  },
  {
   "cell_type": "code",
   "execution_count": 284,
   "metadata": {},
   "outputs": [],
   "source": [
    "user_matching_dict = user_matching_df.set_index([0]).to_dict()[1]\n",
    "item_matching_dict = item_matching_df.set_index([0]).to_dict()[1]"
   ]
  },
  {
   "cell_type": "markdown",
   "metadata": {},
   "source": [
    "#### Match back"
   ]
  },
  {
   "cell_type": "code",
   "execution_count": null,
   "metadata": {},
   "outputs": [],
   "source": [
    "customer_sub['CustomerID'] = customer_sub.CustomerID.map(user_matching_dict)\n",
    "customer_sub = customer_sub[customer_sub.CustomerID > 0]\n",
    "customer_sub['CustomerID'] = customer_sub.CustomerID.astype(int)"
   ]
  },
  {
   "cell_type": "code",
   "execution_count": 290,
   "metadata": {},
   "outputs": [
    {
     "data": {
      "text/html": [
       "<div>\n",
       "<style scoped>\n",
       "    .dataframe tbody tr th:only-of-type {\n",
       "        vertical-align: middle;\n",
       "    }\n",
       "\n",
       "    .dataframe tbody tr th {\n",
       "        vertical-align: top;\n",
       "    }\n",
       "\n",
       "    .dataframe thead th {\n",
       "        text-align: right;\n",
       "    }\n",
       "</style>\n",
       "<table border=\"1\" class=\"dataframe\">\n",
       "  <thead>\n",
       "    <tr style=\"text-align: right;\">\n",
       "      <th></th>\n",
       "      <th>CustomerID</th>\n",
       "      <th>Nationality</th>\n",
       "      <th>Gender</th>\n",
       "      <th>MaritalStatus</th>\n",
       "      <th>NoofChildren</th>\n",
       "      <th>Age</th>\n",
       "      <th>PossDivorced</th>\n",
       "    </tr>\n",
       "  </thead>\n",
       "  <tbody>\n",
       "    <tr>\n",
       "      <th>0</th>\n",
       "      <td>1</td>\n",
       "      <td>Thai</td>\n",
       "      <td>Female</td>\n",
       "      <td>Single</td>\n",
       "      <td>0</td>\n",
       "      <td>36</td>\n",
       "      <td>N. A.</td>\n",
       "    </tr>\n",
       "    <tr>\n",
       "      <th>1</th>\n",
       "      <td>2</td>\n",
       "      <td>Unknown</td>\n",
       "      <td>Unknown</td>\n",
       "      <td>Unknown</td>\n",
       "      <td>0</td>\n",
       "      <td>39</td>\n",
       "      <td>N. A.</td>\n",
       "    </tr>\n",
       "    <tr>\n",
       "      <th>2</th>\n",
       "      <td>3</td>\n",
       "      <td>Thai</td>\n",
       "      <td>Female</td>\n",
       "      <td>Single</td>\n",
       "      <td>0</td>\n",
       "      <td>37</td>\n",
       "      <td>N. A.</td>\n",
       "    </tr>\n",
       "    <tr>\n",
       "      <th>3</th>\n",
       "      <td>4</td>\n",
       "      <td>Thai</td>\n",
       "      <td>Female</td>\n",
       "      <td>Single</td>\n",
       "      <td>0</td>\n",
       "      <td>39</td>\n",
       "      <td>N. A.</td>\n",
       "    </tr>\n",
       "    <tr>\n",
       "      <th>5</th>\n",
       "      <td>5</td>\n",
       "      <td>Thai</td>\n",
       "      <td>Female</td>\n",
       "      <td>Single</td>\n",
       "      <td>0</td>\n",
       "      <td>30</td>\n",
       "      <td>N. A.</td>\n",
       "    </tr>\n",
       "  </tbody>\n",
       "</table>\n",
       "</div>"
      ],
      "text/plain": [
       "   CustomerID Nationality   Gender MaritalStatus  NoofChildren Age  \\\n",
       "0           1        Thai   Female        Single             0  36   \n",
       "1           2     Unknown  Unknown       Unknown             0  39   \n",
       "2           3        Thai   Female        Single             0  37   \n",
       "3           4        Thai   Female        Single             0  39   \n",
       "5           5        Thai   Female        Single             0  30   \n",
       "\n",
       "  PossDivorced  \n",
       "0        N. A.  \n",
       "1        N. A.  \n",
       "2        N. A.  \n",
       "3        N. A.  \n",
       "5        N. A.  "
      ]
     },
     "execution_count": 290,
     "metadata": {},
     "output_type": "execute_result"
    }
   ],
   "source": [
    "customer_sub.head()"
   ]
  },
  {
   "cell_type": "code",
   "execution_count": 293,
   "metadata": {},
   "outputs": [
    {
     "name": "stderr",
     "output_type": "stream",
     "text": [
      "/Users/ito/venv/pyspark-rec/lib/python2.7/site-packages/ipykernel_launcher.py:1: SettingWithCopyWarning: \n",
      "A value is trying to be set on a copy of a slice from a DataFrame.\n",
      "Try using .loc[row_indexer,col_indexer] = value instead\n",
      "\n",
      "See the caveats in the documentation: http://pandas.pydata.org/pandas-docs/stable/indexing.html#indexing-view-versus-copy\n",
      "  \"\"\"Entry point for launching an IPython kernel.\n"
     ]
    }
   ],
   "source": [
    "product_sub['SKUID'] = product_sub.SKUID.map(item_matching_dict)\n",
    "product_dict = product_sub.set_index('SKUID').to_dict()['PRODUCT_ENG_DESC']"
   ]
  },
  {
   "cell_type": "markdown",
   "metadata": {},
   "source": [
    "* Get back to the real information"
   ]
  },
  {
   "cell_type": "code",
   "execution_count": 308,
   "metadata": {},
   "outputs": [
    {
     "data": {
      "text/html": [
       "<div>\n",
       "<style scoped>\n",
       "    .dataframe tbody tr th:only-of-type {\n",
       "        vertical-align: middle;\n",
       "    }\n",
       "\n",
       "    .dataframe tbody tr th {\n",
       "        vertical-align: top;\n",
       "    }\n",
       "\n",
       "    .dataframe thead th {\n",
       "        text-align: right;\n",
       "    }\n",
       "</style>\n",
       "<table border=\"1\" class=\"dataframe\">\n",
       "  <thead>\n",
       "    <tr style=\"text-align: right;\">\n",
       "      <th></th>\n",
       "      <th>CustomerID</th>\n",
       "      <th>ItemIDs</th>\n",
       "    </tr>\n",
       "  </thead>\n",
       "  <tbody>\n",
       "    <tr>\n",
       "      <th>0</th>\n",
       "      <td>1</td>\n",
       "      <td>[11419, 25769, 27536, 37100, 24504, 10884, 11052]</td>\n",
       "    </tr>\n",
       "    <tr>\n",
       "      <th>1</th>\n",
       "      <td>2</td>\n",
       "      <td>[1226, 26894, 11890, 6945, 44039, 6951, 11052]</td>\n",
       "    </tr>\n",
       "    <tr>\n",
       "      <th>2</th>\n",
       "      <td>3</td>\n",
       "      <td>[30657, 108, 25403, 5555, 11052, 1226, 6945]</td>\n",
       "    </tr>\n",
       "    <tr>\n",
       "      <th>3</th>\n",
       "      <td>4</td>\n",
       "      <td>[6945, 6951, 10154, 11389, 11419, 37100, 39780]</td>\n",
       "    </tr>\n",
       "    <tr>\n",
       "      <th>4</th>\n",
       "      <td>5</td>\n",
       "      <td>[6951, 11389, 11419, 25769, 27536, 37100, 39898]</td>\n",
       "    </tr>\n",
       "  </tbody>\n",
       "</table>\n",
       "</div>"
      ],
      "text/plain": [
       "   CustomerID                                            ItemIDs\n",
       "0           1  [11419, 25769, 27536, 37100, 24504, 10884, 11052]\n",
       "1           2     [1226, 26894, 11890, 6945, 44039, 6951, 11052]\n",
       "2           3       [30657, 108, 25403, 5555, 11052, 1226, 6945]\n",
       "3           4    [6945, 6951, 10154, 11389, 11419, 37100, 39780]\n",
       "4           5   [6951, 11389, 11419, 25769, 27536, 37100, 39898]"
      ]
     },
     "execution_count": 308,
     "metadata": {},
     "output_type": "execute_result"
    }
   ],
   "source": [
    "Reco_df = pd.DataFrame(overall_result)\n",
    "Reco_df.columns = ['CustomerID','ItemIDs']\n",
    "Reco_df.head()"
   ]
  },
  {
   "cell_type": "markdown",
   "metadata": {},
   "source": [
    "* Merging (first stage)"
   ]
  },
  {
   "cell_type": "code",
   "execution_count": 332,
   "metadata": {},
   "outputs": [],
   "source": [
    "Reco_fs_df = pd.merge(customer_sub, Reco_df, on='CustomerID')"
   ]
  },
  {
   "cell_type": "code",
   "execution_count": 335,
   "metadata": {},
   "outputs": [
    {
     "data": {
      "text/html": [
       "<div>\n",
       "<style scoped>\n",
       "    .dataframe tbody tr th:only-of-type {\n",
       "        vertical-align: middle;\n",
       "    }\n",
       "\n",
       "    .dataframe tbody tr th {\n",
       "        vertical-align: top;\n",
       "    }\n",
       "\n",
       "    .dataframe thead th {\n",
       "        text-align: right;\n",
       "    }\n",
       "</style>\n",
       "<table border=\"1\" class=\"dataframe\">\n",
       "  <thead>\n",
       "    <tr style=\"text-align: right;\">\n",
       "      <th></th>\n",
       "      <th>CustomerID</th>\n",
       "      <th>Nationality</th>\n",
       "      <th>Gender</th>\n",
       "      <th>MaritalStatus</th>\n",
       "      <th>NoofChildren</th>\n",
       "      <th>Age</th>\n",
       "      <th>PossDivorced</th>\n",
       "      <th>ItemIDs</th>\n",
       "    </tr>\n",
       "  </thead>\n",
       "  <tbody>\n",
       "    <tr>\n",
       "      <th>0</th>\n",
       "      <td>1</td>\n",
       "      <td>Thai</td>\n",
       "      <td>Female</td>\n",
       "      <td>Single</td>\n",
       "      <td>0</td>\n",
       "      <td>36</td>\n",
       "      <td>N. A.</td>\n",
       "      <td>[11419, 25769, 27536, 37100, 24504, 10884, 11052]</td>\n",
       "    </tr>\n",
       "    <tr>\n",
       "      <th>1</th>\n",
       "      <td>2</td>\n",
       "      <td>Unknown</td>\n",
       "      <td>Unknown</td>\n",
       "      <td>Unknown</td>\n",
       "      <td>0</td>\n",
       "      <td>39</td>\n",
       "      <td>N. A.</td>\n",
       "      <td>[1226, 26894, 11890, 6945, 44039, 6951, 11052]</td>\n",
       "    </tr>\n",
       "    <tr>\n",
       "      <th>2</th>\n",
       "      <td>3</td>\n",
       "      <td>Thai</td>\n",
       "      <td>Female</td>\n",
       "      <td>Single</td>\n",
       "      <td>0</td>\n",
       "      <td>37</td>\n",
       "      <td>N. A.</td>\n",
       "      <td>[30657, 108, 25403, 5555, 11052, 1226, 6945]</td>\n",
       "    </tr>\n",
       "    <tr>\n",
       "      <th>3</th>\n",
       "      <td>4</td>\n",
       "      <td>Thai</td>\n",
       "      <td>Female</td>\n",
       "      <td>Single</td>\n",
       "      <td>0</td>\n",
       "      <td>39</td>\n",
       "      <td>N. A.</td>\n",
       "      <td>[6945, 6951, 10154, 11389, 11419, 37100, 39780]</td>\n",
       "    </tr>\n",
       "    <tr>\n",
       "      <th>4</th>\n",
       "      <td>5</td>\n",
       "      <td>Thai</td>\n",
       "      <td>Female</td>\n",
       "      <td>Single</td>\n",
       "      <td>0</td>\n",
       "      <td>30</td>\n",
       "      <td>N. A.</td>\n",
       "      <td>[6951, 11389, 11419, 25769, 27536, 37100, 39898]</td>\n",
       "    </tr>\n",
       "  </tbody>\n",
       "</table>\n",
       "</div>"
      ],
      "text/plain": [
       "   CustomerID Nationality   Gender MaritalStatus  NoofChildren Age  \\\n",
       "0           1        Thai   Female        Single             0  36   \n",
       "1           2     Unknown  Unknown       Unknown             0  39   \n",
       "2           3        Thai   Female        Single             0  37   \n",
       "3           4        Thai   Female        Single             0  39   \n",
       "4           5        Thai   Female        Single             0  30   \n",
       "\n",
       "  PossDivorced                                            ItemIDs  \n",
       "0        N. A.  [11419, 25769, 27536, 37100, 24504, 10884, 11052]  \n",
       "1        N. A.     [1226, 26894, 11890, 6945, 44039, 6951, 11052]  \n",
       "2        N. A.       [30657, 108, 25403, 5555, 11052, 1226, 6945]  \n",
       "3        N. A.    [6945, 6951, 10154, 11389, 11419, 37100, 39780]  \n",
       "4        N. A.   [6951, 11389, 11419, 25769, 27536, 37100, 39898]  "
      ]
     },
     "execution_count": 335,
     "metadata": {},
     "output_type": "execute_result"
    }
   ],
   "source": [
    "Reco_fs_df.head()"
   ]
  },
  {
   "cell_type": "markdown",
   "metadata": {},
   "source": [
    "* Merging (second stage)"
   ]
  },
  {
   "cell_type": "code",
   "execution_count": 336,
   "metadata": {},
   "outputs": [],
   "source": [
    "def ItemID_to_Name(input):\n",
    "    return [product_dict[each] for each in input]"
   ]
  },
  {
   "cell_type": "code",
   "execution_count": 337,
   "metadata": {},
   "outputs": [],
   "source": [
    "Reco_fs_df['ItemNames'] = Reco_fs_df.ItemIDs.map(ItemID_to_Name)\n",
    "Reco_fs_df.drop(columns='ItemIDs',inplace=True)\n",
    "Reco_fs_df.drop(columns='CustomerID',inplace=True)"
   ]
  },
  {
   "cell_type": "code",
   "execution_count": 348,
   "metadata": {},
   "outputs": [
    {
     "data": {
      "text/html": [
       "<div>\n",
       "<style scoped>\n",
       "    .dataframe tbody tr th:only-of-type {\n",
       "        vertical-align: middle;\n",
       "    }\n",
       "\n",
       "    .dataframe tbody tr th {\n",
       "        vertical-align: top;\n",
       "    }\n",
       "\n",
       "    .dataframe thead th {\n",
       "        text-align: right;\n",
       "    }\n",
       "</style>\n",
       "<table border=\"1\" class=\"dataframe\">\n",
       "  <thead>\n",
       "    <tr style=\"text-align: right;\">\n",
       "      <th></th>\n",
       "      <th>Nationality</th>\n",
       "      <th>Gender</th>\n",
       "      <th>MaritalStatus</th>\n",
       "      <th>NoofChildren</th>\n",
       "      <th>Age</th>\n",
       "      <th>PossDivorced</th>\n",
       "      <th>ItemNames</th>\n",
       "    </tr>\n",
       "  </thead>\n",
       "  <tbody>\n",
       "    <tr>\n",
       "      <th>0</th>\n",
       "      <td>Thai</td>\n",
       "      <td>Female</td>\n",
       "      <td>Single</td>\n",
       "      <td>0</td>\n",
       "      <td>36</td>\n",
       "      <td>N. A.</td>\n",
       "      <td>[Salad Bar(B, Meiji Past Milk Plain 2L, Nurse ...</td>\n",
       "    </tr>\n",
       "    <tr>\n",
       "      <th>1</th>\n",
       "      <td>Unknown</td>\n",
       "      <td>Unknown</td>\n",
       "      <td>Unknown</td>\n",
       "      <td>0</td>\n",
       "      <td>39</td>\n",
       "      <td>N. A.</td>\n",
       "      <td>[Green Bag, Roza Tuna Chunk in Oil 185g, Ban S...</td>\n",
       "    </tr>\n",
       "    <tr>\n",
       "      <th>2</th>\n",
       "      <td>Thai</td>\n",
       "      <td>Female</td>\n",
       "      <td>Single</td>\n",
       "      <td>0</td>\n",
       "      <td>37</td>\n",
       "      <td>N. A.</td>\n",
       "      <td>[Gumgig Pean 20 Tablets 1Box, My Choice Red Ch...</td>\n",
       "    </tr>\n",
       "    <tr>\n",
       "      <th>3</th>\n",
       "      <td>Thai</td>\n",
       "      <td>Female</td>\n",
       "      <td>Single</td>\n",
       "      <td>0</td>\n",
       "      <td>39</td>\n",
       "      <td>N. A.</td>\n",
       "      <td>[Kinder Joy Girls Chocolate 20g, Kinder Joy Bo...</td>\n",
       "    </tr>\n",
       "    <tr>\n",
       "      <th>4</th>\n",
       "      <td>Thai</td>\n",
       "      <td>Female</td>\n",
       "      <td>Single</td>\n",
       "      <td>0</td>\n",
       "      <td>30</td>\n",
       "      <td>N. A.</td>\n",
       "      <td>[Kinder Joy Boys Chocolate 20g, Australian Car...</td>\n",
       "    </tr>\n",
       "  </tbody>\n",
       "</table>\n",
       "</div>"
      ],
      "text/plain": [
       "  Nationality   Gender MaritalStatus  NoofChildren Age PossDivorced  \\\n",
       "0        Thai   Female        Single             0  36        N. A.   \n",
       "1     Unknown  Unknown       Unknown             0  39        N. A.   \n",
       "2        Thai   Female        Single             0  37        N. A.   \n",
       "3        Thai   Female        Single             0  39        N. A.   \n",
       "4        Thai   Female        Single             0  30        N. A.   \n",
       "\n",
       "                                           ItemNames  \n",
       "0  [Salad Bar(B, Meiji Past Milk Plain 2L, Nurse ...  \n",
       "1  [Green Bag, Roza Tuna Chunk in Oil 185g, Ban S...  \n",
       "2  [Gumgig Pean 20 Tablets 1Box, My Choice Red Ch...  \n",
       "3  [Kinder Joy Girls Chocolate 20g, Kinder Joy Bo...  \n",
       "4  [Kinder Joy Boys Chocolate 20g, Australian Car...  "
      ]
     },
     "execution_count": 348,
     "metadata": {},
     "output_type": "execute_result"
    }
   ],
   "source": [
    "Reco_fs_df.head()"
   ]
  },
  {
   "cell_type": "markdown",
   "metadata": {},
   "source": [
    "#### Recommendation Display (Note that this is the part which connects with UI/UX for displaying)"
   ]
  },
  {
   "cell_type": "markdown",
   "metadata": {},
   "source": [
    "* Hence if we would like to understand the recommendations, we could do so. Such as,"
   ]
  },
  {
   "cell_type": "code",
   "execution_count": 365,
   "metadata": {},
   "outputs": [],
   "source": [
    "_nationality = 'Thai'\n",
    "_gender = 'Female'\n",
    "_marry = 'Single'\n",
    "_agemin = 35\n",
    "_agemax = 40\n",
    "_numkidsmin = 2\n",
    "_divorce = 'Yes'"
   ]
  },
  {
   "cell_type": "code",
   "execution_count": 367,
   "metadata": {},
   "outputs": [
    {
     "data": {
      "text/html": [
       "<div>\n",
       "<style scoped>\n",
       "    .dataframe tbody tr th:only-of-type {\n",
       "        vertical-align: middle;\n",
       "    }\n",
       "\n",
       "    .dataframe tbody tr th {\n",
       "        vertical-align: top;\n",
       "    }\n",
       "\n",
       "    .dataframe thead th {\n",
       "        text-align: right;\n",
       "    }\n",
       "</style>\n",
       "<table border=\"1\" class=\"dataframe\">\n",
       "  <thead>\n",
       "    <tr style=\"text-align: right;\">\n",
       "      <th></th>\n",
       "      <th>Nationality</th>\n",
       "      <th>Gender</th>\n",
       "      <th>MaritalStatus</th>\n",
       "      <th>NoofChildren</th>\n",
       "      <th>Age</th>\n",
       "      <th>PossDivorced</th>\n",
       "      <th>ItemNames</th>\n",
       "    </tr>\n",
       "  </thead>\n",
       "  <tbody>\n",
       "    <tr>\n",
       "      <th>675</th>\n",
       "      <td>Thai</td>\n",
       "      <td>Female</td>\n",
       "      <td>Single</td>\n",
       "      <td>4</td>\n",
       "      <td>37</td>\n",
       "      <td>Yes</td>\n",
       "      <td>[Salty Chinese Dessert 50g, Gold Sardines Sauc...</td>\n",
       "    </tr>\n",
       "    <tr>\n",
       "      <th>1090</th>\n",
       "      <td>Thai</td>\n",
       "      <td>Female</td>\n",
       "      <td>Single</td>\n",
       "      <td>2</td>\n",
       "      <td>37</td>\n",
       "      <td>Yes</td>\n",
       "      <td>[Kinder Joy Girls Chocolate 20g, Kinder Joy Bo...</td>\n",
       "    </tr>\n",
       "    <tr>\n",
       "      <th>2033</th>\n",
       "      <td>Thai</td>\n",
       "      <td>Female</td>\n",
       "      <td>Single</td>\n",
       "      <td>3</td>\n",
       "      <td>38</td>\n",
       "      <td>Yes</td>\n",
       "      <td>[Nipponkai Sushi 1Bht(C, Kinder Joy Boys Choco...</td>\n",
       "    </tr>\n",
       "    <tr>\n",
       "      <th>2036</th>\n",
       "      <td>Thai</td>\n",
       "      <td>Female</td>\n",
       "      <td>Single</td>\n",
       "      <td>2</td>\n",
       "      <td>39</td>\n",
       "      <td>Yes</td>\n",
       "      <td>[Chinese Dessert 50g, Korean Strawberry 250g, ...</td>\n",
       "    </tr>\n",
       "    <tr>\n",
       "      <th>2231</th>\n",
       "      <td>Thai</td>\n",
       "      <td>Female</td>\n",
       "      <td>Single</td>\n",
       "      <td>2</td>\n",
       "      <td>37</td>\n",
       "      <td>Yes</td>\n",
       "      <td>[NYB2017 Basket No.40@590, Khum Palm Oil 1L, B...</td>\n",
       "    </tr>\n",
       "    <tr>\n",
       "      <th>3509</th>\n",
       "      <td>Thai</td>\n",
       "      <td>Female</td>\n",
       "      <td>Single</td>\n",
       "      <td>2</td>\n",
       "      <td>37</td>\n",
       "      <td>Yes</td>\n",
       "      <td>[Bee Palm Oil 1L Refil, Korean Strawberry 250g...</td>\n",
       "    </tr>\n",
       "    <tr>\n",
       "      <th>3531</th>\n",
       "      <td>Thai</td>\n",
       "      <td>Female</td>\n",
       "      <td>Single</td>\n",
       "      <td>2</td>\n",
       "      <td>38</td>\n",
       "      <td>Yes</td>\n",
       "      <td>[Nipponkai Sushi 5Bht(C, Kinder Joy Boys Choco...</td>\n",
       "    </tr>\n",
       "    <tr>\n",
       "      <th>4845</th>\n",
       "      <td>Thai</td>\n",
       "      <td>Female</td>\n",
       "      <td>Single</td>\n",
       "      <td>3</td>\n",
       "      <td>36</td>\n",
       "      <td>Yes</td>\n",
       "      <td>[Kinder Joy Boys Chocolate 20g, Hygienic Pork ...</td>\n",
       "    </tr>\n",
       "    <tr>\n",
       "      <th>6107</th>\n",
       "      <td>Thai</td>\n",
       "      <td>Female</td>\n",
       "      <td>Single</td>\n",
       "      <td>2</td>\n",
       "      <td>36</td>\n",
       "      <td>Yes</td>\n",
       "      <td>[Bee Palm Oil 1L Refil, Kinder Joy Boys Chocol...</td>\n",
       "    </tr>\n",
       "    <tr>\n",
       "      <th>8356</th>\n",
       "      <td>Thai</td>\n",
       "      <td>Female</td>\n",
       "      <td>Single</td>\n",
       "      <td>2</td>\n",
       "      <td>37</td>\n",
       "      <td>Yes</td>\n",
       "      <td>[SMS Cigarette American, Green Bag, Fiji Miner...</td>\n",
       "    </tr>\n",
       "    <tr>\n",
       "      <th>8460</th>\n",
       "      <td>Thai</td>\n",
       "      <td>Female</td>\n",
       "      <td>Single</td>\n",
       "      <td>2</td>\n",
       "      <td>38</td>\n",
       "      <td>Yes</td>\n",
       "      <td>[Australian Carrot, Nipponkai Sushi 5Bht(C, Sa...</td>\n",
       "    </tr>\n",
       "  </tbody>\n",
       "</table>\n",
       "</div>"
      ],
      "text/plain": [
       "     Nationality  Gender MaritalStatus  NoofChildren Age PossDivorced  \\\n",
       "675         Thai  Female        Single             4  37          Yes   \n",
       "1090        Thai  Female        Single             2  37          Yes   \n",
       "2033        Thai  Female        Single             3  38          Yes   \n",
       "2036        Thai  Female        Single             2  39          Yes   \n",
       "2231        Thai  Female        Single             2  37          Yes   \n",
       "3509        Thai  Female        Single             2  37          Yes   \n",
       "3531        Thai  Female        Single             2  38          Yes   \n",
       "4845        Thai  Female        Single             3  36          Yes   \n",
       "6107        Thai  Female        Single             2  36          Yes   \n",
       "8356        Thai  Female        Single             2  37          Yes   \n",
       "8460        Thai  Female        Single             2  38          Yes   \n",
       "\n",
       "                                              ItemNames  \n",
       "675   [Salty Chinese Dessert 50g, Gold Sardines Sauc...  \n",
       "1090  [Kinder Joy Girls Chocolate 20g, Kinder Joy Bo...  \n",
       "2033  [Nipponkai Sushi 1Bht(C, Kinder Joy Boys Choco...  \n",
       "2036  [Chinese Dessert 50g, Korean Strawberry 250g, ...  \n",
       "2231  [NYB2017 Basket No.40@590, Khum Palm Oil 1L, B...  \n",
       "3509  [Bee Palm Oil 1L Refil, Korean Strawberry 250g...  \n",
       "3531  [Nipponkai Sushi 5Bht(C, Kinder Joy Boys Choco...  \n",
       "4845  [Kinder Joy Boys Chocolate 20g, Hygienic Pork ...  \n",
       "6107  [Bee Palm Oil 1L Refil, Kinder Joy Boys Chocol...  \n",
       "8356  [SMS Cigarette American, Green Bag, Fiji Miner...  \n",
       "8460  [Australian Carrot, Nipponkai Sushi 5Bht(C, Sa...  "
      ]
     },
     "execution_count": 367,
     "metadata": {},
     "output_type": "execute_result"
    }
   ],
   "source": [
    "result_df = Reco_fs_df[(Reco_fs_df.Nationality == _nationality)\n",
    "                       &(Reco_fs_df.Gender == _gender)\n",
    "                       &(Reco_fs_df.MaritalStatus == _marry)\n",
    "                       &(Reco_fs_df.Age>_agemin)\n",
    "                       &(Reco_fs_df.Age<_agemax)&(Reco_fs_df.NoofChildren>=_numkidsmin)\n",
    "                       &(Reco_fs_df.PossDivorced == _divorce)]\n",
    "result_df"
   ]
  },
  {
   "cell_type": "markdown",
   "metadata": {},
   "source": [
    "* This also implies, different people have very different taste\n",
    "* Such segmentation cannot solve \"cold start\" issue (new customer comes, what to recommend)\n",
    "* Hence, we should do customer analysis to understand who are indeed in same group \n",
    "* Also, we can save to file for further analysis which our customers may be interested in"
   ]
  },
  {
   "cell_type": "code",
   "execution_count": 369,
   "metadata": {},
   "outputs": [],
   "source": [
    "result_df.to_csv('recommendation_result.csv',index=False)"
   ]
  },
  {
   "cell_type": "markdown",
   "metadata": {},
   "source": []
  },
  {
   "cell_type": "raw",
   "metadata": {},
   "source": []
  },
  {
   "cell_type": "code",
   "execution_count": null,
   "metadata": {},
   "outputs": [],
   "source": [
    "sc.stop()"
   ]
  },
  {
   "cell_type": "markdown",
   "metadata": {},
   "source": []
  },
  {
   "cell_type": "markdown",
   "metadata": {},
   "source": [
    "### Appendix (Amazon Review Dataset)"
   ]
  },
  {
   "cell_type": "code",
   "execution_count": 2,
   "metadata": {},
   "outputs": [],
   "source": [
    "# * Processing Amazon Data\n",
    "# %time\n",
    "# import pandas as pd\n",
    "# import gzip\n",
    "\n",
    "# def parse(path):\n",
    "#     g = gzip.open(path, 'rb')\n",
    "#     for l in g:\n",
    "#         yield eval(l)\n",
    "\n",
    "# def getDF(path):\n",
    "#     i = 0\n",
    "#     df = {}\n",
    "#     for d in parse(path):\n",
    "#         df[i] = d\n",
    "#         i += 1\n",
    "#     return pd.DataFrame.from_dict(df, orient='index')\n",
    "\n",
    "# def getDF2(path):\n",
    "#     df = {}\n",
    "#     for idx, d in enumerate(parse(path)):\n",
    "#         df[idx] = d\n",
    "#     return pd.DataFrame.from_dict(df, orient='index')"
   ]
  },
  {
   "cell_type": "code",
   "execution_count": 3,
   "metadata": {},
   "outputs": [],
   "source": [
    "# %time\n",
    "# reviews_df = getDF('/Users/ito/Downloads/reviews_Video_Games.json.gz')\n",
    "\n",
    "# %time\n",
    "# meta_df = getDF('/Users/ito/Downloads/meta_Video_Games.json.gz')"
   ]
  },
  {
   "cell_type": "code",
   "execution_count": 4,
   "metadata": {},
   "outputs": [],
   "source": [
    "# %time\n",
    "# meta_df2 = getDF2('/Users/ito/Downloads/meta_Video_Games.json.gz')"
   ]
  },
  {
   "cell_type": "code",
   "execution_count": 5,
   "metadata": {},
   "outputs": [],
   "source": [
    "# whether = pd.to_datetime(reviews_df.reviewTime)\n",
    "# whether.head()"
   ]
  },
  {
   "cell_type": "code",
   "execution_count": 6,
   "metadata": {},
   "outputs": [],
   "source": [
    "# %time\n",
    "# print reviews_df.shape\n",
    "# reviews_df.head(5)"
   ]
  },
  {
   "cell_type": "code",
   "execution_count": 7,
   "metadata": {},
   "outputs": [],
   "source": [
    "# sub_data = reviews_df[['reviewerID','asin','overall','unixReviewTime']]\n",
    "# sub_data = sub_data.sort_values(by=['reviewerID','asin'])"
   ]
  },
  {
   "cell_type": "code",
   "execution_count": 8,
   "metadata": {},
   "outputs": [],
   "source": [
    "# sub_data['CustomerCat'] = pd.Categorical(list(sub_data.reviewerID)).codes\n",
    "# sub_data['ItemCat'] = pd.Categorical(list(sub_data.asin)).codes"
   ]
  },
  {
   "cell_type": "code",
   "execution_count": 9,
   "metadata": {},
   "outputs": [],
   "source": [
    "# * Match the categorical ID with the real ID\n",
    "# idx_match = zip(sub_data['CustomerCat'],  sub_data.reviewerID)\n",
    "# itm_match = zip(sub_data['ItemCat'], sub_data.asin)\n",
    "# idx_dict = dict(idx_match)\n",
    "# itm_dict = dict(itm_match)\n",
    "# print idx_match[:5]\n",
    "# print itm_match[:5]"
   ]
  },
  {
   "cell_type": "code",
   "execution_count": 10,
   "metadata": {},
   "outputs": [],
   "source": [
    "# sub_data = sub_data[['CustomerCat','ItemCat','overall','unixReviewTime']]\n",
    "# _File_name = '/Users/ito/venv/pyspark-rec/Amazon_videogame_data'\n",
    "# # sub_data.to_csv(_File_name, index=False, header=False)\n",
    "# sub_data.to_csv(_File_name, index=False,header=False, sep='\\t')"
   ]
  },
  {
   "cell_type": "markdown",
   "metadata": {},
   "source": []
  },
  {
   "cell_type": "markdown",
   "metadata": {},
   "source": []
  }
 ],
 "metadata": {
  "kernelspec": {
   "display_name": "Python 2",
   "language": "python",
   "name": "python2"
  },
  "language_info": {
   "codemirror_mode": {
    "name": "ipython",
    "version": 2
   },
   "file_extension": ".py",
   "mimetype": "text/x-python",
   "name": "python",
   "nbconvert_exporter": "python",
   "pygments_lexer": "ipython2",
   "version": "2.7.10"
  }
 },
 "nbformat": 4,
 "nbformat_minor": 2
}
