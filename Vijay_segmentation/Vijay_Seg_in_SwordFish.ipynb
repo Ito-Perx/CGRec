{
 "cells": [
  {
   "cell_type": "markdown",
   "metadata": {},
   "source": [
    "\n",
    "# Perform Customer Clustering for CG based on user portrait and corresponding transactions\n"
   ]
  },
  {
   "cell_type": "code",
   "execution_count": 108,
   "metadata": {},
   "outputs": [],
   "source": [
    "# -*- coding: utf-8 -*-\n",
    "import sys, getopt\n",
    "import pandas as pd\n",
    "import datetime\n",
    "import os\n",
    "import Tkinter, tkFileDialog\n",
    "import numpy as np"
   ]
  },
  {
   "cell_type": "code",
   "execution_count": 109,
   "metadata": {},
   "outputs": [],
   "source": [
    "NOW = pd.to_datetime(datetime.date.today())\n",
    "inputfile = '/Users/ito/venv/pyspark-rec/data/VijayData.csv'"
   ]
  },
  {
   "cell_type": "markdown",
   "metadata": {},
   "source": [
    "### Load the data"
   ]
  },
  {
   "cell_type": "code",
   "execution_count": 110,
   "metadata": {},
   "outputs": [
    {
     "name": "stdout",
     "output_type": "stream",
     "text": [
      "(51243, 3)\n"
     ]
    },
    {
     "data": {
      "text/html": [
       "<div>\n",
       "<style scoped>\n",
       "    .dataframe tbody tr th:only-of-type {\n",
       "        vertical-align: middle;\n",
       "    }\n",
       "\n",
       "    .dataframe tbody tr th {\n",
       "        vertical-align: top;\n",
       "    }\n",
       "\n",
       "    .dataframe thead th {\n",
       "        text-align: right;\n",
       "    }\n",
       "</style>\n",
       "<table border=\"1\" class=\"dataframe\">\n",
       "  <thead>\n",
       "    <tr style=\"text-align: right;\">\n",
       "      <th></th>\n",
       "      <th>UserID</th>\n",
       "      <th>Spent</th>\n",
       "      <th>TimeStamp</th>\n",
       "    </tr>\n",
       "  </thead>\n",
       "  <tbody>\n",
       "    <tr>\n",
       "      <th>0</th>\n",
       "      <td>760</td>\n",
       "      <td>25.0</td>\n",
       "      <td>2009-06-11</td>\n",
       "    </tr>\n",
       "    <tr>\n",
       "      <th>1</th>\n",
       "      <td>860</td>\n",
       "      <td>50.0</td>\n",
       "      <td>2012-09-28</td>\n",
       "    </tr>\n",
       "    <tr>\n",
       "      <th>2</th>\n",
       "      <td>1200</td>\n",
       "      <td>100.0</td>\n",
       "      <td>2005-10-25</td>\n",
       "    </tr>\n",
       "    <tr>\n",
       "      <th>3</th>\n",
       "      <td>1420</td>\n",
       "      <td>50.0</td>\n",
       "      <td>2009-09-07</td>\n",
       "    </tr>\n",
       "    <tr>\n",
       "      <th>4</th>\n",
       "      <td>1940</td>\n",
       "      <td>70.0</td>\n",
       "      <td>2013-01-25</td>\n",
       "    </tr>\n",
       "  </tbody>\n",
       "</table>\n",
       "</div>"
      ],
      "text/plain": [
       "   UserID  Spent  TimeStamp\n",
       "0     760   25.0 2009-06-11\n",
       "1     860   50.0 2012-09-28\n",
       "2    1200  100.0 2005-10-25\n",
       "3    1420   50.0 2009-09-07\n",
       "4    1940   70.0 2013-01-25"
      ]
     },
     "execution_count": 110,
     "metadata": {},
     "output_type": "execute_result"
    }
   ],
   "source": [
    "orders = pd.read_csv(inputfile, sep=',', engine='c', parse_dates=['TimeStamp'])\n",
    "print orders.shape\n",
    "orders.head()"
   ]
  },
  {
   "cell_type": "markdown",
   "metadata": {},
   "source": [
    "* create RFM tables"
   ]
  },
  {
   "cell_type": "code",
   "execution_count": 111,
   "metadata": {},
   "outputs": [
    {
     "name": "stderr",
     "output_type": "stream",
     "text": [
      "/Users/ito/venv/pyspark-rec/lib/python2.7/site-packages/ipykernel_launcher.py:1: FutureWarning: using a dict on a Series for aggregation\n",
      "is deprecated and will be removed in a future version\n",
      "  \"\"\"Entry point for launching an IPython kernel.\n",
      "/Users/ito/venv/pyspark-rec/lib/python2.7/site-packages/ipykernel_launcher.py:2: FutureWarning: using a dict on a Series for aggregation\n",
      "is deprecated and will be removed in a future version\n",
      "  \n",
      "/Users/ito/venv/pyspark-rec/lib/python2.7/site-packages/ipykernel_launcher.py:3: FutureWarning: using a dict on a Series for aggregation\n",
      "is deprecated and will be removed in a future version\n",
      "  This is separate from the ipykernel package so we can avoid doing imports until\n"
     ]
    }
   ],
   "source": [
    "frequency = orders.groupby('UserID').Spent.agg({'frequency': lambda x: len(x)})\n",
    "recency = orders.groupby('UserID').TimeStamp.agg({'recency': lambda x: (NOW - x.max()).days})\n",
    "monetary_value = orders.groupby('UserID').Spent.agg({'monetary_value': lambda x: x.mean()})"
   ]
  },
  {
   "cell_type": "code",
   "execution_count": 112,
   "metadata": {},
   "outputs": [
    {
     "data": {
      "text/html": [
       "<div>\n",
       "<style scoped>\n",
       "    .dataframe tbody tr th:only-of-type {\n",
       "        vertical-align: middle;\n",
       "    }\n",
       "\n",
       "    .dataframe tbody tr th {\n",
       "        vertical-align: top;\n",
       "    }\n",
       "\n",
       "    .dataframe thead th {\n",
       "        text-align: right;\n",
       "    }\n",
       "</style>\n",
       "<table border=\"1\" class=\"dataframe\">\n",
       "  <thead>\n",
       "    <tr style=\"text-align: right;\">\n",
       "      <th></th>\n",
       "      <th>frequency</th>\n",
       "      <th>recency</th>\n",
       "      <th>monetary_value</th>\n",
       "    </tr>\n",
       "    <tr>\n",
       "      <th>UserID</th>\n",
       "      <th></th>\n",
       "      <th></th>\n",
       "      <th></th>\n",
       "    </tr>\n",
       "  </thead>\n",
       "  <tbody>\n",
       "    <tr>\n",
       "      <th>10</th>\n",
       "      <td>1.0</td>\n",
       "      <td>4601</td>\n",
       "      <td>30.000000</td>\n",
       "    </tr>\n",
       "    <tr>\n",
       "      <th>80</th>\n",
       "      <td>7.0</td>\n",
       "      <td>1145</td>\n",
       "      <td>71.428571</td>\n",
       "    </tr>\n",
       "    <tr>\n",
       "      <th>90</th>\n",
       "      <td>10.0</td>\n",
       "      <td>1796</td>\n",
       "      <td>115.800000</td>\n",
       "    </tr>\n",
       "    <tr>\n",
       "      <th>120</th>\n",
       "      <td>1.0</td>\n",
       "      <td>2261</td>\n",
       "      <td>20.000000</td>\n",
       "    </tr>\n",
       "    <tr>\n",
       "      <th>130</th>\n",
       "      <td>2.0</td>\n",
       "      <td>3772</td>\n",
       "      <td>50.000000</td>\n",
       "    </tr>\n",
       "  </tbody>\n",
       "</table>\n",
       "</div>"
      ],
      "text/plain": [
       "        frequency  recency  monetary_value\n",
       "UserID                                    \n",
       "10            1.0     4601       30.000000\n",
       "80            7.0     1145       71.428571\n",
       "90           10.0     1796      115.800000\n",
       "120           1.0     2261       20.000000\n",
       "130           2.0     3772       50.000000"
      ]
     },
     "execution_count": 112,
     "metadata": {},
     "output_type": "execute_result"
    }
   ],
   "source": [
    "portrait_df = pd.concat([frequency, recency, monetary_value],join=\"inner\",axis=1)\n",
    "portrait_df.head(5)"
   ]
  },
  {
   "cell_type": "markdown",
   "metadata": {},
   "source": [
    "## Perform Customer Clustering\n",
    "Data Normalization before training process -- Since the distance in sklearn's k-means is euclidean, while we should perform a similarity based clustering (e.g., cosine, PCC, etc.), hence the normalization will make the score of euclidean equalize to cosine -- so to perform similarity based clustering."
   ]
  },
  {
   "cell_type": "code",
   "execution_count": 113,
   "metadata": {},
   "outputs": [],
   "source": [
    "from sklearn.preprocessing import normalize\n",
    "\n",
    "X = np.array(portrait_df)\n",
    "normed_X = normalize(X, axis=0, norm='l1')\n",
    "X = normed_X\n",
    "# pd.DataFrame(X)[[0]].sum()"
   ]
  },
  {
   "cell_type": "code",
   "execution_count": 115,
   "metadata": {},
   "outputs": [],
   "source": [
    "# XX = np.array(portrait_df)\n",
    "# XX = normalize(XX, axis=0, norm='l2')\n",
    "# pd.DataFrame(XX)[[0]].sum()"
   ]
  },
  {
   "cell_type": "markdown",
   "metadata": {},
   "source": [
    "Suggested by Joc, hereby an elbow method for #cluster selection is conducted. "
   ]
  },
  {
   "cell_type": "markdown",
   "metadata": {},
   "source": [
    "Firstly, initialize the plot env."
   ]
  },
  {
   "cell_type": "code",
   "execution_count": 11,
   "metadata": {},
   "outputs": [],
   "source": [
    "import matplotlib.pyplot as plt\n",
    "%matplotlib inline\n",
    "%config InlineBackend.figure_format = 'retina'\n",
    "# plt.plot()\n",
    "# colors = ['b', 'g', 'r']\n",
    "# markers = ['o', 'v', 's']"
   ]
  },
  {
   "cell_type": "markdown",
   "metadata": {},
   "source": [
    "Perform k-means while tracking their avg clustering distortions.\n",
    "\n",
    "The “elkan” variation is more efficient by using the triangle inequality.\n",
    "And it doesn’t support sparse data -- which is good -- our data is dense :)"
   ]
  },
  {
   "cell_type": "code",
   "execution_count": 12,
   "metadata": {},
   "outputs": [],
   "source": [
    "from scipy.spatial.distance import cdist\n",
    "from sklearn.cluster import KMeans\n",
    "from sklearn import metrics\n",
    "\n",
    "distortions = []\n",
    "K = range(1,20)\n",
    "for k in K:\n",
    "    kmeanModel = KMeans(n_clusters=k, algorithm='elkan',init='k-means++').fit(X)\n",
    "    kmeanModel.fit(X)\n",
    "    distortions.append(sum(np.min(cdist(X, kmeanModel.cluster_centers_, 'cosine'), axis=1)) / X.shape[0])"
   ]
  },
  {
   "cell_type": "markdown",
   "metadata": {},
   "source": [
    "Plot the elbow according to the distortions from k-means."
   ]
  },
  {
   "cell_type": "code",
   "execution_count": 13,
   "metadata": {},
   "outputs": [
    {
     "data": {
      "image/png": "[encoded data removed]",
      "text/plain": [
       "<matplotlib.figure.Figure at 0x113b60510>"
      ]
     },
     "metadata": {
      "image/png": {
       "height": 603,
       "width": 728
      }
     },
     "output_type": "display_data"
    }
   ],
   "source": [
    "plt.plot(K, distortions, 'bo-')\n",
    "plt.xlabel('value of k')\n",
    "plt.ylabel('Distortion')\n",
    "plt.title('Using The Elbow Method to show the optimal k')\n",
    "plt.gcf().set_size_inches(12, 10)\n",
    "plt.show()"
   ]
  },
  {
   "cell_type": "markdown",
   "metadata": {},
   "source": [
    "At this stage, I would rather choose k = 5 for k, since 5, 6, 7.. share similar performance. Hence let's proceed to analyse when k = 5. \n",
    "\n",
    "Also we care about when k = 8."
   ]
  },
  {
   "cell_type": "code",
   "execution_count": 14,
   "metadata": {},
   "outputs": [],
   "source": [
    "# from sklearn.cluster import AffinityPropagation\n",
    "# APModel = AffinityPropagation().fit(X)"
   ]
  },
  {
   "cell_type": "markdown",
   "metadata": {},
   "source": [
    "## Clusters Analysis"
   ]
  },
  {
   "cell_type": "code",
   "execution_count": 16,
   "metadata": {},
   "outputs": [],
   "source": [
    "K=8\n",
    "kmeanModelfinal = KMeans(n_clusters=K, algorithm='elkan').fit(X)"
   ]
  },
  {
   "cell_type": "markdown",
   "metadata": {},
   "source": [
    "See the number of customers in each cluster."
   ]
  },
  {
   "cell_type": "code",
   "execution_count": 17,
   "metadata": {},
   "outputs": [
    {
     "name": "stdout",
     "output_type": "stream",
     "text": [
      "[5972, 34, 2357, 186, 8111, 90, 13, 1654]\n"
     ]
    }
   ],
   "source": [
    "from collections import Counter\n",
    "clusters = kmeanModelfinal.labels_.tolist()\n",
    "clusters_dic = Counter(clusters)\n",
    "pie_vec = [clusters_dic[i] for i in range(K)]\n",
    "print pie_vec"
   ]
  },
  {
   "cell_type": "markdown",
   "metadata": {},
   "source": [
    "A pie chart plot to visualize the % for each cluster."
   ]
  },
  {
   "cell_type": "code",
   "execution_count": 18,
   "metadata": {},
   "outputs": [
    {
     "data": {
      "image/png": "[encoded data removed]",
      "text/plain": [
       "<matplotlib.figure.Figure at 0x113b9bdd0>"
      ]
     },
     "metadata": {
      "image/png": {
       "height": 561,
       "width": 575
      }
     },
     "output_type": "display_data"
    }
   ],
   "source": [
    "# labels = ['1','2','3','4','5']\n",
    "labels = ['1','2','3','4','5','6','7','8']\n",
    "colors = ['lightskyblue', 'yellow', 'gold', 'lightcoral', 'yellowgreen', 'gold', 'lightcoral', 'yellowgreen']\n",
    "explode = (0, 0.2, 0.3, 0.4, 0.1,0.3, 0.1,0.3)\n",
    "plt.pie(pie_vec, labels=labels, explode=explode, colors=colors, autopct='%1.2f%%', shadow=True, startangle=90)\n",
    "plt.gcf().set_size_inches(10, 10)\n",
    "\n",
    "# Set aspect ratio to be equal so that pie is drawn as a circle.\n",
    "plt.axis('equal')\n",
    "plt.show()"
   ]
  },
  {
   "cell_type": "code",
   "execution_count": 19,
   "metadata": {},
   "outputs": [],
   "source": [
    "cluster_df = pd.DataFrame(clusters)\n",
    "cluster_df.index = portrait_df.index\n",
    "normalized_df = pd.DataFrame(X)\n",
    "normalized_df.index = portrait_df.index\n",
    "frame = pd.concat([portrait_df, normalized_df, cluster_df], axis=1)"
   ]
  },
  {
   "cell_type": "code",
   "execution_count": 20,
   "metadata": {},
   "outputs": [],
   "source": [
    "frame.columns = ['frequency', 'recency', 'monetary_value', 'norm_frequency', 'norm_recency', 'norm_monetary_value', 'group']\n",
    "frame.to_csv('VijayDataResult.csv')"
   ]
  },
  {
   "cell_type": "markdown",
   "metadata": {},
   "source": [
    "* Simply to check the difference between various clusters"
   ]
  },
  {
   "cell_type": "code",
   "execution_count": 97,
   "metadata": {},
   "outputs": [
    {
     "data": {
      "image/png": "[encoded data removed]",
      "text/plain": [
       "<matplotlib.figure.Figure at 0x114ca67d0>"
      ]
     },
     "metadata": {
      "image/png": {
       "height": 586,
       "width": 912
      }
     },
     "output_type": "display_data"
    }
   ],
   "source": [
    "frame[['frequency', 'recency', 'monetary_value','group']].groupby('group').boxplot()\n",
    "# rfm_amalysis_df[['frequency', 'recency', 'monetary_value']]\n",
    "plt.gcf().set_size_inches(15, 10)\n",
    "plt.show()"
   ]
  },
  {
   "cell_type": "code",
   "execution_count": 36,
   "metadata": {},
   "outputs": [
    {
     "data": {
      "text/html": [
       "<div>\n",
       "<style scoped>\n",
       "    .dataframe tbody tr th:only-of-type {\n",
       "        vertical-align: middle;\n",
       "    }\n",
       "\n",
       "    .dataframe tbody tr th {\n",
       "        vertical-align: top;\n",
       "    }\n",
       "\n",
       "    .dataframe thead th {\n",
       "        text-align: right;\n",
       "    }\n",
       "</style>\n",
       "<table border=\"1\" class=\"dataframe\">\n",
       "  <thead>\n",
       "    <tr style=\"text-align: right;\">\n",
       "      <th></th>\n",
       "      <th>frequency</th>\n",
       "      <th>recency</th>\n",
       "      <th>monetary_value</th>\n",
       "      <th>norm_frequency</th>\n",
       "      <th>norm_recency</th>\n",
       "      <th>norm_monetary_value</th>\n",
       "      <th>group</th>\n",
       "    </tr>\n",
       "    <tr>\n",
       "      <th>UserID</th>\n",
       "      <th></th>\n",
       "      <th></th>\n",
       "      <th></th>\n",
       "      <th></th>\n",
       "      <th></th>\n",
       "      <th></th>\n",
       "      <th></th>\n",
       "    </tr>\n",
       "  </thead>\n",
       "  <tbody>\n",
       "    <tr>\n",
       "      <th>10</th>\n",
       "      <td>1.0</td>\n",
       "      <td>4596</td>\n",
       "      <td>30.000000</td>\n",
       "      <td>0.000020</td>\n",
       "      <td>0.000121</td>\n",
       "      <td>0.000028</td>\n",
       "      <td>0</td>\n",
       "    </tr>\n",
       "    <tr>\n",
       "      <th>80</th>\n",
       "      <td>7.0</td>\n",
       "      <td>1140</td>\n",
       "      <td>71.428571</td>\n",
       "      <td>0.000137</td>\n",
       "      <td>0.000030</td>\n",
       "      <td>0.000067</td>\n",
       "      <td>2</td>\n",
       "    </tr>\n",
       "    <tr>\n",
       "      <th>90</th>\n",
       "      <td>10.0</td>\n",
       "      <td>1791</td>\n",
       "      <td>115.800000</td>\n",
       "      <td>0.000195</td>\n",
       "      <td>0.000047</td>\n",
       "      <td>0.000109</td>\n",
       "      <td>2</td>\n",
       "    </tr>\n",
       "    <tr>\n",
       "      <th>120</th>\n",
       "      <td>1.0</td>\n",
       "      <td>2256</td>\n",
       "      <td>20.000000</td>\n",
       "      <td>0.000020</td>\n",
       "      <td>0.000059</td>\n",
       "      <td>0.000019</td>\n",
       "      <td>0</td>\n",
       "    </tr>\n",
       "    <tr>\n",
       "      <th>130</th>\n",
       "      <td>2.0</td>\n",
       "      <td>3767</td>\n",
       "      <td>50.000000</td>\n",
       "      <td>0.000039</td>\n",
       "      <td>0.000099</td>\n",
       "      <td>0.000047</td>\n",
       "      <td>0</td>\n",
       "    </tr>\n",
       "  </tbody>\n",
       "</table>\n",
       "</div>"
      ],
      "text/plain": [
       "        frequency  recency  monetary_value  norm_frequency  norm_recency  \\\n",
       "UserID                                                                     \n",
       "10            1.0     4596       30.000000        0.000020      0.000121   \n",
       "80            7.0     1140       71.428571        0.000137      0.000030   \n",
       "90           10.0     1791      115.800000        0.000195      0.000047   \n",
       "120           1.0     2256       20.000000        0.000020      0.000059   \n",
       "130           2.0     3767       50.000000        0.000039      0.000099   \n",
       "\n",
       "        norm_monetary_value  group  \n",
       "UserID                              \n",
       "10                 0.000028      0  \n",
       "80                 0.000067      2  \n",
       "90                 0.000109      2  \n",
       "120                0.000019      0  \n",
       "130                0.000047      0  "
      ]
     },
     "execution_count": 36,
     "metadata": {},
     "output_type": "execute_result"
    }
   ],
   "source": [
    "frame.head()"
   ]
  },
  {
   "cell_type": "markdown",
   "metadata": {},
   "source": [
    "### budget analysis"
   ]
  },
  {
   "cell_type": "markdown",
   "metadata": {},
   "source": [
    "* These values below will be set in UI/UX as user input"
   ]
  },
  {
   "cell_type": "code",
   "execution_count": 276,
   "metadata": {},
   "outputs": [],
   "source": [
    "# total budget for this campaign\n",
    "budget = 800000\n",
    "# type of this reward, currently set as cash voucher for illustration, later will also set to cash back %\n",
    "type_reward = 'cash voucher'\n",
    "# minimum type of reward\n",
    "min_reward_amount = 5\n",
    "# minimum expiration == no expiration\n",
    "min_reward_exp = 'no expiration'\n",
    "# switch -- whether all of the consumers have reward\n",
    "all_distribute = 1"
   ]
  },
  {
   "cell_type": "markdown",
   "metadata": {},
   "source": [
    "* Summarize the RFM stats for each cluster considered"
   ]
  },
  {
   "cell_type": "code",
   "execution_count": 125,
   "metadata": {},
   "outputs": [
    {
     "data": {
      "text/html": [
       "<div>\n",
       "<style scoped>\n",
       "    .dataframe tbody tr th:only-of-type {\n",
       "        vertical-align: middle;\n",
       "    }\n",
       "\n",
       "    .dataframe tbody tr th {\n",
       "        vertical-align: top;\n",
       "    }\n",
       "\n",
       "    .dataframe thead th {\n",
       "        text-align: right;\n",
       "    }\n",
       "</style>\n",
       "<table border=\"1\" class=\"dataframe\">\n",
       "  <thead>\n",
       "    <tr style=\"text-align: right;\">\n",
       "      <th></th>\n",
       "      <th>frequency</th>\n",
       "      <th>recency</th>\n",
       "      <th>monetary_value</th>\n",
       "      <th>num_in_group</th>\n",
       "      <th>spent</th>\n",
       "    </tr>\n",
       "    <tr>\n",
       "      <th>group</th>\n",
       "      <th></th>\n",
       "      <th></th>\n",
       "      <th></th>\n",
       "      <th></th>\n",
       "      <th></th>\n",
       "    </tr>\n",
       "  </thead>\n",
       "  <tbody>\n",
       "    <tr>\n",
       "      <th>0</th>\n",
       "      <td>1.400871</td>\n",
       "      <td>3331.585064</td>\n",
       "      <td>29.307947</td>\n",
       "      <td>5972</td>\n",
       "      <td>175027.056667</td>\n",
       "    </tr>\n",
       "    <tr>\n",
       "      <th>4</th>\n",
       "      <td>2.080631</td>\n",
       "      <td>1451.395759</td>\n",
       "      <td>34.615499</td>\n",
       "      <td>8111</td>\n",
       "      <td>280766.316167</td>\n",
       "    </tr>\n",
       "    <tr>\n",
       "      <th>2</th>\n",
       "      <td>8.971574</td>\n",
       "      <td>1181.036063</td>\n",
       "      <td>49.343679</td>\n",
       "      <td>2357</td>\n",
       "      <td>116303.050632</td>\n",
       "    </tr>\n",
       "    <tr>\n",
       "      <th>7</th>\n",
       "      <td>2.261790</td>\n",
       "      <td>1819.492140</td>\n",
       "      <td>123.517868</td>\n",
       "      <td>1654</td>\n",
       "      <td>204298.554444</td>\n",
       "    </tr>\n",
       "    <tr>\n",
       "      <th>3</th>\n",
       "      <td>4.118280</td>\n",
       "      <td>1572.462366</td>\n",
       "      <td>431.924935</td>\n",
       "      <td>186</td>\n",
       "      <td>80338.037866</td>\n",
       "    </tr>\n",
       "    <tr>\n",
       "      <th>5</th>\n",
       "      <td>2.722222</td>\n",
       "      <td>1662.477778</td>\n",
       "      <td>1039.724983</td>\n",
       "      <td>90</td>\n",
       "      <td>93575.248463</td>\n",
       "    </tr>\n",
       "    <tr>\n",
       "      <th>1</th>\n",
       "      <td>2.147059</td>\n",
       "      <td>2306.676471</td>\n",
       "      <td>1977.099776</td>\n",
       "      <td>34</td>\n",
       "      <td>67221.392381</td>\n",
       "    </tr>\n",
       "    <tr>\n",
       "      <th>6</th>\n",
       "      <td>2.307692</td>\n",
       "      <td>1600.769231</td>\n",
       "      <td>3603.365385</td>\n",
       "      <td>13</td>\n",
       "      <td>46843.750000</td>\n",
       "    </tr>\n",
       "  </tbody>\n",
       "</table>\n",
       "</div>"
      ],
      "text/plain": [
       "       frequency      recency  monetary_value  num_in_group          spent\n",
       "group                                                                     \n",
       "0       1.400871  3331.585064       29.307947          5972  175027.056667\n",
       "4       2.080631  1451.395759       34.615499          8111  280766.316167\n",
       "2       8.971574  1181.036063       49.343679          2357  116303.050632\n",
       "7       2.261790  1819.492140      123.517868          1654  204298.554444\n",
       "3       4.118280  1572.462366      431.924935           186   80338.037866\n",
       "5       2.722222  1662.477778     1039.724983            90   93575.248463\n",
       "1       2.147059  2306.676471     1977.099776            34   67221.392381\n",
       "6       2.307692  1600.769231     3603.365385            13   46843.750000"
      ]
     },
     "execution_count": 125,
     "metadata": {},
     "output_type": "execute_result"
    }
   ],
   "source": [
    "rfm_amalysis_df = frame.groupby('group').agg({'frequency': lambda x: x.mean(), # Recency\n",
    "                                              'recency': lambda x: x.mean(),      # Frequency\n",
    "                                              'monetary_value': lambda x: x.mean()}) # Monetary Value\"\n",
    "rfm_amalysis_df['num_in_group'] = frame.groupby('group').frequency.count()\n",
    "rfm_amalysis_df['spent'] = frame.groupby('group').monetary_value.sum()\n",
    "rfm_amalysis_df.sort_values('monetary_value')"
   ]
  },
  {
   "cell_type": "markdown",
   "metadata": {},
   "source": [
    "E.g., all of our customers get reward distributed."
   ]
  },
  {
   "cell_type": "code",
   "execution_count": 280,
   "metadata": {
    "scrolled": true
   },
   "outputs": [
    {
     "name": "stderr",
     "output_type": "stream",
     "text": [
      "/Users/ito/venv/pyspark-rec/lib/python2.7/site-packages/ipykernel_launcher.py:11: SettingWithCopyWarning: \n",
      "A value is trying to be set on a copy of a slice from a DataFrame.\n",
      "Try using .loc[row_indexer,col_indexer] = value instead\n",
      "\n",
      "See the caveats in the documentation: http://pandas.pydata.org/pandas-docs/stable/indexing.html#indexing-view-versus-copy\n",
      "  # This is added back by InteractiveShellApp.init_path()\n",
      "/Users/ito/venv/pyspark-rec/lib/python2.7/site-packages/ipykernel_launcher.py:15: SettingWithCopyWarning: \n",
      "A value is trying to be set on a copy of a slice from a DataFrame.\n",
      "Try using .loc[row_indexer,col_indexer] = value instead\n",
      "\n",
      "See the caveats in the documentation: http://pandas.pydata.org/pandas-docs/stable/indexing.html#indexing-view-versus-copy\n",
      "  from ipykernel import kernelapp as app\n",
      "/Users/ito/venv/pyspark-rec/lib/python2.7/site-packages/ipykernel_launcher.py:16: SettingWithCopyWarning: \n",
      "A value is trying to be set on a copy of a slice from a DataFrame.\n",
      "Try using .loc[row_indexer,col_indexer] = value instead\n",
      "\n",
      "See the caveats in the documentation: http://pandas.pydata.org/pandas-docs/stable/indexing.html#indexing-view-versus-copy\n",
      "  app.launch_new_instance()\n",
      "/Users/ito/venv/pyspark-rec/lib/python2.7/site-packages/ipykernel_launcher.py:18: SettingWithCopyWarning: \n",
      "A value is trying to be set on a copy of a slice from a DataFrame.\n",
      "Try using .loc[row_indexer,col_indexer] = value instead\n",
      "\n",
      "See the caveats in the documentation: http://pandas.pydata.org/pandas-docs/stable/indexing.html#indexing-view-versus-copy\n"
     ]
    }
   ],
   "source": [
    "rfm_sort_mv_df = rfm_amalysis_df.sort_values('monetary_value').reset_index()\n",
    "\n",
    "if all_distribute == 1:\n",
    "    low_mv_df = rfm_sort_mv_df[rfm_sort_mv_df.monetary_value<frame.monetary_value.mean()]\n",
    "    high_mv_df = rfm_sort_mv_df[rfm_sort_mv_df.monetary_value>=frame.monetary_value.mean()]\n",
    "    rest_reward = budget - min_reward * low_mv_df.num_in_group.sum()\n",
    "    \n",
    "    ##########################################\n",
    "    # for those who are below average comsumption\n",
    "    low_mv_reward = str(1) + ' piece of ' + str(min_reward_amount) + ' dollar ' + type_reward + ', ' + min_reward_exp\n",
    "    low_mv_df['reward'] = low_mv_reward\n",
    "    \n",
    "    ##########################################\n",
    "    # for those who are above\n",
    "    high_mv_df['total_reward'] = high_mv_df.monetary_value / high_mv_df.monetary_value.sum() * rest_reward\n",
    "    high_mv_df['indiv_reward'] = high_mv_df.total_reward / high_mv_df.num_in_group\n",
    "\n",
    "    high_mv_df['recency'] = high_mv_df.recency - high_mv_df.recency.min()\n",
    "    high_mv_df = high_mv_df.sort_values('recency')\n",
    "    high_mv_df['recency'] = high_mv_df.recency / 7 # week\n",
    "\n",
    "    tickets = 2 / high_mv_df.frequency * high_mv_df.frequency.max() \n",
    "    high_mv_df['tickets'] = tickets.map(np.round)\n"
   ]
  },
  {
   "cell_type": "markdown",
   "metadata": {},
   "source": [
    "* A simple algo that returns the number of bits for the figure"
   ]
  },
  {
   "cell_type": "code",
   "execution_count": 279,
   "metadata": {},
   "outputs": [],
   "source": [
    "def return_bits(input):\n",
    "    i=0\n",
    "    input = int(input)\n",
    "    while 1:\n",
    "        if input/10 == 0:\n",
    "            return i\n",
    "        else:\n",
    "            input = input / 10\n",
    "            i = i+1"
   ]
  },
  {
   "cell_type": "markdown",
   "metadata": {},
   "source": [
    "## According to the consumption behaviour, ppl are segmented to low groups and high groups, where different rewards will be given"
   ]
  },
  {
   "cell_type": "code",
   "execution_count": 282,
   "metadata": {},
   "outputs": [
    {
     "data": {
      "text/html": [
       "<div>\n",
       "<style scoped>\n",
       "    .dataframe tbody tr th:only-of-type {\n",
       "        vertical-align: middle;\n",
       "    }\n",
       "\n",
       "    .dataframe tbody tr th {\n",
       "        vertical-align: top;\n",
       "    }\n",
       "\n",
       "    .dataframe thead th {\n",
       "        text-align: right;\n",
       "    }\n",
       "</style>\n",
       "<table border=\"1\" class=\"dataframe\">\n",
       "  <thead>\n",
       "    <tr style=\"text-align: right;\">\n",
       "      <th></th>\n",
       "      <th>group</th>\n",
       "      <th>frequency</th>\n",
       "      <th>recency</th>\n",
       "      <th>monetary_value</th>\n",
       "      <th>num_in_group</th>\n",
       "      <th>spent</th>\n",
       "      <th>reward</th>\n",
       "    </tr>\n",
       "  </thead>\n",
       "  <tbody>\n",
       "    <tr>\n",
       "      <th>0</th>\n",
       "      <td>0</td>\n",
       "      <td>1.400871</td>\n",
       "      <td>3331.585064</td>\n",
       "      <td>29.307947</td>\n",
       "      <td>5972</td>\n",
       "      <td>175027.056667</td>\n",
       "      <td>1 piece of 5 dollar cash voucher, no expiration</td>\n",
       "    </tr>\n",
       "    <tr>\n",
       "      <th>1</th>\n",
       "      <td>4</td>\n",
       "      <td>2.080631</td>\n",
       "      <td>1451.395759</td>\n",
       "      <td>34.615499</td>\n",
       "      <td>8111</td>\n",
       "      <td>280766.316167</td>\n",
       "      <td>1 piece of 5 dollar cash voucher, no expiration</td>\n",
       "    </tr>\n",
       "    <tr>\n",
       "      <th>2</th>\n",
       "      <td>2</td>\n",
       "      <td>8.971574</td>\n",
       "      <td>1181.036063</td>\n",
       "      <td>49.343679</td>\n",
       "      <td>2357</td>\n",
       "      <td>116303.050632</td>\n",
       "      <td>1 piece of 5 dollar cash voucher, no expiration</td>\n",
       "    </tr>\n",
       "  </tbody>\n",
       "</table>\n",
       "</div>"
      ],
      "text/plain": [
       "   group  frequency      recency  monetary_value  num_in_group          spent  \\\n",
       "0      0   1.400871  3331.585064       29.307947          5972  175027.056667   \n",
       "1      4   2.080631  1451.395759       34.615499          8111  280766.316167   \n",
       "2      2   8.971574  1181.036063       49.343679          2357  116303.050632   \n",
       "\n",
       "                                            reward  \n",
       "0  1 piece of 5 dollar cash voucher, no expiration  \n",
       "1  1 piece of 5 dollar cash voucher, no expiration  \n",
       "2  1 piece of 5 dollar cash voucher, no expiration  "
      ]
     },
     "execution_count": 282,
     "metadata": {},
     "output_type": "execute_result"
    }
   ],
   "source": [
    "low_mv_df"
   ]
  },
  {
   "cell_type": "markdown",
   "metadata": {},
   "source": [
    "* According to frequency and recency, we have the following distribution, where\n",
    "    * frequency controls the number of the vouchers (we encourage lesser frequent consumers)\n",
    "    * recency controls the expiration of the vouchers (we encourage those 'long time no see' a quick back)\n",
    "* Monetary value is adapting with return_bits() for rounding issue"
   ]
  },
  {
   "cell_type": "code",
   "execution_count": 281,
   "metadata": {},
   "outputs": [
    {
     "data": {
      "text/html": [
       "<div>\n",
       "<style scoped>\n",
       "    .dataframe tbody tr th:only-of-type {\n",
       "        vertical-align: middle;\n",
       "    }\n",
       "\n",
       "    .dataframe tbody tr th {\n",
       "        vertical-align: top;\n",
       "    }\n",
       "\n",
       "    .dataframe thead th {\n",
       "        text-align: right;\n",
       "    }\n",
       "</style>\n",
       "<table border=\"1\" class=\"dataframe\">\n",
       "  <thead>\n",
       "    <tr style=\"text-align: right;\">\n",
       "      <th></th>\n",
       "      <th>frequency</th>\n",
       "      <th>recency</th>\n",
       "      <th>monetary_value</th>\n",
       "      <th>group</th>\n",
       "      <th>num_in_group</th>\n",
       "      <th>spent</th>\n",
       "      <th>reward</th>\n",
       "    </tr>\n",
       "  </thead>\n",
       "  <tbody>\n",
       "    <tr>\n",
       "      <th>4</th>\n",
       "      <td>4.118280</td>\n",
       "      <td>0.000000</td>\n",
       "      <td>431.924935</td>\n",
       "      <td>3</td>\n",
       "      <td>186</td>\n",
       "      <td>80338.037866</td>\n",
       "      <td>2 pieces of 100.0 dollar cash voucher, 5 weeks...</td>\n",
       "    </tr>\n",
       "    <tr>\n",
       "      <th>7</th>\n",
       "      <td>2.307692</td>\n",
       "      <td>4.043838</td>\n",
       "      <td>3603.365385</td>\n",
       "      <td>6</td>\n",
       "      <td>13</td>\n",
       "      <td>46843.750000</td>\n",
       "      <td>4 pieces of 7000.0 dollar cash voucher, 4 week...</td>\n",
       "    </tr>\n",
       "    <tr>\n",
       "      <th>5</th>\n",
       "      <td>2.722222</td>\n",
       "      <td>12.859345</td>\n",
       "      <td>1039.724983</td>\n",
       "      <td>5</td>\n",
       "      <td>90</td>\n",
       "      <td>93575.248463</td>\n",
       "      <td>3 pieces of 400.0 dollar cash voucher, 3 weeks...</td>\n",
       "    </tr>\n",
       "    <tr>\n",
       "      <th>3</th>\n",
       "      <td>2.261790</td>\n",
       "      <td>35.289968</td>\n",
       "      <td>123.517868</td>\n",
       "      <td>7</td>\n",
       "      <td>1654</td>\n",
       "      <td>204298.554444</td>\n",
       "      <td>4 pieces of 2.0 dollar cash voucher, 2 weeks o...</td>\n",
       "    </tr>\n",
       "    <tr>\n",
       "      <th>6</th>\n",
       "      <td>2.147059</td>\n",
       "      <td>104.887729</td>\n",
       "      <td>1977.099776</td>\n",
       "      <td>1</td>\n",
       "      <td>34</td>\n",
       "      <td>67221.392381</td>\n",
       "      <td>4 pieces of 1000.0 dollar cash voucher, 1 week...</td>\n",
       "    </tr>\n",
       "  </tbody>\n",
       "</table>\n",
       "</div>"
      ],
      "text/plain": [
       "   frequency     recency  monetary_value  group  num_in_group          spent  \\\n",
       "4   4.118280    0.000000      431.924935      3           186   80338.037866   \n",
       "7   2.307692    4.043838     3603.365385      6            13   46843.750000   \n",
       "5   2.722222   12.859345     1039.724983      5            90   93575.248463   \n",
       "3   2.261790   35.289968      123.517868      7          1654  204298.554444   \n",
       "6   2.147059  104.887729     1977.099776      1            34   67221.392381   \n",
       "\n",
       "                                              reward  \n",
       "4  2 pieces of 100.0 dollar cash voucher, 5 weeks...  \n",
       "7  4 pieces of 7000.0 dollar cash voucher, 4 week...  \n",
       "5  3 pieces of 400.0 dollar cash voucher, 3 weeks...  \n",
       "3  4 pieces of 2.0 dollar cash voucher, 2 weeks o...  \n",
       "6  4 pieces of 1000.0 dollar cash voucher, 1 week...  "
      ]
     },
     "execution_count": 281,
     "metadata": {},
     "output_type": "execute_result"
    }
   ],
   "source": [
    "reward_for_high = []\n",
    "for i in range(high_mv_df.shape[0]):\n",
    "    sub_money = high_mv_df.iloc[i].indiv_reward / high_mv_df.iloc[i].tickets\n",
    "    reward_for_high.append(str(int(high_mv_df.iloc[i].tickets)) + ' pieces of ' + \\\n",
    "    str(np.round(sub_money, decimals = -return_bits(sub_money))) +\\\n",
    "    ' dollar ' + type_reward + ', ' + str((high_mv_df.shape[0] - i)) + ' weeks of expiration') \n",
    "    \n",
    "high_mv_df['reward'] = pd.Series(data=reward_for_high, index=high_mv_df.group.index)\n",
    "high_mv_df = high_mv_df[['frequency', 'recency', 'monetary_value','group','num_in_group', 'spent', 'reward']]\n",
    "high_mv_df"
   ]
  },
  {
   "cell_type": "code",
   "execution_count": 286,
   "metadata": {},
   "outputs": [
    {
     "data": {
      "text/html": [
       "<div>\n",
       "<style scoped>\n",
       "    .dataframe tbody tr th:only-of-type {\n",
       "        vertical-align: middle;\n",
       "    }\n",
       "\n",
       "    .dataframe tbody tr th {\n",
       "        vertical-align: top;\n",
       "    }\n",
       "\n",
       "    .dataframe thead th {\n",
       "        text-align: right;\n",
       "    }\n",
       "</style>\n",
       "<table border=\"1\" class=\"dataframe\">\n",
       "  <thead>\n",
       "    <tr style=\"text-align: right;\">\n",
       "      <th></th>\n",
       "      <th>frequency</th>\n",
       "      <th>group</th>\n",
       "      <th>monetary_value</th>\n",
       "      <th>num_in_group</th>\n",
       "      <th>recency</th>\n",
       "      <th>reward</th>\n",
       "      <th>spent</th>\n",
       "    </tr>\n",
       "  </thead>\n",
       "  <tbody>\n",
       "    <tr>\n",
       "      <th>0</th>\n",
       "      <td>1.400871</td>\n",
       "      <td>0</td>\n",
       "      <td>29.307947</td>\n",
       "      <td>5972</td>\n",
       "      <td>3331.585064</td>\n",
       "      <td>1 piece of 5 dollar cash voucher, no expiration</td>\n",
       "      <td>175027.056667</td>\n",
       "    </tr>\n",
       "    <tr>\n",
       "      <th>6</th>\n",
       "      <td>2.147059</td>\n",
       "      <td>1</td>\n",
       "      <td>1977.099776</td>\n",
       "      <td>34</td>\n",
       "      <td>104.887729</td>\n",
       "      <td>4 pieces of 1000.0 dollar cash voucher, 1 week...</td>\n",
       "      <td>67221.392381</td>\n",
       "    </tr>\n",
       "    <tr>\n",
       "      <th>2</th>\n",
       "      <td>8.971574</td>\n",
       "      <td>2</td>\n",
       "      <td>49.343679</td>\n",
       "      <td>2357</td>\n",
       "      <td>1181.036063</td>\n",
       "      <td>1 piece of 5 dollar cash voucher, no expiration</td>\n",
       "      <td>116303.050632</td>\n",
       "    </tr>\n",
       "    <tr>\n",
       "      <th>4</th>\n",
       "      <td>4.118280</td>\n",
       "      <td>3</td>\n",
       "      <td>431.924935</td>\n",
       "      <td>186</td>\n",
       "      <td>0.000000</td>\n",
       "      <td>2 pieces of 100.0 dollar cash voucher, 5 weeks...</td>\n",
       "      <td>80338.037866</td>\n",
       "    </tr>\n",
       "    <tr>\n",
       "      <th>1</th>\n",
       "      <td>2.080631</td>\n",
       "      <td>4</td>\n",
       "      <td>34.615499</td>\n",
       "      <td>8111</td>\n",
       "      <td>1451.395759</td>\n",
       "      <td>1 piece of 5 dollar cash voucher, no expiration</td>\n",
       "      <td>280766.316167</td>\n",
       "    </tr>\n",
       "    <tr>\n",
       "      <th>5</th>\n",
       "      <td>2.722222</td>\n",
       "      <td>5</td>\n",
       "      <td>1039.724983</td>\n",
       "      <td>90</td>\n",
       "      <td>12.859345</td>\n",
       "      <td>3 pieces of 400.0 dollar cash voucher, 3 weeks...</td>\n",
       "      <td>93575.248463</td>\n",
       "    </tr>\n",
       "    <tr>\n",
       "      <th>7</th>\n",
       "      <td>2.307692</td>\n",
       "      <td>6</td>\n",
       "      <td>3603.365385</td>\n",
       "      <td>13</td>\n",
       "      <td>4.043838</td>\n",
       "      <td>4 pieces of 7000.0 dollar cash voucher, 4 week...</td>\n",
       "      <td>46843.750000</td>\n",
       "    </tr>\n",
       "    <tr>\n",
       "      <th>3</th>\n",
       "      <td>2.261790</td>\n",
       "      <td>7</td>\n",
       "      <td>123.517868</td>\n",
       "      <td>1654</td>\n",
       "      <td>35.289968</td>\n",
       "      <td>4 pieces of 2.0 dollar cash voucher, 2 weeks o...</td>\n",
       "      <td>204298.554444</td>\n",
       "    </tr>\n",
       "  </tbody>\n",
       "</table>\n",
       "</div>"
      ],
      "text/plain": [
       "   frequency  group  monetary_value  num_in_group      recency  \\\n",
       "0   1.400871      0       29.307947          5972  3331.585064   \n",
       "6   2.147059      1     1977.099776            34   104.887729   \n",
       "2   8.971574      2       49.343679          2357  1181.036063   \n",
       "4   4.118280      3      431.924935           186     0.000000   \n",
       "1   2.080631      4       34.615499          8111  1451.395759   \n",
       "5   2.722222      5     1039.724983            90    12.859345   \n",
       "7   2.307692      6     3603.365385            13     4.043838   \n",
       "3   2.261790      7      123.517868          1654    35.289968   \n",
       "\n",
       "                                              reward          spent  \n",
       "0    1 piece of 5 dollar cash voucher, no expiration  175027.056667  \n",
       "6  4 pieces of 1000.0 dollar cash voucher, 1 week...   67221.392381  \n",
       "2    1 piece of 5 dollar cash voucher, no expiration  116303.050632  \n",
       "4  2 pieces of 100.0 dollar cash voucher, 5 weeks...   80338.037866  \n",
       "1    1 piece of 5 dollar cash voucher, no expiration  280766.316167  \n",
       "5  3 pieces of 400.0 dollar cash voucher, 3 weeks...   93575.248463  \n",
       "7  4 pieces of 7000.0 dollar cash voucher, 4 week...   46843.750000  \n",
       "3  4 pieces of 2.0 dollar cash voucher, 2 weeks o...  204298.554444  "
      ]
     },
     "execution_count": 286,
     "metadata": {},
     "output_type": "execute_result"
    }
   ],
   "source": [
    "result_df = pd.concat([low_mv_df,high_mv_df]).sort_values('group')\n",
    "result_df"
   ]
  },
  {
   "cell_type": "markdown",
   "metadata": {},
   "source": [
    "* The full reward messages for the data frame above"
   ]
  },
  {
   "cell_type": "code",
   "execution_count": 287,
   "metadata": {},
   "outputs": [
    {
     "name": "stdout",
     "output_type": "stream",
     "text": [
      "1 piece of 5 dollar cash voucher, no expiration\n",
      "4 pieces of 1000.0 dollar cash voucher, 1 weeks of expiration\n",
      "1 piece of 5 dollar cash voucher, no expiration\n",
      "2 pieces of 100.0 dollar cash voucher, 5 weeks of expiration\n",
      "1 piece of 5 dollar cash voucher, no expiration\n",
      "3 pieces of 400.0 dollar cash voucher, 3 weeks of expiration\n",
      "4 pieces of 7000.0 dollar cash voucher, 4 weeks of expiration\n",
      "4 pieces of 2.0 dollar cash voucher, 2 weeks of expiration\n"
     ]
    }
   ],
   "source": [
    "for each in result_df.reward:\n",
    "    print each"
   ]
  },
  {
   "cell_type": "markdown",
   "metadata": {},
   "source": [
    "* Save the file"
   ]
  },
  {
   "cell_type": "code",
   "execution_count": 289,
   "metadata": {},
   "outputs": [],
   "source": [
    "result_df.to_csv('reward_distributed.csv', index=False)"
   ]
  },
  {
   "cell_type": "markdown",
   "metadata": {},
   "source": [
    "* Done"
   ]
  },
  {
   "cell_type": "code",
   "execution_count": 100,
   "metadata": {},
   "outputs": [],
   "source": [
    "# rfm_max_df = frame.groupby('group').agg({'frequency': lambda x: x.max(), 'recency': lambda x: x.max(), 'monetary_value': lambda x: x.max()}) \n",
    "# rfm_min_df = frame.groupby('group').agg({'frequency': lambda x: x.min(), 'recency': lambda x: x.min(), 'monetary_value': lambda x: x.min()}) \n",
    "# pd.concat([rfm_amalysis_df, rfm_min_df,rfm_max_df],axis=1)"
   ]
  },
  {
   "cell_type": "code",
   "execution_count": 98,
   "metadata": {},
   "outputs": [],
   "source": [
    "# sub_frame = frame[['frequency', 'recency', 'monetary_value']]\n",
    "# sub_frame['recency'] = frame.recency - frame.recency.min()\n",
    "# from sklearn.preprocessing import normalize\n",
    "# # some = np.array([])\n",
    "# normed_some = normalize(sub_frame, axis=0, norm='l1')\n",
    "# pd.DataFrame(normed_some).head()\n",
    "\n",
    "# K=8\n",
    "# kmeanModelfinal = KMeans(n_clusters=K, algorithm='elkan').fit(normed_some)\n",
    "# from collections import Counter\n",
    "# clusters = kmeanModelfinal.labels_.tolist()\n",
    "# clusters_dic = Counter(clusters)\n",
    "# pie_vec = [clusters_dic[i] for i in range(K)]\n",
    "# print pie_vec\n",
    "\n",
    "# labels = ['1','2','3','4','5','6','7','8']\n",
    "# colors = ['lightskyblue', 'yellow', 'gold', 'lightcoral', 'yellowgreen', 'gold', 'lightcoral', 'yellowgreen']\n",
    "# explode = (0, 0.2, 0.3, 0.4, 0.1,0.3, 0.1,0.3)\n",
    "# plt.pie(pie_vec, labels=labels, explode=explode, colors=colors, autopct='%1.2f%%', shadow=True, startangle=90)\n",
    "# plt.gcf().set_size_inches(10, 10)\n",
    "\n",
    "# # Set aspect ratio to be equal so that pie is drawn as a circle.\n",
    "# plt.axis('equal')\n",
    "# plt.show()"
   ]
  },
  {
   "cell_type": "code",
   "execution_count": 60,
   "metadata": {},
   "outputs": [],
   "source": [
    "# sub_df={}\n",
    "# for i in range(frame.group.max()+1):\n",
    "#     sub_df[i] = frame[frame.group == i]"
   ]
  },
  {
   "cell_type": "markdown",
   "metadata": {},
   "source": [
    "# Temporarily finished here, below are constructing still"
   ]
  },
  {
   "cell_type": "markdown",
   "metadata": {},
   "source": [
    "# Temporarily finished here, below are constructing still"
   ]
  },
  {
   "cell_type": "markdown",
   "metadata": {},
   "source": [
    "# Temporarily finished here, below are constructing still"
   ]
  },
  {
   "cell_type": "markdown",
   "metadata": {},
   "source": [
    "### Cover Tree"
   ]
  },
  {
   "cell_type": "code",
   "execution_count": null,
   "metadata": {},
   "outputs": [],
   "source": [
    "%%bash\n",
    "pwd"
   ]
  },
  {
   "cell_type": "code",
   "execution_count": null,
   "metadata": {},
   "outputs": [],
   "source": [
    "import scipy\n",
    "from CoverTree.covertree import *"
   ]
  },
  {
   "cell_type": "code",
   "execution_count": null,
   "metadata": {},
   "outputs": [],
   "source": [
    "ct = CoverTree(X,scipy.spatial.distance.euclidean, leafsize=50, base=2)"
   ]
  },
  {
   "cell_type": "code",
   "execution_count": null,
   "metadata": {},
   "outputs": [],
   "source": [
    "ct._print()"
   ]
  },
  {
   "cell_type": "code",
   "execution_count": null,
   "metadata": {},
   "outputs": [],
   "source": [
    "data2"
   ]
  },
  {
   "cell_type": "code",
   "execution_count": null,
   "metadata": {},
   "outputs": [],
   "source": [
    "data2 = np.array([[0,0], [1.5,2.3], [1.15,2.13], [-1,-1.3], [-1,-1], [50,50]])\n",
    "ct2 = CoverTree(data2, scipy.spatial.distance.euclidean, leafsize=2, base=2)\n",
    "ct2._print()"
   ]
  },
  {
   "cell_type": "markdown",
   "metadata": {},
   "source": [
    "### #####"
   ]
  },
  {
   "cell_type": "code",
   "execution_count": null,
   "metadata": {},
   "outputs": [],
   "source": [
    "def reward_distribution(df, reward_amount, reward_level):\n",
    "    assert df.group\n",
    "    "
   ]
  },
  {
   "cell_type": "markdown",
   "metadata": {},
   "source": [
    "Change the column name for the clustering result."
   ]
  },
  {
   "cell_type": "code",
   "execution_count": null,
   "metadata": {},
   "outputs": [],
   "source": [
    "frame_column_name = list(frame.columns)\n",
    "frame_column_name[-1]='cluster'\n",
    "frame.columns = frame_column_name"
   ]
  },
  {
   "cell_type": "code",
   "execution_count": null,
   "metadata": {},
   "outputs": [],
   "source": [
    "frame = frame.reset_index()\n",
    "frame.head(2)"
   ]
  },
  {
   "cell_type": "code",
   "execution_count": null,
   "metadata": {},
   "outputs": [],
   "source": [
    "def days_to_year(input):\n",
    "    try:\n",
    "        return (NOW - input).days/365\n",
    "    except:\n",
    "        return 0\n",
    "customer['BDay'] = pd.to_datetime(customer['DateofBirth']).dt.date\n",
    "customer['Age'] = customer.BDay.map(days_to_year)"
   ]
  },
  {
   "cell_type": "code",
   "execution_count": null,
   "metadata": {
    "scrolled": true
   },
   "outputs": [],
   "source": [
    "customer.head(2)"
   ]
  },
  {
   "cell_type": "code",
   "execution_count": null,
   "metadata": {},
   "outputs": [],
   "source": [
    "Tops_customer = customer[customer.CustomerID.isin(frame.CustomerID)][['CustomerID', \"Nationality\",\"Gender\",\"MaritalStatus\",'HaveOnlineaccount','Age']]\n",
    "sorted_Tops_customer = Tops_customer.sort_values('CustomerID')"
   ]
  },
  {
   "cell_type": "markdown",
   "metadata": {},
   "source": [
    "To better incorporate information, the customer csv file is hence combined with some useful fields."
   ]
  },
  {
   "cell_type": "code",
   "execution_count": null,
   "metadata": {},
   "outputs": [],
   "source": [
    "# sorted_Tops_customer['CustomerIDR'] = sorted_Tops_customer.CustomerID\n",
    "# sorted_Tops_customer.head(2)\n",
    "big_frame = pd.merge(frame, sorted_Tops_customer, how='inner')\n",
    "# ,left_on=frame.CustomerID, right_on=sorted_Tops_customer.CustomerIDR)"
   ]
  },
  {
   "cell_type": "code",
   "execution_count": null,
   "metadata": {},
   "outputs": [],
   "source": [
    "big_frame.head(2)"
   ]
  },
  {
   "cell_type": "markdown",
   "metadata": {},
   "source": [
    "### Group Labelling"
   ]
  },
  {
   "cell_type": "markdown",
   "metadata": {},
   "source": [
    "With the customer clustered, a simple analysis can be hence carried out for an \"automated\" labelling of the corresponding group/cluster to better understand them. For a better illustration, I have turned different fields to similar [0, 1] scale where all the info can be gathered in one plot."
   ]
  },
  {
   "cell_type": "code",
   "execution_count": null,
   "metadata": {},
   "outputs": [],
   "source": [
    "import math\n",
    "\n",
    "def autolabel(rects): \n",
    "    for rect in rects:\n",
    "        height = rect.get_height()\n",
    "        plt.text(rect.get_x()+rect.get_width()/5., 0.025 + height, \"%.2f\" % float(height))\n",
    "        \n",
    "def autolabel_realvalue(rects, realvalues): \n",
    "    for idx, rect in enumerate(rects):\n",
    "        height = rect.get_height()\n",
    "        plt.text(rect.get_x(), 0.01 + height, \"%.4s\" % float(realvalues[idx])) #+rect.get_width()/5.\n",
    "        \n",
    "def return_log_list(list):\n",
    "    return [math.log(list[i]) if list[i]>1 else 0 for i in range(len(list)) ]\n",
    "\n",
    "def normalize_vec(vec):\n",
    "    v_min, v_max = vec.min(), vec.max() \n",
    "    return (vec-v_min)/(v_max-v_min)  \n",
    "\n",
    "def portionwise(vec):\n",
    "    return vec / sum(vec)\n",
    "#     return vec * 1.0 / sum(vec)"
   ]
  },
  {
   "cell_type": "code",
   "execution_count": null,
   "metadata": {
    "scrolled": false
   },
   "outputs": [],
   "source": [
    "cluster_name_list = ['Cluster 1','Cluster 2','Cluster 3','Cluster 4','Cluster 5']\n",
    "# x =list(range(5)) \n",
    "x = np.arange(K)\n",
    "total_width, n = 0.8, 8 \n",
    "width = total_width / n  \n",
    "x = x - (total_width - width) / 2\n",
    "\n",
    "rects = plt.bar(x,portionwise(list(frame.groupby('cluster').refund.mean())),\n",
    "                tick_label = cluster_name_list, color = 'gold', width=width, label = 'mean-refund',)\n",
    "plt.title(\"Cluster Analysis for each group\")\n",
    "\n",
    "autolabel_realvalue(rects, frame.groupby('cluster').refund.mean())\n",
    "# autolabel(rects)\n",
    "\n",
    "rects_2 = plt.bar(x + width, portionwise(list(frame.groupby('cluster').total_spent.mean())),\n",
    "                  tick_label = cluster_name_list, color = 'lightskyblue', width=width, label='mean-spent') \n",
    "# rects_2 = plt.bar(x, return_log_list(frame.groupby('cluster').total_spent.mean()),\n",
    "#                   tick_label = cluster_name_list, color = 'lightskyblue', width=width, label='mean-spent') \n",
    "# autolabel(rects_2)\n",
    "\n",
    "# for i in range(len(x)):  \n",
    "#     x[i] = x[i] + width  \n",
    "rects_2 = plt.bar(x + 2 * width, portionwise(list(frame.groupby('cluster').refund.sum())),\n",
    "                  tick_label = cluster_name_list, color = 'yellowgreen', width=width, label='total-refund') \n",
    "# autolabel(rects_2)\n",
    "autolabel_realvalue(rects_2, frame.groupby('cluster').refund.sum())\n",
    "\n",
    "# for i in range(len(x)):  \n",
    "#     x[i] = x[i] + width  \n",
    "# rects_3 = plt.bar(x, return_log_list(frame.groupby('cluster').refund.count()),\n",
    "#                   tick_label = cluster_name_list, color = 'lightcoral', width=width, label='#customer') \n",
    "rects_3 = plt.bar(x + 3 * width, portionwise(list(frame.groupby('cluster').frequency.mean())),\n",
    "                  tick_label = cluster_name_list, color = 'lightcoral', width=width, label='mean-freq') \n",
    "# autolabel(rects_3)\n",
    "\n",
    "\n",
    "# for i in range(len(x)):  \n",
    "#     x[i] = x[i] + width\n",
    "localization = list(big_frame.groupby('cluster').Nationality.agg({lambda x: list(x=='Thai').count(True) * 1.0 / len(x)})['<lambda>'])\n",
    "rects_4 = plt.bar(x + 4 * width, portionwise(localization),\n",
    "                  color = 'g', width=width, label='localization') \n",
    "\n",
    "\n",
    "male = list(big_frame.groupby('cluster').Gender.agg({lambda x: list(x=='M').count(True) * 1.0 / len(x)})['<lambda>'])\n",
    "female = list(big_frame.groupby('cluster').Gender.agg({lambda x: list(x=='F').count(True) * 1.0 / len(x)})['<lambda>'])\n",
    "\n",
    "available_gender = np.array(male) + np.array(female)\n",
    "male_portion = np.array(male) / available_gender\n",
    "female_portion = np.array(female) / available_gender\n",
    "total_bar = portionwise(available_gender)\n",
    "male_section = total_bar * male_portion\n",
    "female_section = total_bar * female_portion\n",
    "\n",
    "rects_5 = plt.bar(x + 5 * width, female_section, \n",
    "                  color = 'r', width=width, label='female') \n",
    "rects_6 = plt.bar(x + 5 * width, male_section,\n",
    "                  bottom=female_section, color = 'b', width=width, label='male') \n",
    "\n",
    "# for i in range(len(x)):  \n",
    "#     x[i] = x[i] + width\n",
    "rects_7 = plt.bar(x + 6 * width, portionwise(big_frame.groupby('cluster').Age.std()),\n",
    "                  color = 'grey', width=width, label='std-age') \n",
    "\n",
    "\n",
    "plt.xlabel(\"Group Indicator\")\n",
    "plt.ylabel(\"Portionwise level for the fields considered\")\n",
    "\n",
    "plt.legend()\n",
    "plt.gcf().set_size_inches(16, 10)\n",
    "plt.show()"
   ]
  },
  {
   "cell_type": "markdown",
   "metadata": {},
   "source": [
    "### Figure above shows the cluster analysis -- the number above indicating the real value, while all of them are compressed into same scale (portionwise) for visualization only."
   ]
  },
  {
   "cell_type": "code",
   "execution_count": null,
   "metadata": {},
   "outputs": [],
   "source": [
    "labels = ['least frequent comers',\n",
    "          '7 Local high-spent customers with most refund record',\n",
    "          'normal behavior -- should have more vouchers to encourage them',\n",
    "          'most averaged group, nothing special',\n",
    "          'nice group in terms of both frequently and spent, while no refunding']\n",
    "colors = ['lightskyblue', 'green', 'gold', 'lightcoral', 'yellowgreen']\n",
    "\n",
    "colors[1], colors[0] = colors[0], colors[1]\n",
    "pie_vec[1], pie_vec[0] = pie_vec[0], pie_vec[1]\n",
    "labels[1], labels[0] = labels[0], labels[1]\n",
    "\n",
    "explode = (0, 0.2, 0.3, 0.4, 0.1)\n",
    "plt.pie(pie_vec, labels=labels, explode=explode, colors=colors, autopct='%1.2f%%', shadow=True, startangle=90)\n",
    "plt.gcf().set_size_inches(10, 10)\n",
    "print pie_vec\n",
    "# Set aspect ratio to be equal so that pie is drawn as a circle.\n",
    "plt.axis('equal')\n",
    "plt.show()"
   ]
  },
  {
   "cell_type": "markdown",
   "metadata": {},
   "source": [
    "## Correlation Analysis\n",
    "### The 'frequency', 'valid transaction' and 'varieties' are highly correlated -- means that: come more, shop more and pick more"
   ]
  },
  {
   "cell_type": "code",
   "execution_count": null,
   "metadata": {},
   "outputs": [],
   "source": [
    "# print normalize_vec(np.array(frame.groupby('cluster').valid_trans.mean()))\n",
    "    \n",
    "aa = list(frame.groupby('cluster').frequency.mean())\n",
    "bb = list(frame.groupby('cluster').valid_trans.mean())\n",
    "cc = list(frame.groupby('cluster').varieties.mean())\n",
    "print np.corrcoef(aa,bb)[0,1]\n",
    "print np.corrcoef(bb,cc)[0,1]\n",
    "print np.corrcoef(aa,cc)[0,1]"
   ]
  },
  {
   "cell_type": "code",
   "execution_count": null,
   "metadata": {},
   "outputs": [],
   "source": [
    "# print normalize_vec(np.array(frame.groupby('cluster').valid_trans.mean()))\n",
    "    \n",
    "aa = list(frame.groupby('cluster').total_spent.mean())\n",
    "bb = list(frame.groupby('cluster').avg_spent.mean())\n",
    "cc = list(frame.groupby('cluster').med_spent.mean())\n",
    "print np.corrcoef(aa,bb)[0,1]\n",
    "print np.corrcoef(bb,cc)[0,1]\n",
    "print np.corrcoef(aa,cc)[0,1]"
   ]
  },
  {
   "cell_type": "code",
   "execution_count": null,
   "metadata": {},
   "outputs": [],
   "source": [
    "frame.groupby('cluster').total_spent.mean()"
   ]
  },
  {
   "cell_type": "code",
   "execution_count": null,
   "metadata": {},
   "outputs": [],
   "source": [
    "frame.groupby('cluster').refund.mean()"
   ]
  },
  {
   "cell_type": "code",
   "execution_count": null,
   "metadata": {},
   "outputs": [],
   "source": [
    "# for item in frame.groupby('cluster').refund.sum():\n",
    "    \n",
    "\n",
    "type(frame.groupby('cluster').refund.sum()[0])"
   ]
  },
  {
   "cell_type": "code",
   "execution_count": null,
   "metadata": {},
   "outputs": [],
   "source": [
    "math.log(1.21)\n",
    "# frame.groupby('cluster').refund.sum()"
   ]
  },
  {
   "cell_type": "markdown",
   "metadata": {},
   "source": [
    "### Observation: Current result is with some coarse characteristics for each run-out cluster, however, since the data is biased (as is already a class of customers), current observation is limited. In the near future, we will add hierarchical clustering on top to better define the behavior of customers. "
   ]
  },
  {
   "cell_type": "code",
   "execution_count": null,
   "metadata": {},
   "outputs": [],
   "source": [
    "kmeanModelfinal_8 = KMeans(n_clusters=8, algorithm='elkan').fit(X)\n",
    "\n",
    "clusters_8 = kmeanModelfinal_8.labels_.tolist()\n",
    "clusters_dic_8 = Counter(clusters_8)\n",
    "pie_vec_8 = [clusters_dic_8[i] for i in range(8)]\n",
    "print pie_vec_8\n",
    "\n",
    "labels = ['1','2','3','4','5','6','7','8']\n",
    "colors = ['lightskyblue', 'yellow', 'gold', 'lightcoral', 'yellowgreen','red','orange','green','blue','black']\n",
    "# explode = (0, 0.2, 0.3, 0.4, 0.1)\n",
    "# explode=explode, \n",
    "plt.pie(pie_vec_8, labels=labels, colors=colors, autopct='%1.2f%%', shadow=True, startangle=90)\n",
    "plt.gcf().set_size_inches(10, 10)\n",
    "\n",
    "# Set aspect ratio to be equal so that pie is drawn as a circle.\n",
    "plt.axis('equal')\n",
    "plt.show()"
   ]
  },
  {
   "cell_type": "code",
   "execution_count": null,
   "metadata": {},
   "outputs": [],
   "source": [
    "kmeanModelfinal_10 = KMeans(n_clusters=10, algorithm='elkan').fit(X)\n",
    "\n",
    "clusters_10 = kmeanModelfinal_10.labels_.tolist()\n",
    "clusters_dic_10 = Counter(clusters_10)\n",
    "pie_vec_10 = [clusters_dic_10[i] for i in range(10)]\n",
    "print pie_vec_10\n",
    "\n",
    "labels = ['1','2','3','4','5','6','7','8','9','10']\n",
    "colors = ['lightskyblue', 'yellow', 'gold', 'lightcoral', 'yellowgreen','red','orange','green','blue','black']\n",
    "# explode = (0, 0.2, 0.3, 0.4, 0.1)\n",
    "# explode=explode, \n",
    "plt.pie(pie_vec_10, labels=labels, colors=colors, autopct='%1.2f%%', shadow=True, startangle=90)\n",
    "plt.gcf().set_size_inches(10, 10)\n",
    "\n",
    "# Set aspect ratio to be equal so that pie is drawn as a circle.\n",
    "plt.axis('equal')\n",
    "plt.show()"
   ]
  },
  {
   "cell_type": "code",
   "execution_count": null,
   "metadata": {},
   "outputs": [],
   "source": [
    "[3128, 100, 2, 20, 30, 664, 3, 1, 1, 1049]"
   ]
  },
  {
   "cell_type": "markdown",
   "metadata": {},
   "source": [
    "## Appendix "
   ]
  },
  {
   "cell_type": "markdown",
   "metadata": {},
   "source": [
    "### Data issue to be fixed on"
   ]
  },
  {
   "cell_type": "code",
   "execution_count": null,
   "metadata": {},
   "outputs": [],
   "source": [
    "big_frame.groupby('cluster').Age.min()"
   ]
  },
  {
   "cell_type": "markdown",
   "metadata": {},
   "source": [
    "Check when the customer IDs are matched -- \n",
    "previously solving the case that \"big_frame = pd.merge(frame, sorted_Tops_customer, how='inner',                     left_on=frame.index, right_on=sorted_Tops_customer.CustomerID)\" is not working."
   ]
  },
  {
   "cell_type": "code",
   "execution_count": null,
   "metadata": {},
   "outputs": [],
   "source": [
    "def examine_str_match(input1, input2):\n",
    "    if input1 == input2:\n",
    "        return 0\n",
    "    else:\n",
    "        return 1\n",
    "    \n",
    "if sum([examine_str_match(each, sorted_Tops_customer.iloc[idx].CustomerID) for idx, each in enumerate(frame.index)]) == 0:\n",
    "    print 'test passed'\n"
   ]
  },
  {
   "cell_type": "markdown",
   "metadata": {},
   "source": [
    "Plot two stuff on the same page."
   ]
  },
  {
   "cell_type": "code",
   "execution_count": null,
   "metadata": {},
   "outputs": [],
   "source": [
    "import matplotlib.pyplot as plt\n",
    "\n",
    "x = range(10)\n",
    "y1 = [elem*2 for elem in x]\n",
    "plt.plot(x, y1)\n",
    "\n",
    "y2 = [elem**2 for elem in x]\n",
    "plt.plot(x, y2, 'r--')\n",
    "\n",
    "plt.show()"
   ]
  },
  {
   "cell_type": "markdown",
   "metadata": {},
   "source": [
    "Just to prove that Agglomerative Clustering is not working on this data set."
   ]
  },
  {
   "cell_type": "code",
   "execution_count": null,
   "metadata": {},
   "outputs": [],
   "source": [
    "from sklearn.cluster import AgglomerativeClustering\n",
    "from sklearn.neighbors import kneighbors_graph\n",
    "\n",
    "# Generate sample data\n",
    "n_samples = 1500\n",
    "np.random.seed(0)\n",
    "t = 1.5 * np.pi * (1 + 3 * np.random.rand(1, n_samples))\n",
    "x = t * np.cos(t)\n",
    "y = t * np.sin(t)\n",
    "\n",
    "\n",
    "X = np.concatenate((x, y))\n",
    "X += .7 * np.random.randn(2, n_samples)\n",
    "X = X.T"
   ]
  },
  {
   "cell_type": "code",
   "execution_count": null,
   "metadata": {},
   "outputs": [],
   "source": [
    "# Create a graph capturing local connectivity. Larger number of neighbors\n",
    "# will give more homogeneous clusters to the cost of computation\n",
    "# time. A very large number of neighbors gives more evenly distributed\n",
    "# cluster sizes, but may not impose the local manifold structure of\n",
    "# the data\n",
    "knn_graph = kneighbors_graph(X, 30, include_self=False)\n",
    "sum(sum(knn_graph.nonzero()))*1.0/1500/1500"
   ]
  },
  {
   "cell_type": "markdown",
   "metadata": {},
   "source": [
    "An example to visualize “Agglomerative clustering with and without structure”"
   ]
  },
  {
   "cell_type": "code",
   "execution_count": null,
   "metadata": {},
   "outputs": [],
   "source": [
    "for connectivity in (None, knn_graph):\n",
    "    for n_clusters in (30, 3):\n",
    "        plt.figure(figsize=(10, 4))\n",
    "        for index, linkage in enumerate(('average', 'complete', 'ward')):\n",
    "            plt.subplot(1, 3, index + 1)\n",
    "            model = AgglomerativeClustering(linkage=linkage,\n",
    "                                            connectivity=connectivity,\n",
    "                                            n_clusters=n_clusters)\n",
    "            t0 = time.time()\n",
    "            model.fit(X)\n",
    "            elapsed_time = time.time() - t0\n",
    "            plt.scatter(X[:, 0], X[:, 1], c=model.labels_,\n",
    "                        cmap=plt.cm.spectral)\n",
    "            plt.title('linkage=%s (time %.2fs)' % (linkage, elapsed_time),\n",
    "                      fontdict=dict(verticalalignment='top'))\n",
    "            plt.axis('equal')\n",
    "            plt.axis('off')\n",
    "\n",
    "            plt.subplots_adjust(bottom=0, top=.89, wspace=0,\n",
    "                                left=0, right=1)\n",
    "            plt.suptitle('n_cluster=%i, connectivity=%r' %\n",
    "                         (n_clusters, connectivity is not None), size=17)\n",
    "\n",
    "\n",
    "plt.show()"
   ]
  },
  {
   "cell_type": "markdown",
   "metadata": {},
   "source": [
    "### For James' enquery on nationalities"
   ]
  },
  {
   "cell_type": "code",
   "execution_count": null,
   "metadata": {},
   "outputs": [],
   "source": [
    "len(big_frame[big_frame.Nationality == 'Russian'])"
   ]
  },
  {
   "cell_type": "code",
   "execution_count": null,
   "metadata": {},
   "outputs": [],
   "source": [
    "len(big_frame[big_frame.Nationality == 'Thai'])"
   ]
  },
  {
   "cell_type": "code",
   "execution_count": null,
   "metadata": {},
   "outputs": [],
   "source": [
    "len(Counter(big_frame.Nationality))"
   ]
  },
  {
   "cell_type": "code",
   "execution_count": null,
   "metadata": {
    "scrolled": true
   },
   "outputs": [],
   "source": [
    "Counter(big_frame.Nationality)"
   ]
  },
  {
   "cell_type": "code",
   "execution_count": null,
   "metadata": {},
   "outputs": [],
   "source": [
    "print frame.groupby('cluster').total_spent.mean()\n",
    "print (frame.groupby('cluster').total_spent.std())\n",
    "\n",
    "frame.groupby('cluster').refund.sum()\n",
    "return_log_list(frame.groupby('cluster').total_spent.std())\n"
   ]
  },
  {
   "cell_type": "markdown",
   "metadata": {},
   "source": [
    "#### Scatter Plot"
   ]
  },
  {
   "cell_type": "code",
   "execution_count": 288,
   "metadata": {},
   "outputs": [
    {
     "data": {
      "image/png": "[encoded data removed]",
      "text/plain": [
       "<matplotlib.figure.Figure at 0x113d56bd0>"
      ]
     },
     "metadata": {
      "image/png": {
       "height": 250,
       "width": 373
      }
     },
     "output_type": "display_data"
    }
   ],
   "source": [
    "import matplotlib.pyplot as plt\n",
    "import numpy as np\n",
    "import pandas as pd\n",
    "np.random.seed(123)\n",
    "\n",
    "# Generate Data\n",
    "nbr_dim = 10\n",
    "y = np.random.random((nbr_dim))\n",
    "x = [1,2,3,4,5,6,7,8,9,10]\n",
    "labels = np.random.choice([0, 1], nbr_dim)\n",
    "df = pd.DataFrame(dict(x=x, y=y, label=labels))\n",
    "\n",
    "groups = df.groupby('label')\n",
    "\n",
    "# Plot\n",
    "fig, ax = plt.subplots()\n",
    "ax.margins(0.05)\n",
    "for name, group in groups:\n",
    "    ax.plot(group.x, group.y, marker='o', linestyle='', ms=12, label=name)\n",
    "ax.legend()\n",
    "\n",
    "plt.show()"
   ]
  },
  {
   "cell_type": "markdown",
   "metadata": {},
   "source": [
    "## Creating the fields as the user portrait -- comprehensive feature engineering"
   ]
  },
  {
   "cell_type": "code",
   "execution_count": null,
   "metadata": {},
   "outputs": [],
   "source": [
    "Tops_trans_df['tDate2'] = pd.to_datetime(Tops_trans_df['TransactionDate']).dt.date\n",
    "recency = grouped_by_userID.tDate2.agg({'recency': lambda x: (NOW - x.max()).days})"
   ]
  },
  {
   "cell_type": "code",
   "execution_count": null,
   "metadata": {},
   "outputs": [],
   "source": [
    "spent = grouped_by_userID.Spending.agg({'total_spent': np.sum, 'avg_spent': np.mean, 'med_spent': np.median})"
   ]
  },
  {
   "cell_type": "code",
   "execution_count": null,
   "metadata": {},
   "outputs": [],
   "source": [
    "spent_range = grouped_by_userID.Spending.agg({'spent_range': lambda x: x.max()- x.min()})"
   ]
  },
  {
   "cell_type": "code",
   "execution_count": null,
   "metadata": {},
   "outputs": [],
   "source": [
    "frequency = grouped_by_userID.TicketNumber.agg({'frequency': lambda x: len(x)})"
   ]
  },
  {
   "cell_type": "code",
   "execution_count": null,
   "metadata": {
    "scrolled": true
   },
   "outputs": [],
   "source": [
    "quantities = grouped_by_userID.QTY.agg({'quantities': np.sum})"
   ]
  },
  {
   "cell_type": "code",
   "execution_count": null,
   "metadata": {},
   "outputs": [],
   "source": [
    "from collections import Counter \n",
    "varieties = grouped_by_userID.SKUCode.agg({'varieties': lambda x: len(Counter(x))})"
   ]
  },
  {
   "cell_type": "code",
   "execution_count": null,
   "metadata": {},
   "outputs": [],
   "source": [
    "valid = grouped_by_userID.Spending.agg({'valid_trans': np.count_nonzero})\n",
    "refund = grouped_by_userID.Spending.agg({'refund': lambda x: len(x[x<0])})\n",
    "# Counter(Tops_trans_df.Spending<0)[True]"
   ]
  },
  {
   "cell_type": "code",
   "execution_count": null,
   "metadata": {
    "scrolled": true
   },
   "outputs": [],
   "source": [
    "portrait_df = pd.concat([recency, spent, spent_range, quantities, varieties, frequency, valid, refund],join=\"inner\",axis=1)\n",
    "portrait_df.head(3)"
   ]
  }
 ],
 "metadata": {
  "kernelspec": {
   "display_name": "Python 2",
   "language": "python",
   "name": "python2"
  },
  "language_info": {
   "codemirror_mode": {
    "name": "ipython",
    "version": 2
   },
   "file_extension": ".py",
   "mimetype": "text/x-python",
   "name": "python",
   "nbconvert_exporter": "python",
   "pygments_lexer": "ipython2",
   "version": "2.7.10"
  }
 },
 "nbformat": 4,
 "nbformat_minor": 2
}
