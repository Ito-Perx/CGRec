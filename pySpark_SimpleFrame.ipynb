{
 "cells": [
  {
   "cell_type": "markdown",
   "metadata": {},
   "source": [
    "## A simple frame to showcase the scalability and efficiency of pySpark-recommendation"
   ]
  },
  {
   "cell_type": "markdown",
   "metadata": {},
   "source": [
    "Import corresponding packages and methods, where ALS stands for Alternating Least Square that is commonly used in Collaborative Filtering.\n",
    "#### Here we illustrate the pySpark frame using a widely used sample data -- MovieLens data (movie rating dataset): ml-100k"
   ]
  },
  {
   "cell_type": "code",
   "execution_count": 1,
   "metadata": {},
   "outputs": [],
   "source": [
    "from pyspark import SparkConf, SparkContext \n",
    "from pyspark.mllib.recommendation import ALS, Rating"
   ]
  },
  {
   "cell_type": "markdown",
   "metadata": {},
   "source": [
    "This function aims at collecting all the matches of movies and corresponding IDs."
   ]
  },
  {
   "cell_type": "code",
   "execution_count": 2,
   "metadata": {},
   "outputs": [],
   "source": [
    "def movie_dict(file):  \n",
    "    dict = {}  \n",
    "    with open(file) as f:  \n",
    "        for line in f:  \n",
    "            arr= line.split('|')  \n",
    "            movie_id = int(arr[0])  \n",
    "            movie_name = str(arr[1])  \n",
    "            dict[movie_id] = movie_name  \n",
    "    return dict  "
   ]
  },
  {
   "cell_type": "markdown",
   "metadata": {},
   "source": [
    "This fuction translates the data into RDD rating format."
   ]
  },
  {
   "cell_type": "code",
   "execution_count": 3,
   "metadata": {},
   "outputs": [],
   "source": [
    "def get_rating(str):  \n",
    "    arr = str.split('\\t') \n",
    "    user_id = int(arr[0])  \n",
    "    movie_id = int(arr[1])  \n",
    "    user_rating = float(arr[2])  \n",
    "    return Rating(user_id, movie_id, user_rating)\n",
    "try:\n",
    "    sc.stop()\n",
    "except:\n",
    "    pass"
   ]
  },
  {
   "cell_type": "markdown",
   "metadata": {},
   "source": [
    "Set Spark Context (cannot be reset once set well)."
   ]
  },
  {
   "cell_type": "code",
   "execution_count": 4,
   "metadata": {},
   "outputs": [],
   "source": [
    "conf=SparkConf().setMaster('local').setAppName('RecoEng').set(\"spark.executor.memory\", \"1024m\")  \n",
    "sc = SparkContext(conf=conf)"
   ]
  },
  {
   "cell_type": "markdown",
   "metadata": {},
   "source": [
    "### Load Data"
   ]
  },
  {
   "cell_type": "code",
   "execution_count": 5,
   "metadata": {},
   "outputs": [],
   "source": [
    "data = sc.textFile('/Users/ito/venv/pyspark-rec/ml-100k/u.data')  "
   ]
  },
  {
   "cell_type": "code",
   "execution_count": 6,
   "metadata": {},
   "outputs": [
    {
     "data": {
      "text/plain": [
       "[u'99\\t98\\t5\\t885679596', u'99\\t978\\t3\\t885679382', u'99\\t975\\t3\\t885679472']"
      ]
     },
     "execution_count": 6,
     "metadata": {},
     "output_type": "execute_result"
    }
   ],
   "source": [
    "data.top(3)"
   ]
  },
  {
   "cell_type": "markdown",
   "metadata": {},
   "source": [
    "Transfer Data to Rating(user, product, rating) tuple format."
   ]
  },
  {
   "cell_type": "code",
   "execution_count": 7,
   "metadata": {},
   "outputs": [
    {
     "data": {
      "text/plain": [
       "[Rating(user=943, product=1330, rating=3.0),\n",
       " Rating(user=943, product=1228, rating=3.0),\n",
       " Rating(user=943, product=1188, rating=3.0)]"
      ]
     },
     "execution_count": 7,
     "metadata": {},
     "output_type": "execute_result"
    }
   ],
   "source": [
    "ratings = data.map(get_rating) \n",
    "ratings.top(3)"
   ]
  },
  {
   "cell_type": "markdown",
   "metadata": {},
   "source": [
    "### Constructing the model"
   ]
  },
  {
   "cell_type": "code",
   "execution_count": 8,
   "metadata": {},
   "outputs": [],
   "source": [
    "import time"
   ]
  },
  {
   "cell_type": "code",
   "execution_count": 9,
   "metadata": {},
   "outputs": [],
   "source": [
    "rank = 10  \n",
    "iterations = 5  "
   ]
  },
  {
   "cell_type": "code",
   "execution_count": 10,
   "metadata": {},
   "outputs": [
    {
     "name": "stdout",
     "output_type": "stream",
     "text": [
      "time elapsed: 2.7349319458\n"
     ]
    }
   ],
   "source": [
    "starting = time.time()\n",
    "model = ALS.train(ratings, rank, iterations)  \n",
    "ending = time.time()\n",
    "print 'time elapsed: ' + str(ending - starting)"
   ]
  },
  {
   "cell_type": "markdown",
   "metadata": {},
   "source": [
    "#### Data Infomation:\n",
    "943 users\n",
    "1682 items\n",
    "100000 ratings\n",
    "#### As one can see, 100K ratings are analysed within 3 secs. Hence We later try to see the performance on our sample data, which is of 2 million transactions."
   ]
  },
  {
   "cell_type": "markdown",
   "metadata": {},
   "source": [
    "Simple testing on specific user."
   ]
  },
  {
   "cell_type": "code",
   "execution_count": 11,
   "metadata": {},
   "outputs": [],
   "source": [
    "userid = 10  \n",
    "user_ratings = ratings.filter(lambda x: x[0] == userid)  "
   ]
  },
  {
   "cell_type": "markdown",
   "metadata": {},
   "source": [
    "E.g., recommending top 5 movies "
   ]
  },
  {
   "cell_type": "code",
   "execution_count": 12,
   "metadata": {},
   "outputs": [
    {
     "name": "stdout",
     "output_type": "stream",
     "text": [
      "\n",
      "################################\n",
      "\n",
      "recommend movies for userid 10:\n",
      "Rating(user=10, product=1643, rating=6.051609929829508)\n",
      "Rating(user=10, product=1631, rating=5.770377710543525)\n",
      "Rating(user=10, product=913, rating=5.7452749514953325)\n",
      "Rating(user=10, product=1131, rating=5.67329557355634)\n",
      "Rating(user=10, product=1463, rating=5.666075555982269)\n",
      "\n",
      "################################\n",
      "\n"
     ]
    }
   ],
   "source": [
    "rec_movies=model.recommendProducts(userid, 5)  \n",
    "print ('\\n################################\\n')    \n",
    "print ('recommend movies for userid %d:' % userid)\n",
    "for i in rec_movies:\n",
    "    print(i) \n",
    "print ('\\n################################\\n' ) "
   ]
  },
  {
   "cell_type": "markdown",
   "metadata": {},
   "source": [
    "### Try our data"
   ]
  },
  {
   "cell_type": "code",
   "execution_count": 13,
   "metadata": {},
   "outputs": [],
   "source": [
    "data = sc.textFile('/Users/ito/venv/pyspark-rec/CG-Tops/Tops_user-item_data')  "
   ]
  },
  {
   "cell_type": "code",
   "execution_count": 14,
   "metadata": {},
   "outputs": [
    {
     "data": {
      "text/plain": [
       "[u'999\\t7071\\t1\\t736433', u'999\\t7070\\t1\\t736433', u'999\\t6951\\t1\\t736485']"
      ]
     },
     "execution_count": 14,
     "metadata": {},
     "output_type": "execute_result"
    }
   ],
   "source": [
    "data.top(3)"
   ]
  },
  {
   "cell_type": "code",
   "execution_count": 15,
   "metadata": {},
   "outputs": [
    {
     "data": {
      "text/plain": [
       "[Rating(user=9204, product=43518, rating=1.0),\n",
       " Rating(user=9204, product=43392, rating=2.0),\n",
       " Rating(user=9204, product=43378, rating=1.0)]"
      ]
     },
     "execution_count": 15,
     "metadata": {},
     "output_type": "execute_result"
    }
   ],
   "source": [
    "ratings = data.map(get_rating) \n",
    "ratings.top(3)"
   ]
  },
  {
   "cell_type": "code",
   "execution_count": 16,
   "metadata": {},
   "outputs": [
    {
     "name": "stdout",
     "output_type": "stream",
     "text": [
      "time elapsed: 20.2458558083\n"
     ]
    }
   ],
   "source": [
    "rank = 10  \n",
    "iterations = 5  \n",
    "\n",
    "starting = time.time()\n",
    "model = ALS.train(ratings, rank, iterations)  \n",
    "ending = time.time()\n",
    "print 'time elapsed: ' + str(ending - starting)"
   ]
  },
  {
   "cell_type": "markdown",
   "metadata": {},
   "source": [
    "The scalability and efficiency of pySpark is going well, and even it is not CPU-wise multiprocessed. So far so good, means my next step is towards accuracy and realistic level."
   ]
  },
  {
   "cell_type": "code",
   "execution_count": 17,
   "metadata": {},
   "outputs": [
    {
     "name": "stdout",
     "output_type": "stream",
     "text": [
      "\n",
      "################################\n",
      "\n",
      "recommend movies for userid 10:\n",
      "Rating(user=10, product=10939, rating=92.88199816094956)\n",
      "Rating(user=10, product=2560, rating=37.4570235657623)\n",
      "Rating(user=10, product=36829, rating=34.941969025331055)\n",
      "Rating(user=10, product=10884, rating=23.99853971587603)\n",
      "Rating(user=10, product=24504, rating=12.740545296770325)\n",
      "\n",
      "################################\n",
      "\n"
     ]
    }
   ],
   "source": [
    "rec_items=model.recommendProducts(userid, 5)  \n",
    "print ('\\n################################\\n')    \n",
    "print ('recommend movies for userid %d:' % userid)\n",
    "for i in rec_items:\n",
    "    print(i) \n",
    "print ('\\n################################\\n' ) "
   ]
  },
  {
   "cell_type": "code",
   "execution_count": 18,
   "metadata": {},
   "outputs": [],
   "source": [
    "sc.stop()"
   ]
  },
  {
   "cell_type": "code",
   "execution_count": null,
   "metadata": {},
   "outputs": [],
   "source": []
  }
 ],
 "metadata": {
  "kernelspec": {
   "display_name": "Python 2",
   "language": "python",
   "name": "python2"
  },
  "language_info": {
   "codemirror_mode": {
    "name": "ipython",
    "version": 2
   },
   "file_extension": ".py",
   "mimetype": "text/x-python",
   "name": "python",
   "nbconvert_exporter": "python",
   "pygments_lexer": "ipython2",
   "version": "2.7.10"
  }
 },
 "nbformat": 4,
 "nbformat_minor": 2
}
