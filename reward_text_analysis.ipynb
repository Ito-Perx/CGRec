{
 "cells": [
  {
   "cell_type": "markdown",
   "metadata": {},
   "source": [
    "# (some) Text mining for Perx Reward Dataset"
   ]
  },
  {
   "cell_type": "code",
   "execution_count": 1,
   "metadata": {},
   "outputs": [],
   "source": [
    "__input_PATH = '/Users/ito/venv/CG-RecoEng/reward-text/'\n",
    "__output_PATH = '/Users/ito/venv/CG-RecoEng/reward-text/'"
   ]
  },
  {
   "cell_type": "code",
   "execution_count": 2,
   "metadata": {},
   "outputs": [
    {
     "data": {
      "text/html": [
       "<div>\n",
       "<style>\n",
       "    .dataframe thead tr:only-child th {\n",
       "        text-align: right;\n",
       "    }\n",
       "\n",
       "    .dataframe thead th {\n",
       "        text-align: left;\n",
       "    }\n",
       "\n",
       "    .dataframe tbody tr th {\n",
       "        vertical-align: top;\n",
       "    }\n",
       "</style>\n",
       "<table border=\"1\" class=\"dataframe\">\n",
       "  <thead>\n",
       "    <tr style=\"text-align: right;\">\n",
       "      <th></th>\n",
       "      <th>index</th>\n",
       "      <th>ID</th>\n",
       "      <th>Rewards</th>\n",
       "      <th>Description</th>\n",
       "    </tr>\n",
       "  </thead>\n",
       "  <tbody>\n",
       "    <tr>\n",
       "      <th>0</th>\n",
       "      <td>1</td>\n",
       "      <td>257</td>\n",
       "      <td>1 Free 6-inch Classic Sub (Far East Square)</td>\n",
       "      <td>SUBWAY restaurants is the world’s largest subm...</td>\n",
       "    </tr>\n",
       "    <tr>\n",
       "      <th>1</th>\n",
       "      <td>2</td>\n",
       "      <td>258</td>\n",
       "      <td>1 Free Any Size Drink (see details for locations)</td>\n",
       "      <td>Please note that you may collect chops up unti...</td>\n",
       "    </tr>\n",
       "    <tr>\n",
       "      <th>2</th>\n",
       "      <td>3</td>\n",
       "      <td>258</td>\n",
       "      <td>Free Any Size Drink (CBD Locations Only)</td>\n",
       "      <td>Welcome to the first Perx CHOP MOB. Chop at an...</td>\n",
       "    </tr>\n",
       "    <tr>\n",
       "      <th>3</th>\n",
       "      <td>4</td>\n",
       "      <td>259</td>\n",
       "      <td>1 Free Curry Puff (see details for locations)</td>\n",
       "      <td>Polar Puffs &amp;amp; Cakes is widely known and ch...</td>\n",
       "    </tr>\n",
       "    <tr>\n",
       "      <th>4</th>\n",
       "      <td>5</td>\n",
       "      <td>260</td>\n",
       "      <td>1 Free Small Yogurt (Tier 2/2)</td>\n",
       "      <td>Red Mango is a frozen yogurt and smoothie bran...</td>\n",
       "    </tr>\n",
       "  </tbody>\n",
       "</table>\n",
       "</div>"
      ],
      "text/plain": [
       "   index   ID                                            Rewards  \\\n",
       "0      1  257        1 Free 6-inch Classic Sub (Far East Square)   \n",
       "1      2  258  1 Free Any Size Drink (see details for locations)   \n",
       "2      3  258           Free Any Size Drink (CBD Locations Only)   \n",
       "3      4  259      1 Free Curry Puff (see details for locations)   \n",
       "4      5  260                     1 Free Small Yogurt (Tier 2/2)   \n",
       "\n",
       "                                         Description  \n",
       "0  SUBWAY restaurants is the world’s largest subm...  \n",
       "1  Please note that you may collect chops up unti...  \n",
       "2  Welcome to the first Perx CHOP MOB. Chop at an...  \n",
       "3  Polar Puffs &amp; Cakes is widely known and ch...  \n",
       "4  Red Mango is a frozen yogurt and smoothie bran...  "
      ]
     },
     "execution_count": 2,
     "metadata": {},
     "output_type": "execute_result"
    }
   ],
   "source": [
    "import pandas as pd\n",
    "import concurrent.futures as cf\n",
    "from collections import Counter\n",
    "\n",
    "reward_1 = pd.read_csv(__input_PATH+'merchant_items__17_12_12.csv', engine='c', header=None)\n",
    "reward_1.columns = ['index','ID','Rewards','Description']\n",
    "reward_1.head(5)"
   ]
  },
  {
   "cell_type": "markdown",
   "metadata": {},
   "source": [
    "### little processing to strip the '(' and ')', while split word using white space (same in PatSnap)"
   ]
  },
  {
   "cell_type": "code",
   "execution_count": 3,
   "metadata": {},
   "outputs": [],
   "source": [
    "temp_dict = dict()\n",
    "\n",
    "temp_splits = []\n",
    "def create_splits(input):\n",
    "#     if input == np.isnan():\n",
    "#         return []\n",
    "    \n",
    "    splits = input.split(' ')\n",
    "    \n",
    "    for idx, word in enumerate(splits):\n",
    "        if word.find('(')!=-1:\n",
    "            splits[idx] = word.strip('(')\n",
    "        elif word.find(')')!=-1:\n",
    "            splits[idx] = word.strip(')')\n",
    "        splits[idx] = splits[idx].lower()\n",
    "    \n",
    "    return splits\n",
    "#     for word in splits:\n",
    "#         print word\n",
    "#         if word in temp_dict:\n",
    "#             temp_dict[input] += 1\n",
    "#         else:\n",
    "#             temp_dict.update({word: 0})"
   ]
  },
  {
   "cell_type": "code",
   "execution_count": 4,
   "metadata": {},
   "outputs": [
    {
     "data": {
      "text/html": [
       "<div>\n",
       "<style>\n",
       "    .dataframe thead tr:only-child th {\n",
       "        text-align: right;\n",
       "    }\n",
       "\n",
       "    .dataframe thead th {\n",
       "        text-align: left;\n",
       "    }\n",
       "\n",
       "    .dataframe tbody tr th {\n",
       "        vertical-align: top;\n",
       "    }\n",
       "</style>\n",
       "<table border=\"1\" class=\"dataframe\">\n",
       "  <thead>\n",
       "    <tr style=\"text-align: right;\">\n",
       "      <th></th>\n",
       "      <th>index</th>\n",
       "      <th>ID</th>\n",
       "      <th>Rewards</th>\n",
       "      <th>Description</th>\n",
       "      <th>Splits</th>\n",
       "    </tr>\n",
       "  </thead>\n",
       "  <tbody>\n",
       "    <tr>\n",
       "      <th>0</th>\n",
       "      <td>1</td>\n",
       "      <td>257</td>\n",
       "      <td>1 Free 6-inch Classic Sub (Far East Square)</td>\n",
       "      <td>SUBWAY restaurants is the world’s largest subm...</td>\n",
       "      <td>[1, free, 6-inch, classic, sub, far, east, squ...</td>\n",
       "    </tr>\n",
       "    <tr>\n",
       "      <th>1</th>\n",
       "      <td>2</td>\n",
       "      <td>258</td>\n",
       "      <td>1 Free Any Size Drink (see details for locations)</td>\n",
       "      <td>Please note that you may collect chops up unti...</td>\n",
       "      <td>[1, free, any, size, drink, see, details, for,...</td>\n",
       "    </tr>\n",
       "    <tr>\n",
       "      <th>2</th>\n",
       "      <td>3</td>\n",
       "      <td>258</td>\n",
       "      <td>Free Any Size Drink (CBD Locations Only)</td>\n",
       "      <td>Welcome to the first Perx CHOP MOB. Chop at an...</td>\n",
       "      <td>[free, any, size, drink, cbd, locations, only]</td>\n",
       "    </tr>\n",
       "    <tr>\n",
       "      <th>3</th>\n",
       "      <td>4</td>\n",
       "      <td>259</td>\n",
       "      <td>1 Free Curry Puff (see details for locations)</td>\n",
       "      <td>Polar Puffs &amp;amp; Cakes is widely known and ch...</td>\n",
       "      <td>[1, free, curry, puff, see, details, for, loca...</td>\n",
       "    </tr>\n",
       "    <tr>\n",
       "      <th>4</th>\n",
       "      <td>5</td>\n",
       "      <td>260</td>\n",
       "      <td>1 Free Small Yogurt (Tier 2/2)</td>\n",
       "      <td>Red Mango is a frozen yogurt and smoothie bran...</td>\n",
       "      <td>[1, free, small, yogurt, tier, 2/2]</td>\n",
       "    </tr>\n",
       "  </tbody>\n",
       "</table>\n",
       "</div>"
      ],
      "text/plain": [
       "   index   ID                                            Rewards  \\\n",
       "0      1  257        1 Free 6-inch Classic Sub (Far East Square)   \n",
       "1      2  258  1 Free Any Size Drink (see details for locations)   \n",
       "2      3  258           Free Any Size Drink (CBD Locations Only)   \n",
       "3      4  259      1 Free Curry Puff (see details for locations)   \n",
       "4      5  260                     1 Free Small Yogurt (Tier 2/2)   \n",
       "\n",
       "                                         Description  \\\n",
       "0  SUBWAY restaurants is the world’s largest subm...   \n",
       "1  Please note that you may collect chops up unti...   \n",
       "2  Welcome to the first Perx CHOP MOB. Chop at an...   \n",
       "3  Polar Puffs &amp; Cakes is widely known and ch...   \n",
       "4  Red Mango is a frozen yogurt and smoothie bran...   \n",
       "\n",
       "                                              Splits  \n",
       "0  [1, free, 6-inch, classic, sub, far, east, squ...  \n",
       "1  [1, free, any, size, drink, see, details, for,...  \n",
       "2     [free, any, size, drink, cbd, locations, only]  \n",
       "3  [1, free, curry, puff, see, details, for, loca...  \n",
       "4                [1, free, small, yogurt, tier, 2/2]  "
      ]
     },
     "execution_count": 4,
     "metadata": {},
     "output_type": "execute_result"
    }
   ],
   "source": [
    "reward_1['Splits'] = reward_1.Rewards.map(create_splits)\n",
    "reward_1.head()"
   ]
  },
  {
   "cell_type": "code",
   "execution_count": 5,
   "metadata": {},
   "outputs": [],
   "source": [
    "def sum_splits(series):\n",
    "    all_splits = []\n",
    "    for each_row in series:\n",
    "        all_splits += each_row\n",
    "    return all_splits\n",
    "\n",
    "all_words = sum_splits(reward_1.Splits)"
   ]
  },
  {
   "cell_type": "code",
   "execution_count": 6,
   "metadata": {},
   "outputs": [],
   "source": [
    "all_words_counter = Counter(all_words)\n",
    "all_words_counter = all_words_counter.most_common()\n",
    "all_words_list = list(all_words_counter)\n",
    "a,b = zip(*all_words_list)"
   ]
  },
  {
   "cell_type": "code",
   "execution_count": 7,
   "metadata": {},
   "outputs": [
    {
     "data": {
      "text/html": [
       "<div>\n",
       "<style>\n",
       "    .dataframe thead tr:only-child th {\n",
       "        text-align: right;\n",
       "    }\n",
       "\n",
       "    .dataframe thead th {\n",
       "        text-align: left;\n",
       "    }\n",
       "\n",
       "    .dataframe tbody tr th {\n",
       "        vertical-align: top;\n",
       "    }\n",
       "</style>\n",
       "<table border=\"1\" class=\"dataframe\">\n",
       "  <thead>\n",
       "    <tr style=\"text-align: right;\">\n",
       "      <th></th>\n",
       "      <th>0</th>\n",
       "      <th>1</th>\n",
       "    </tr>\n",
       "  </thead>\n",
       "  <tbody>\n",
       "    <tr>\n",
       "      <th>0</th>\n",
       "      <td>free</td>\n",
       "      <td>1283</td>\n",
       "    </tr>\n",
       "    <tr>\n",
       "      <th>1</th>\n",
       "      <td>1</td>\n",
       "      <td>1104</td>\n",
       "    </tr>\n",
       "    <tr>\n",
       "      <th>2</th>\n",
       "      <td>off</td>\n",
       "      <td>807</td>\n",
       "    </tr>\n",
       "    <tr>\n",
       "      <th>3</th>\n",
       "      <td>-</td>\n",
       "      <td>601</td>\n",
       "    </tr>\n",
       "    <tr>\n",
       "      <th>4</th>\n",
       "      <td>of</td>\n",
       "      <td>392</td>\n",
       "    </tr>\n",
       "  </tbody>\n",
       "</table>\n",
       "</div>"
      ],
      "text/plain": [
       "      0     1\n",
       "0  free  1283\n",
       "1     1  1104\n",
       "2   off   807\n",
       "3     -   601\n",
       "4    of   392"
      ]
     },
     "execution_count": 7,
     "metadata": {},
     "output_type": "execute_result"
    }
   ],
   "source": [
    "word_freq_df = pd.DataFrame([a,b]).T\n",
    "word_freq_df.head()"
   ]
  },
  {
   "cell_type": "code",
   "execution_count": 8,
   "metadata": {},
   "outputs": [],
   "source": [
    "word_freq_df.to_csv(__output_PATH + 'word_freq.csv',header = False, index = False)"
   ]
  },
  {
   "cell_type": "code",
   "execution_count": 9,
   "metadata": {},
   "outputs": [],
   "source": [
    "# # reward_1.Description.replace(np.isnan(),' ')\n",
    "# reward_1['Splits_desc'] = reward_1.Description.map(create_splits)\n",
    "# all_desc_words = sum_splits(reward_1.Splits_desc)"
   ]
  },
  {
   "cell_type": "markdown",
   "metadata": {},
   "source": [
    "## General co-occurence (can be templated) with efficiency improved "
   ]
  },
  {
   "cell_type": "code",
   "execution_count": 10,
   "metadata": {
    "scrolled": true
   },
   "outputs": [],
   "source": [
    "# For current use, the efficiency is okay since it is a simple bi-loop token detection. （feel that this will be expensive when feed a large description）\n",
    "# Usually we give the window_size as 2, also note that such way is only for \"word\" rather than \"phrase\"\n",
    "def co_occurrances(idx, tokens, window_size): # calculate \n",
    "\n",
    "    # take a window according to window size\n",
    "    window = tokens[idx:idx+window_size]\n",
    "    \n",
    "    # Pop first word as the 1st token\n",
    "    first_token = window.pop(0)\n",
    "\n",
    "    # Consider all of the rest as 2nd token (archived)\n",
    "    for second_token in window:\n",
    "        yield first_token, second_token\n",
    "        \n",
    "# Pair all the considered co-occurrances\n",
    "def considered_co_occurrances(splits, window_size=2, n_workers=4):\n",
    "\n",
    "    all_considered = []\n",
    "    \n",
    "    # parallel calculating using ThreadPoolExecutor using future generator\n",
    "    with cf.ThreadPoolExecutor(max_workers=n_workers) as executor:\n",
    "        future_co_occurrances = {executor.submit(co_occurrances, idx, splits, window_size): idx \n",
    "                                 for idx in range(len(splits))}\n",
    "        # extend the result from each generator\n",
    "        for future in cf.as_completed(future_co_occurrances):\n",
    "            try: # just in case\n",
    "                all_considered.extend(future.result())\n",
    "            except Exception as exc:\n",
    "                print str(exc)\n",
    "                continue\n",
    "    return all_considered"
   ]
  },
  {
   "cell_type": "code",
   "execution_count": 11,
   "metadata": {},
   "outputs": [
    {
     "name": "stdout",
     "output_type": "stream",
     "text": [
      "['index', 'ID', 'Rewards', 'Description', 'index', 'ID', 'Rewards', 'Description', 'index', 'ID', 'index', 'ID', 'index', 'ID']\n",
      "[('index', 'ID', 5), ('ID', 'Rewards', 2), ('ID', 'index', 2), ('Description', 'index', 2), ('Rewards', 'Description', 2)]\n"
     ]
    }
   ],
   "source": [
    "def co_occurrances_count(all_pairs):\n",
    "    return [(first, second, count) for (first, second), count in Counter(all_pairs).most_common()]\n",
    "\n",
    "test_str = ['index','ID','Rewards','Description','index','ID','Rewards','Description','index','ID','index','ID','index','ID']\n",
    "print test_str\n",
    "print co_occurrances_count(considered_co_occurrances(test_str))"
   ]
  },
  {
   "cell_type": "code",
   "execution_count": 12,
   "metadata": {
    "scrolled": true
   },
   "outputs": [
    {
     "data": {
      "text/html": [
       "<div>\n",
       "<style>\n",
       "    .dataframe thead tr:only-child th {\n",
       "        text-align: right;\n",
       "    }\n",
       "\n",
       "    .dataframe thead th {\n",
       "        text-align: left;\n",
       "    }\n",
       "\n",
       "    .dataframe tbody tr th {\n",
       "        vertical-align: top;\n",
       "    }\n",
       "</style>\n",
       "<table border=\"1\" class=\"dataframe\">\n",
       "  <thead>\n",
       "    <tr style=\"text-align: right;\">\n",
       "      <th></th>\n",
       "      <th>index</th>\n",
       "      <th>ID</th>\n",
       "      <th>Rewards</th>\n",
       "      <th>Description</th>\n",
       "      <th>Splits</th>\n",
       "      <th>CoOccurrances</th>\n",
       "    </tr>\n",
       "  </thead>\n",
       "  <tbody>\n",
       "    <tr>\n",
       "      <th>0</th>\n",
       "      <td>1</td>\n",
       "      <td>257</td>\n",
       "      <td>1 Free 6-inch Classic Sub (Far East Square)</td>\n",
       "      <td>SUBWAY restaurants is the world’s largest subm...</td>\n",
       "      <td>[1, free, 6-inch, classic, sub, far, east, squ...</td>\n",
       "      <td>[(6-inch, classic), (classic, sub), (free, 6-i...</td>\n",
       "    </tr>\n",
       "    <tr>\n",
       "      <th>1</th>\n",
       "      <td>2</td>\n",
       "      <td>258</td>\n",
       "      <td>1 Free Any Size Drink (see details for locations)</td>\n",
       "      <td>Please note that you may collect chops up unti...</td>\n",
       "      <td>[1, free, any, size, drink, see, details, for,...</td>\n",
       "      <td>[(1, free), (for, locations), (drink, see), (s...</td>\n",
       "    </tr>\n",
       "    <tr>\n",
       "      <th>2</th>\n",
       "      <td>3</td>\n",
       "      <td>258</td>\n",
       "      <td>Free Any Size Drink (CBD Locations Only)</td>\n",
       "      <td>Welcome to the first Perx CHOP MOB. Chop at an...</td>\n",
       "      <td>[free, any, size, drink, cbd, locations, only]</td>\n",
       "      <td>[(cbd, locations), (any, size), (free, any), (...</td>\n",
       "    </tr>\n",
       "    <tr>\n",
       "      <th>3</th>\n",
       "      <td>4</td>\n",
       "      <td>259</td>\n",
       "      <td>1 Free Curry Puff (see details for locations)</td>\n",
       "      <td>Polar Puffs &amp;amp; Cakes is widely known and ch...</td>\n",
       "      <td>[1, free, curry, puff, see, details, for, loca...</td>\n",
       "      <td>[(curry, puff), (for, locations), (free, curry...</td>\n",
       "    </tr>\n",
       "    <tr>\n",
       "      <th>4</th>\n",
       "      <td>5</td>\n",
       "      <td>260</td>\n",
       "      <td>1 Free Small Yogurt (Tier 2/2)</td>\n",
       "      <td>Red Mango is a frozen yogurt and smoothie bran...</td>\n",
       "      <td>[1, free, small, yogurt, tier, 2/2]</td>\n",
       "      <td>[(free, small), (yogurt, tier), (small, yogurt...</td>\n",
       "    </tr>\n",
       "  </tbody>\n",
       "</table>\n",
       "</div>"
      ],
      "text/plain": [
       "   index   ID                                            Rewards  \\\n",
       "0      1  257        1 Free 6-inch Classic Sub (Far East Square)   \n",
       "1      2  258  1 Free Any Size Drink (see details for locations)   \n",
       "2      3  258           Free Any Size Drink (CBD Locations Only)   \n",
       "3      4  259      1 Free Curry Puff (see details for locations)   \n",
       "4      5  260                     1 Free Small Yogurt (Tier 2/2)   \n",
       "\n",
       "                                         Description  \\\n",
       "0  SUBWAY restaurants is the world’s largest subm...   \n",
       "1  Please note that you may collect chops up unti...   \n",
       "2  Welcome to the first Perx CHOP MOB. Chop at an...   \n",
       "3  Polar Puffs &amp; Cakes is widely known and ch...   \n",
       "4  Red Mango is a frozen yogurt and smoothie bran...   \n",
       "\n",
       "                                              Splits  \\\n",
       "0  [1, free, 6-inch, classic, sub, far, east, squ...   \n",
       "1  [1, free, any, size, drink, see, details, for,...   \n",
       "2     [free, any, size, drink, cbd, locations, only]   \n",
       "3  [1, free, curry, puff, see, details, for, loca...   \n",
       "4                [1, free, small, yogurt, tier, 2/2]   \n",
       "\n",
       "                                       CoOccurrances  \n",
       "0  [(6-inch, classic), (classic, sub), (free, 6-i...  \n",
       "1  [(1, free), (for, locations), (drink, see), (s...  \n",
       "2  [(cbd, locations), (any, size), (free, any), (...  \n",
       "3  [(curry, puff), (for, locations), (free, curry...  \n",
       "4  [(free, small), (yogurt, tier), (small, yogurt...  "
      ]
     },
     "execution_count": 12,
     "metadata": {},
     "output_type": "execute_result"
    }
   ],
   "source": [
    "reward_1['CoOccurrances'] = reward_1.Splits.map(considered_co_occurrances)\n",
    "reward_1.head()"
   ]
  },
  {
   "cell_type": "code",
   "execution_count": 13,
   "metadata": {},
   "outputs": [],
   "source": [
    "all_co_occu = sum_splits(reward_1.CoOccurrances)\n",
    "all_co_occu_counter = Counter(all_co_occu).most_common()\n",
    "all_co_occu_list = list(all_co_occu_counter)\n",
    "word_pair, counts = zip(*all_co_occu_list)\n",
    "c,d = zip(*word_pair)"
   ]
  },
  {
   "cell_type": "code",
   "execution_count": 14,
   "metadata": {},
   "outputs": [
    {
     "data": {
      "text/html": [
       "<div>\n",
       "<style>\n",
       "    .dataframe thead tr:only-child th {\n",
       "        text-align: right;\n",
       "    }\n",
       "\n",
       "    .dataframe thead th {\n",
       "        text-align: left;\n",
       "    }\n",
       "\n",
       "    .dataframe tbody tr th {\n",
       "        vertical-align: top;\n",
       "    }\n",
       "</style>\n",
       "<table border=\"1\" class=\"dataframe\">\n",
       "  <thead>\n",
       "    <tr style=\"text-align: right;\">\n",
       "      <th></th>\n",
       "      <th>0</th>\n",
       "      <th>1</th>\n",
       "      <th>2</th>\n",
       "    </tr>\n",
       "  </thead>\n",
       "  <tbody>\n",
       "    <tr>\n",
       "      <th>0</th>\n",
       "      <td>1</td>\n",
       "      <td>free</td>\n",
       "      <td>598</td>\n",
       "    </tr>\n",
       "    <tr>\n",
       "      <th>1</th>\n",
       "      <td>10%</td>\n",
       "      <td>off</td>\n",
       "      <td>114</td>\n",
       "    </tr>\n",
       "    <tr>\n",
       "      <th>2</th>\n",
       "      <td>for</td>\n",
       "      <td>1</td>\n",
       "      <td>105</td>\n",
       "    </tr>\n",
       "    <tr>\n",
       "      <th>3</th>\n",
       "      <td>next</td>\n",
       "      <td>visit</td>\n",
       "      <td>100</td>\n",
       "    </tr>\n",
       "    <tr>\n",
       "      <th>4</th>\n",
       "      <td>off</td>\n",
       "      <td>your</td>\n",
       "      <td>100</td>\n",
       "    </tr>\n",
       "  </tbody>\n",
       "</table>\n",
       "</div>"
      ],
      "text/plain": [
       "      0      1    2\n",
       "0     1   free  598\n",
       "1   10%    off  114\n",
       "2   for      1  105\n",
       "3  next  visit  100\n",
       "4   off   your  100"
      ]
     },
     "execution_count": 14,
     "metadata": {},
     "output_type": "execute_result"
    }
   ],
   "source": [
    "co_occu_freq_df = pd.DataFrame([c,d,counts]).T\n",
    "co_occu_freq_df.head()"
   ]
  },
  {
   "cell_type": "code",
   "execution_count": 15,
   "metadata": {},
   "outputs": [],
   "source": [
    "co_occu_freq_df.to_csv(__output_PATH + 'co_occurrence.csv', header = False, index = False)"
   ]
  },
  {
   "cell_type": "code",
   "execution_count": null,
   "metadata": {},
   "outputs": [],
   "source": []
  },
  {
   "cell_type": "code",
   "execution_count": null,
   "metadata": {},
   "outputs": [],
   "source": []
  },
  {
   "cell_type": "code",
   "execution_count": null,
   "metadata": {},
   "outputs": [],
   "source": []
  },
  {
   "cell_type": "code",
   "execution_count": 17,
   "metadata": {},
   "outputs": [
    {
     "data": {
      "image/png": "[encoded data removed]",
      "text/plain": [
       "<matplotlib.figure.Figure at 0x10e23f250>"
      ]
     },
     "metadata": {},
     "output_type": "display_data"
    }
   ],
   "source": [
    "import matplotlib.pyplot as plt\n",
    "plt.figure()\n",
    "a = 60\n",
    "plt.plot(range(a), [1.05**i for i in range(a)])\n",
    "plt.show()"
   ]
  },
  {
   "cell_type": "code",
   "execution_count": 18,
   "metadata": {},
   "outputs": [
    {
     "data": {
      "text/plain": [
       "2.0494263837948195"
      ]
     },
     "execution_count": 18,
     "metadata": {},
     "output_type": "execute_result"
    }
   ],
   "source": [
    "1.049**15"
   ]
  },
  {
   "cell_type": "code",
   "execution_count": 19,
   "metadata": {},
   "outputs": [
    {
     "data": {
      "text/plain": [
       "199717"
      ]
     },
     "execution_count": 19,
     "metadata": {},
     "output_type": "execute_result"
    }
   ],
   "source": [
    "7*28531"
   ]
  },
  {
   "cell_type": "code",
   "execution_count": null,
   "metadata": {},
   "outputs": [],
   "source": [
    "\n"
   ]
  }
 ],
 "metadata": {
  "kernelspec": {
   "display_name": "Python 2",
   "language": "python",
   "name": "python2"
  },
  "language_info": {
   "codemirror_mode": {
    "name": "ipython",
    "version": 2
   },
   "file_extension": ".py",
   "mimetype": "text/x-python",
   "name": "python",
   "nbconvert_exporter": "python",
   "pygments_lexer": "ipython2",
   "version": "2.7.10"
  }
 },
 "nbformat": 4,
 "nbformat_minor": 2
}
