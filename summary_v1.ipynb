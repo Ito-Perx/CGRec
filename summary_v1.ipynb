{
 "cells": [
  {
   "cell_type": "markdown",
   "metadata": {},
   "source": [
    "# Current BPR + LR (linear combination) for CG recommendations"
   ]
  },
  {
   "cell_type": "code",
   "execution_count": 1,
   "metadata": {},
   "outputs": [],
   "source": [
    "import os\n",
    "import pandas as pd\n",
    "import numpy as np\n",
    "\n",
    "office = pd.read_csv('/Users/Yiteng/venv/rfm-project/data/SM-office.csv', sep=',', engine='c')"
   ]
  },
  {
   "cell_type": "markdown",
   "metadata": {},
   "source": [
    "By now, we take office (OFM) data as one example, where the code segment below (commended) provided the segmentations of the original data towards specific categories."
   ]
  },
  {
   "cell_type": "code",
   "execution_count": 2,
   "metadata": {},
   "outputs": [],
   "source": [
    "productfile1 = '/Users/Yiteng/venv/rfm-project/data/og_data/ProductMaster.csv'\n",
    "productfile2 = '/Users/Yiteng/venv/rfm-project/data/og_data/ProductMaster_Tops.csv'\n",
    "product1 = pd.read_csv(productfile1, sep=',', engine='c')\n",
    "product2 = pd.read_csv(productfile2, sep=',', engine='c')"
   ]
  },
  {
   "cell_type": "markdown",
   "metadata": {},
   "source": [
    "Data Segmentation according to the meeting with Vijay."
   ]
  },
  {
   "cell_type": "code",
   "execution_count": 3,
   "metadata": {},
   "outputs": [],
   "source": [
    "# office = sub_segment_df[sub_segment_df.BUID.isin([15,56])]\n",
    "# non_office = sub_segment_df[~sub_segment_df.BUID.isin([15,56])]\n",
    "\n",
    "# sub_segment_df = orders[orders.SKUCode.isin(product1.SKUID)]\n",
    "# sub_segment_df.to_csv('ShoppingMall.csv', index=False)\n",
    "# sub_segment_df2 = orders[orders.SKUCode.isin(product2.SKUID)]\n",
    "# sub_segment_df2.to_csv('Tops_supermarket.csv', index=False)\n",
    "# sub_segment_df3 = orders[~orders.SKUCode.isin(product1.SKUID) & ~orders.SKUCode.isin(product2.SKUID)]\n",
    "# sub_segment_df3.to_csv('Problematic.csv', index=False)\n",
    "\n",
    "# sub_segment_df.TicketNumber.drop_duplicates()"
   ]
  },
  {
   "cell_type": "markdown",
   "metadata": {},
   "source": [
    "Taking \"office\" data for consideration in this notebook, the transaction data looks like:"
   ]
  },
  {
   "cell_type": "code",
   "execution_count": 11,
   "metadata": {},
   "outputs": [
    {
     "data": {
      "text/html": [
       "<div>\n",
       "<style>\n",
       "    .dataframe thead tr:only-child th {\n",
       "        text-align: right;\n",
       "    }\n",
       "\n",
       "    .dataframe thead th {\n",
       "        text-align: left;\n",
       "    }\n",
       "\n",
       "    .dataframe tbody tr th {\n",
       "        vertical-align: top;\n",
       "    }\n",
       "</style>\n",
       "<table border=\"1\" class=\"dataframe\">\n",
       "  <thead>\n",
       "    <tr style=\"text-align: right;\">\n",
       "      <th></th>\n",
       "      <th>TypeGroup</th>\n",
       "      <th>BUID</th>\n",
       "      <th>BranchID</th>\n",
       "      <th>TransactionDate</th>\n",
       "      <th>CustomerID</th>\n",
       "      <th>CardNo</th>\n",
       "      <th>TicketNumber</th>\n",
       "      <th>SKUCode</th>\n",
       "      <th>Spending</th>\n",
       "      <th>DeptCode</th>\n",
       "      <th>SubDeptCode</th>\n",
       "      <th>QTY</th>\n",
       "      <th>tDate2</th>\n",
       "    </tr>\n",
       "  </thead>\n",
       "  <tbody>\n",
       "    <tr>\n",
       "      <th>0</th>\n",
       "      <td>1</td>\n",
       "      <td>56</td>\n",
       "      <td>1555</td>\n",
       "      <td>2016-12-09 15:28:00</td>\n",
       "      <td>D0A9EA46-B77A-4CA3-A0B6-A09C35B8CFCF</td>\n",
       "      <td>2201014718</td>\n",
       "      <td>1612032157</td>\n",
       "      <td>315019</td>\n",
       "      <td>795.99</td>\n",
       "      <td>555.0</td>\n",
       "      <td>552.0</td>\n",
       "      <td>4</td>\n",
       "      <td>2016-12-09</td>\n",
       "    </tr>\n",
       "    <tr>\n",
       "      <th>1</th>\n",
       "      <td>1</td>\n",
       "      <td>56</td>\n",
       "      <td>1555</td>\n",
       "      <td>2016-08-04 22:33:00</td>\n",
       "      <td>D0A9EA46-B77A-4CA3-A0B6-A09C35B8CFCF</td>\n",
       "      <td>2201014718</td>\n",
       "      <td>1608022955</td>\n",
       "      <td>159515</td>\n",
       "      <td>279.36</td>\n",
       "      <td>540.0</td>\n",
       "      <td>403.0</td>\n",
       "      <td>4</td>\n",
       "      <td>2016-08-04</td>\n",
       "    </tr>\n",
       "    <tr>\n",
       "      <th>2</th>\n",
       "      <td>1</td>\n",
       "      <td>15</td>\n",
       "      <td>548</td>\n",
       "      <td>2016-10-23 11:51:00</td>\n",
       "      <td>D4B95E99-58C3-4749-A5E2-AE36CC9447BC</td>\n",
       "      <td>8054949528</td>\n",
       "      <td>301297920</td>\n",
       "      <td>152657</td>\n",
       "      <td>35.00</td>\n",
       "      <td>530.0</td>\n",
       "      <td>313.0</td>\n",
       "      <td>1</td>\n",
       "      <td>2016-10-23</td>\n",
       "    </tr>\n",
       "    <tr>\n",
       "      <th>3</th>\n",
       "      <td>1</td>\n",
       "      <td>15</td>\n",
       "      <td>877</td>\n",
       "      <td>2016-09-26 14:23:00</td>\n",
       "      <td>E51E941C-76C8-423B-A3CA-CB13284756B6</td>\n",
       "      <td>8018323043</td>\n",
       "      <td>102000910</td>\n",
       "      <td>317279</td>\n",
       "      <td>60.00</td>\n",
       "      <td>540.0</td>\n",
       "      <td>403.0</td>\n",
       "      <td>1</td>\n",
       "      <td>2016-09-26</td>\n",
       "    </tr>\n",
       "  </tbody>\n",
       "</table>\n",
       "</div>"
      ],
      "text/plain": [
       "   TypeGroup  BUID  BranchID      TransactionDate  \\\n",
       "0          1    56      1555  2016-12-09 15:28:00   \n",
       "1          1    56      1555  2016-08-04 22:33:00   \n",
       "2          1    15       548  2016-10-23 11:51:00   \n",
       "3          1    15       877  2016-09-26 14:23:00   \n",
       "\n",
       "                             CustomerID      CardNo  TicketNumber  SKUCode  \\\n",
       "0  D0A9EA46-B77A-4CA3-A0B6-A09C35B8CFCF  2201014718    1612032157   315019   \n",
       "1  D0A9EA46-B77A-4CA3-A0B6-A09C35B8CFCF  2201014718    1608022955   159515   \n",
       "2  D4B95E99-58C3-4749-A5E2-AE36CC9447BC  8054949528     301297920   152657   \n",
       "3  E51E941C-76C8-423B-A3CA-CB13284756B6  8018323043     102000910   317279   \n",
       "\n",
       "   Spending  DeptCode  SubDeptCode  QTY      tDate2  \n",
       "0    795.99     555.0        552.0    4  2016-12-09  \n",
       "1    279.36     540.0        403.0    4  2016-08-04  \n",
       "2     35.00     530.0        313.0    1  2016-10-23  \n",
       "3     60.00     540.0        403.0    1  2016-09-26  "
      ]
     },
     "execution_count": 11,
     "metadata": {},
     "output_type": "execute_result"
    }
   ],
   "source": [
    "data = office\n",
    "data.head(4)"
   ]
  },
  {
   "cell_type": "markdown",
   "metadata": {},
   "source": [
    "### Bayesian Personalized Ranking (BPR) Algorithm"
   ]
  },
  {
   "cell_type": "markdown",
   "metadata": {},
   "source": [
    "Retrieve info from the data -- where we focus on a match between user and item"
   ]
  },
  {
   "cell_type": "code",
   "execution_count": 4,
   "metadata": {},
   "outputs": [
    {
     "name": "stderr",
     "output_type": "stream",
     "text": [
      "Generating 1542580 random training samples\n",
      "Processed 1542000 ( 99.96% ) in 0.0257 seconds\n",
      "Total training time 42.52 seconds; 2.756146e-05 per sample\n"
     ]
    }
   ],
   "source": [
    "from theano_bpr import BPR\n",
    "\n",
    "idx = pd.Categorical(list(data.CustomerID)).codes\n",
    "itm = pd.Categorical(list(data.SKUCode)).codes\n",
    "\n",
    "# match the ID and the \"series number\"\n",
    "idx_match = zip(data.CustomerID, idx)\n",
    "itm_match = zip(data.SKUCode, itm)\n",
    "\n",
    "train_set = zip(idx,itm)\n",
    "\n",
    "bpr = BPR(20, idx.max()+1, itm.max()+1)\n",
    "bpr.train(train_set, epochs=20)"
   ]
  },
  {
   "cell_type": "markdown",
   "metadata": {},
   "source": [
    "The result we get so far, is the matrix indicating the \"willing\" value of purchasing for a certain user towards a certain item.\n",
    "\n",
    "Hence the shape of the matrix is (#users, #items)"
   ]
  },
  {
   "cell_type": "code",
   "execution_count": 5,
   "metadata": {},
   "outputs": [
    {
     "name": "stdout",
     "output_type": "stream",
     "text": [
      "[[ 2.7540555   3.56475544  2.66798973 ...,  6.3465724   3.92303658\n",
      "   3.40365911]\n",
      " [ 1.34239006  2.08928657  2.19591284 ...,  3.75435495  2.13423014\n",
      "   1.02919364]\n",
      " [-0.03819942  1.47356796  0.38009506 ...,  0.07140817  0.71647155\n",
      "   0.38269472]\n",
      " ..., \n",
      " [ 2.78549528  2.68791413  2.49471378 ...,  5.76980734  3.50338292\n",
      "   2.89824772]\n",
      " [ 2.21514463  0.4706493   3.82976198 ...,  4.31011057  3.15388608\n",
      "   2.15237689]\n",
      " [ 1.48023415  1.269207    3.20969653 ...,  4.39368868  3.47753906\n",
      "   2.56968951]]\n",
      "(3557, 10641)\n"
     ]
    }
   ],
   "source": [
    "res_bpr = bpr.predictions(range(idx.max()+1))\n",
    "print res_bpr\n",
    "print res_bpr.shape"
   ]
  },
  {
   "cell_type": "markdown",
   "metadata": {},
   "source": [
    "As a simple performance showcase, this indicates a rough AUC value.\n",
    "\n",
    "While for our recommendation, it is surely higher (above 0.9) since this is a self-learning that is indeed overfitting to historical data."
   ]
  },
  {
   "cell_type": "code",
   "execution_count": 6,
   "metadata": {},
   "outputs": [
    {
     "name": "stderr",
     "output_type": "stream",
     "text": [
      "Generating 1388320 random training samples\n",
      "Processed 1388000 ( 99.98% ) in 0.0274 seconds\n",
      "Total training time 38.93 seconds; 2.803902e-05 per sample\n",
      "Current AUC mean (1700 samples): 0.77218\n"
     ]
    },
    {
     "data": {
      "text/plain": [
       "0.7727383754848931"
      ]
     },
     "execution_count": 6,
     "metadata": {},
     "output_type": "execute_result"
    }
   ],
   "source": [
    "import math\n",
    "\n",
    "bpr_show = BPR(20, idx.max()+1, itm.max()+1)\n",
    "bpr_show.train(train_set[:int(math.floor(len(train_set) * 0.9))], epochs=20)\n",
    "test_set = train_set[int(math.floor(len(train_set) * 0.9)):]\n",
    "bpr_show.test(test_set)"
   ]
  },
  {
   "cell_type": "markdown",
   "metadata": {},
   "source": [
    "### Logistic Regression (LR) Algorithm"
   ]
  },
  {
   "cell_type": "markdown",
   "metadata": {},
   "source": [
    "Generating Training data according to CustomerID -- making #users as multi-class classification problem"
   ]
  },
  {
   "cell_type": "code",
   "execution_count": 12,
   "metadata": {},
   "outputs": [],
   "source": [
    "idx_match_dic = dict(idx_match)\n",
    "y_train = data.CustomerID.map(idx_match_dic)\n",
    "# X_train = data[['BUID', 'SKUCode', 'Spending', 'SubDeptCode', 'QTY']]\n",
    "X_train = data[[ 'SKUCode', 'Spending', 'QTY']]\n",
    "\n",
    "X_train = np.array(X_train)\n",
    "y_train = np.array(y_train)\n",
    "\n",
    "from sklearn.preprocessing import StandardScaler\n",
    "sc = StandardScaler()\n",
    "sc.fit(X_train)\n",
    "X_train_std = sc.transform(X_train)\n",
    "\n",
    "from sklearn.linear_model import LogisticRegression\n",
    "lr = LogisticRegression(C=10.0, random_state=0)\n",
    "lr.fit(X_train_std, y_train)\n"
   ]
  },
  {
   "cell_type": "markdown",
   "metadata": {},
   "source": [
    "Testing data are corresponded."
   ]
  },
  {
   "cell_type": "code",
   "execution_count": 101,
   "metadata": {},
   "outputs": [],
   "source": [
    "X_test = data[[ 'SKUCode', 'Spending', 'QTY']]\n",
    "X_test = X_test.groupby('SKUCode').agg({'Spending': lambda x: x.sum(), 'QTY': lambda x: len(x)}) \n",
    "X_test = np.array(X_test.reset_index())\n",
    "sc.fit(X_test)\n",
    "X_test_std = sc.transform(X_test)"
   ]
  },
  {
   "cell_type": "markdown",
   "metadata": {},
   "source": [
    "Prediction result, same format with BPR algorithm."
   ]
  },
  {
   "cell_type": "code",
   "execution_count": 104,
   "metadata": {},
   "outputs": [
    {
     "name": "stdout",
     "output_type": "stream",
     "text": [
      "[[  1.46183000e-04   1.49231599e-04   1.45071916e-04 ...,   5.51199589e-05\n",
      "    5.56648051e-05   5.52155370e-05]\n",
      " [  3.95754792e-04   3.85086876e-04   4.05009858e-04 ...,   5.05141019e-04\n",
      "    5.05269877e-04   5.03431775e-04]\n",
      " [  1.71538713e-04   1.68301664e-04   1.86933112e-04 ...,   5.08052944e-04\n",
      "    5.11380805e-04   5.07344866e-04]\n",
      " ..., \n",
      " [  1.45057808e-04   1.45659365e-04   1.26917942e-04 ...,   1.00871428e-05\n",
      "    1.00721123e-05   1.00656586e-05]\n",
      " [  5.33756297e-05   5.37050172e-05   5.09415282e-05 ...,   1.38312255e-05\n",
      "    1.38301861e-05   1.38176190e-05]\n",
      " [  1.18230955e-04   1.22538953e-04   1.31299386e-04 ...,   2.02681242e-04\n",
      "    2.03918310e-04   2.03454524e-04]]\n",
      "(3557, 10641)\n"
     ]
    }
   ],
   "source": [
    "res_lrt = lr.predict_proba(X_test_std) \n",
    "print res_lrt.T\n",
    "print res_lrt.T.shape"
   ]
  },
  {
   "cell_type": "code",
   "execution_count": 117,
   "metadata": {},
   "outputs": [
    {
     "name": "stdout",
     "output_type": "stream",
     "text": [
      "[[  5.40383495e-05   1.22965506e-04   1.29365325e-04 ...,   7.22978552e-05\n",
      "    1.28773601e-04   1.25401759e-04]\n",
      " [  6.29961435e-04   5.35834727e-04   4.66817296e-04 ...,   5.26999885e-04\n",
      "    4.69864932e-04   4.78197942e-04]\n",
      " [  6.08631896e-04   3.04627129e-04   2.54776315e-04 ...,   4.61058498e-04\n",
      "    2.52459998e-04   2.64618096e-04]\n",
      " ..., \n",
      " [  1.08012235e-05   7.15349104e-05   8.10509931e-05 ...,   1.75609510e-05\n",
      "    8.32038912e-05   7.63721347e-05]\n",
      " [  1.42178220e-05   3.90862786e-05   4.19175336e-05 ...,   1.90377203e-05\n",
      "    4.23433133e-05   4.07062521e-05]\n",
      " [  1.67322033e-04   1.41914221e-04   1.53127248e-04 ...,   1.99447876e-04\n",
      "    1.49160208e-04   1.53138187e-04]]\n"
     ]
    }
   ],
   "source": [
    "res_lr = lr.predict_proba(X_train_std) \n",
    "print res_lr.T"
   ]
  },
  {
   "cell_type": "code",
   "execution_count": 115,
   "metadata": {},
   "outputs": [],
   "source": [
    "itm_match_dic = dict(itm_match)"
   ]
  },
  {
   "cell_type": "markdown",
   "metadata": {},
   "source": [
    "### A linear combination of BPR and LR"
   ]
  },
  {
   "cell_type": "markdown",
   "metadata": {},
   "source": [
    "Normalization is needed before a linear combination"
   ]
  },
  {
   "cell_type": "code",
   "execution_count": 107,
   "metadata": {},
   "outputs": [],
   "source": [
    "from sklearn.preprocessing import normalize\n",
    "normed_res_bpr = normalize(res_bpr, axis=0, norm='l1')\n",
    "normed_res_lrt = normalize(res_lrt.T, axis=0, norm='l1')"
   ]
  },
  {
   "cell_type": "markdown",
   "metadata": {},
   "source": [
    "A simple linear model at hand, later can even learn an optimized α."
   ]
  },
  {
   "cell_type": "code",
   "execution_count": 109,
   "metadata": {},
   "outputs": [],
   "source": [
    "res = 0.5 * normed_res_bpr + 0.5 * normed_res_lrt"
   ]
  },
  {
   "cell_type": "markdown",
   "metadata": {},
   "source": [
    "Current memory cannot handle such matrix multiplication, thus need to adapt to sparse matrix for matrix manipulating."
   ]
  },
  {
   "cell_type": "code",
   "execution_count": 119,
   "metadata": {},
   "outputs": [],
   "source": [
    "from scipy.sparse import coo_matrix\n",
    "\n",
    "purchased = coo_matrix((np.ones(len(itm)),(idx,itm)),shape=(max(idx)+1,max(itm)+1)).tocsr()\n",
    "# purchased = purchased.todense()\n",
    "# willing_from_purchased = np.multiply(res , purchased)\n",
    "# willing_from_unpurchased = res - willing_from_purchased\n",
    "\n",
    "res_csr = coo_matrix(res).tocsr()\n",
    "willing_from_purchased = purchased.multiply(res_csr)\n",
    "willing_from_unpurchased = res_csr - willing_from_purchased\n",
    "\n",
    "# def matrix_reflection(train_set, res):\n",
    "#     res_mat = np.zeros([max(idx)+1,max(itm)+1])\n",
    "#     for each in train_set:\n",
    "#         res_mat[each[0]][each[1]] = res[each[0]][each[1]]\n",
    "#     return res_mat\n",
    "\n",
    "# willing_from_purchased = matrix_reflection(train_set, res)\n",
    "# willing_from_unpurchased = res - willing_from_purchased\n",
    "# from scipy.sparse import coo_matrix\n",
    "# print coo_matrix(willing_from_purchased)"
   ]
  },
  {
   "cell_type": "markdown",
   "metadata": {},
   "source": [
    "Simulating a memory dumping -- no need to use \"Pickle\" -- for coding only"
   ]
  },
  {
   "cell_type": "code",
   "execution_count": 120,
   "metadata": {},
   "outputs": [],
   "source": [
    "pd.DataFrame(willing_from_purchased.todense()).to_csv(\"purchased.csv\",header=False)\n",
    "pd.DataFrame(willing_from_unpurchased.todense()).to_csv(\"unpurchased.csv\",header=False)\n",
    "pd.DataFrame(res).to_csv(\"result.csv\",header=False)\n",
    "# read csv to restore memory"
   ]
  },
  {
   "cell_type": "markdown",
   "metadata": {},
   "source": [
    "# Use Cases\n",
    "## Side Data Preparation"
   ]
  },
  {
   "cell_type": "code",
   "execution_count": 169,
   "metadata": {},
   "outputs": [],
   "source": [
    "cstmfile = '/Users/Yiteng/venv/rfm-project/data/og_data/Customer_Profile.csv'\n",
    "customer = pd.read_csv(cstmfile, sep=',', engine='c')\n",
    "\n",
    "def strip_brace(input):\n",
    "#     input = input.strip('{')\n",
    "#     input = input.strip('}')\n",
    "    return input[1:-1]\n",
    "#     return input\n",
    "\n",
    "customer.CustomerID = customer.CustomerID.map(strip_brace)"
   ]
  },
  {
   "cell_type": "markdown",
   "metadata": {},
   "source": [
    "## use case 1 -- recommend a certain item to users who are interested in"
   ]
  },
  {
   "cell_type": "markdown",
   "metadata": {},
   "source": [
    "Generating dictionaries for content:index matching"
   ]
  },
  {
   "cell_type": "code",
   "execution_count": 159,
   "metadata": {},
   "outputs": [],
   "source": [
    "idx_match_rev_dic = dict(zip(idx,data.CustomerID))\n",
    "itm_match_rev_dic = dict(zip(itm,data.SKUCode))"
   ]
  },
  {
   "cell_type": "markdown",
   "metadata": {},
   "source": [
    "Randomly select one item."
   ]
  },
  {
   "cell_type": "code",
   "execution_count": 163,
   "metadata": {},
   "outputs": [
    {
     "name": "stdout",
     "output_type": "stream",
     "text": [
      "2112 166868\n"
     ]
    }
   ],
   "source": [
    "import random\n",
    "rec_itm = random.randint(0,itm.max())\n",
    "SKUID_rec_itm = itm_match_rev_dic[rec_itm]\n",
    "print rec_itm, SKUID_rec_itm"
   ]
  },
  {
   "cell_type": "markdown",
   "metadata": {},
   "source": [
    "Set a parameter τ here, indicating a % (e.g., 10%) of a selection for compaign"
   ]
  },
  {
   "cell_type": "code",
   "execution_count": 197,
   "metadata": {},
   "outputs": [
    {
     "name": "stdout",
     "output_type": "stream",
     "text": [
      "Recommend item to 355 customers out of 3557 in total.\n"
     ]
    }
   ],
   "source": [
    "tau = 0.1 \n",
    "qualified_no = int(math.floor(res.shape[0]*tau))\n",
    "print 'Recommend item to ' + str(qualified_no) + ' customers out of ' + str(res.shape[0]) + ' in total.'"
   ]
  },
  {
   "cell_type": "markdown",
   "metadata": {},
   "source": [
    "Retreive the CustomerID to understand the details of this recommendation."
   ]
  },
  {
   "cell_type": "code",
   "execution_count": 269,
   "metadata": {},
   "outputs": [],
   "source": [
    "# product1[product1.SKUID.isin(data.SKUCode)]\n",
    "import heapq\n",
    "rec_col = res[:,rec_itm]\n",
    "nlargest_values = heapq.nlargest(qualified_no, rec_col)\n",
    "rec_customer_indices = [np.where(rec_col == item)[0][0] for item in nlargest_values]\n",
    "rec_customer_ID = map(idx_match_rev_dic.get, rec_customer_indices)"
   ]
  },
  {
   "cell_type": "markdown",
   "metadata": {},
   "source": [
    "Hence, sub-segment this portion of data out from overall customer data. And following analysis can be based on this data, also can do anything on it based on what we need."
   ]
  },
  {
   "cell_type": "code",
   "execution_count": 275,
   "metadata": {},
   "outputs": [
    {
     "name": "stdout",
     "output_type": "stream",
     "text": [
      "Among the total 355 recommendations, there are 252 ladies and 61 gentlemen, while 42 ppl have not indicated their gender.\n"
     ]
    }
   ],
   "source": [
    "sub_customer = customer[customer.CustomerID.isin(rec_customer_ID)]\n",
    "print 'Among the total ' + str(sub_customer.shape[0]), 'recommendations, there are ' + str(len(sub_customer[sub_customer.Gender == 'F'])) + ' ladies and ' + str(len(sub_customer[sub_customer.Gender == 'M'])) + ' gentlemen, while ' + str(len(sub_customer[sub_customer.Gender.isnull()])) + ' ppl have not indicated their gender.'\n"
   ]
  },
  {
   "cell_type": "code",
   "execution_count": 278,
   "metadata": {},
   "outputs": [
    {
     "name": "stdout",
     "output_type": "stream",
     "text": [
      "The details of these customers are listed here:\n",
      "\n",
      "                                CustomerID          DateofBirth  Nationality  \\\n",
      "77    EE7E8A57-0169-463D-837E-7875964703D7  1957-02-16 00:00:00         Thai   \n",
      "100   3B08E562-918B-4484-9A85-1B27E1BB6FF4  1971-04-13 00:00:00         Thai   \n",
      "133   7B734315-FD6C-4223-A3A4-8F83EC249087  1957-11-13 00:00:00         Thai   \n",
      "149   DDA9F9BA-2054-46A3-987F-7CDECD618E9A  1981-01-03 00:00:00         Thai   \n",
      "222   F595459A-1EA2-47D3-8AF6-FECF28D24257  1954-03-25 00:00:00         Thai   \n",
      "236   AA123317-3326-494B-97CA-6B4377374BBF  1976-01-18 00:00:00         Thai   \n",
      "273   84DBD14F-33A0-46F3-BB05-9EBA1155EE8E  1982-11-21 00:00:00         Thai   \n",
      "300   C2E76D84-D2CF-464D-B437-44E3A1180DC1                  NaN      Unknown   \n",
      "323   FF8D66CE-4072-4C0C-BF9C-5E559750697A  1971-07-09 00:00:00         Thai   \n",
      "333   4210EC2D-0943-4E80-A762-BFB7D7046C2A  1973-10-22 00:00:00         Thai   \n",
      "353   82439C18-E9C7-42E0-A396-AD8A5CBDDE0D  1978-07-19 00:00:00         Thai   \n",
      "367   A520148C-EAE9-462B-A9ED-FD6FE6EFD427  1960-11-15 00:00:00         Thai   \n",
      "464   287E6E70-CCEE-40AE-83B9-7941A4A622FE                  NaN      Unknown   \n",
      "471   D10E39AF-ABA9-49C5-9527-3691212D4A58  1989-01-30 00:00:00         Thai   \n",
      "496   A9B789B4-96BB-4D79-9311-F5AAC7594B4E  1979-08-11 00:00:00         Thai   \n",
      "640   D800997A-C2BE-41D9-84E5-BB1B54D52D36  1980-08-11 00:00:00         Thai   \n",
      "653   B9458458-55FB-4378-AD9B-F38563B4A69A  1974-07-09 00:00:00         Thai   \n",
      "720   C48E8EB7-D6C0-4442-B495-0F3182090340  1975-04-14 00:00:00         Thai   \n",
      "734   AAB675DE-3CB0-4B42-8993-39EB2D577192  1972-08-23 00:00:00         Thai   \n",
      "742   11D376D5-1A37-4513-951A-5F9A15FE5FD3  1983-11-04 00:00:00         Thai   \n",
      "754   B9CE8B16-C778-40DC-977F-6A2EB2CA9ED5                  NaN         Thai   \n",
      "756   F581E5D4-8FA6-4AA9-B29C-C4E0AF635E13  1972-06-16 00:00:00         Thai   \n",
      "758   92BF31A6-E8D4-472D-BFC4-433997F22DCE  1983-03-06 00:00:00         Thai   \n",
      "775   63CF0723-4232-4E04-BFBB-5D7D8B8C66E3                  NaN      Unknown   \n",
      "787   796AE56B-FDE0-4E32-B86D-A178F186EF09  1979-08-24 00:00:00         Thai   \n",
      "825   2EEEE23F-8444-420A-BA08-06CACE8BC825  1974-11-27 00:00:00      Unknown   \n",
      "857   B2B32B16-C57A-465B-ACFF-836BB416931A  1978-09-03 00:00:00         Thai   \n",
      "876   E8EC48F9-E3EA-4C21-95A8-65C8FA6EC732  1977-05-10 00:00:00         Thai   \n",
      "878   A40C3A24-5D4D-4DBC-B890-8A4689C92ACB  1978-08-10 00:00:00         Thai   \n",
      "884   EEBB343A-8969-4DFF-8C99-6FC6B63A818F  1981-01-20 00:00:00      Unknown   \n",
      "...                                    ...                  ...          ...   \n",
      "8797  C24BD0B7-FCE7-4025-86CD-CC595485DCA0  1974-05-21 00:00:00      Unknown   \n",
      "8800  D9851E68-B8C0-4E65-AAB0-6806029D2103  1968-06-18 00:00:00         Thai   \n",
      "8880  4DEF8192-3E15-428F-9CC2-C0F8788FA491  1976-03-31 00:00:00         Thai   \n",
      "8910  DB83C904-FE41-45B5-A4CD-090BD2FB6F12                  NaN         Thai   \n",
      "8971  31558517-44E2-41B0-9AF0-9CB6B4341B98  1975-08-07 00:00:00         Thai   \n",
      "8972  ACCA3AF0-D0E0-423A-8C91-A3BAF692BEE9  1963-06-14 00:00:00         Thai   \n",
      "9042  2396210C-9352-4792-ABB7-BB2291D5985A                  NaN         Thai   \n",
      "9251  3343B44B-ACA5-45D1-BE27-6B6A41BB662C  1969-08-11 00:00:00      Unknown   \n",
      "9311  AB4954E1-2067-4016-A7C7-443D46015083  1983-10-20 00:00:00         Thai   \n",
      "9374  B539055D-19F5-4C35-A7EB-11313CC4911D  1970-05-20 00:00:00         Thai   \n",
      "9389  EBCCEC2B-8A53-46F6-9DA4-06C4A5208E0C  1982-09-03 00:00:00         Thai   \n",
      "9412  500E992B-5652-40AB-A984-9978E7A1EA63  1977-05-17 00:00:00  Singaporean   \n",
      "9424  4A612776-1642-4DF9-B89C-C8E0CB829931  1977-07-07 00:00:00         Thai   \n",
      "9435  8D9F6E6B-8249-45C6-AB94-760155738684  1978-08-26 00:00:00         Thai   \n",
      "9502  0FB99CDA-D83A-456A-8254-E7F253BDD64F  1975-03-05 00:00:00         Thai   \n",
      "9558  229F3422-EDF7-4BE2-9263-A33C33770FFC  1985-04-20 00:00:00         Thai   \n",
      "9598  2F77B08C-91CD-491E-B885-3021D79EDFA2  1982-08-23 00:00:00         Thai   \n",
      "9640  7472FCC6-2E0C-44A4-9166-3B373EDB83FA  1987-10-03 00:00:00      Unknown   \n",
      "9644  63A013B7-F006-43D9-A442-5D712AB9D206  1977-10-23 00:00:00         Thai   \n",
      "9651  9AEF709E-9C14-4F04-A0C8-A13C607E5979  1980-06-17 00:00:00         Thai   \n",
      "9667  3A888D36-0386-4FCF-A8C7-9BB1C8E1CF2F  1978-05-10 00:00:00         Thai   \n",
      "9670  A0C67BCB-002C-40D1-9093-31C665B6AB69  1979-04-01 00:00:00         Thai   \n",
      "9681  D76017EC-26C3-4706-936E-1D76B0AD84FA                  NaN      Unknown   \n",
      "9856  69D3E395-CC59-480E-A8BB-9AAF3EF1A27A                  NaN      Unknown   \n",
      "9859  CF7121D9-4FC2-450F-9942-E2090E5EF99E  1979-04-06 00:00:00         Thai   \n",
      "9871  ED5A5D5C-0E01-42F0-9C98-8034B6191140  1979-07-23 00:00:00         Thai   \n",
      "9910  703E2FDA-D7AF-4755-9C1B-D074697D8EBA  1966-02-03 00:00:00         Thai   \n",
      "9915  718093BD-A469-4641-B190-726D329669B1  1977-02-19 00:00:00       Indian   \n",
      "9929  0E5C8776-4780-4425-9D19-C60F4D100BE8  1952-09-21 00:00:00         Thai   \n",
      "9975  034103AA-F222-4C5A-A640-77EB39800F85  1988-08-25 00:00:00         Thai   \n",
      "\n",
      "     Gender MaritalStatus  NoofChildren AgeofChildren         Province  \\\n",
      "77        F             M             3      21,20,15            ระยอง   \n",
      "100       F           NaN             0           NaN     สุราษฎร์ธานี   \n",
      "133       F             M             0           NaN            พะเยา   \n",
      "149       F             M             2         02,03    กรุงเทพมหานคร   \n",
      "222       F             S             0           NaN    กรุงเทพมหานคร   \n",
      "236       F             S             0           NaN          นนทบุรี   \n",
      "273       F             S             0           NaN    กรุงเทพมหานคร   \n",
      "300     NaN           NaN             0           NaN           นครปฐม   \n",
      "323       M             M             0           NaN    กรุงเทพมหานคร   \n",
      "333       F             M             0           NaN    กรุงเทพมหานคร   \n",
      "353       F           NaN             0           NaN         ปทุมธานี   \n",
      "367       F             S             2         32,22         ปทุมธานี   \n",
      "464     NaN           NaN             0           NaN  พระนครศรีอยุธยา   \n",
      "471       F             S             0           NaN        เชียงใหม่   \n",
      "496       F             S             0           NaN           นครปฐม   \n",
      "640       F             M             0           NaN    กรุงเทพมหานคร   \n",
      "653       M             S             0           NaN    กรุงเทพมหานคร   \n",
      "720       F             M             2         07,05    กรุงเทพมหานคร   \n",
      "734       M             M             0           NaN      สมุทรปราการ   \n",
      "742       F           NaN             0           NaN          นนทบุรี   \n",
      "754     NaN             S             0           NaN           ชลบุรี   \n",
      "756       M             M             2          13,2    กรุงเทพมหานคร   \n",
      "758       F             M             2           4,1    กรุงเทพมหานคร   \n",
      "775     NaN           NaN             0           NaN           ชลบุรี   \n",
      "787       F             S             0           NaN    กรุงเทพมหานคร   \n",
      "825       F             M             0           NaN    กรุงเทพมหานคร   \n",
      "857     NaN           NaN             0           NaN          ราชบุรี   \n",
      "876       F             M             0             0    กรุงเทพมหานคร   \n",
      "878       M             M             3      05,03,02          สระแก้ว   \n",
      "884     NaN           NaN             0           NaN              NaN   \n",
      "...     ...           ...           ...           ...              ...   \n",
      "8797      F             M             0           NaN            ระยอง   \n",
      "8800      F             S             0           NaN         ปทุมธานี   \n",
      "8880      F             M             1             0    กรุงเทพมหานคร   \n",
      "8910    NaN           NaN             0           NaN              NaN   \n",
      "8971      F             M             1            02         ปทุมธานี   \n",
      "8972      F             M             0           NaN    กรุงเทพมหานคร   \n",
      "9042      M             O             0           NaN          Bangkok   \n",
      "9251    NaN           NaN             0           NaN    กรุงเทพมหานคร   \n",
      "9311      F           NaN             0           NaN      สมุทรปราการ   \n",
      "9374      F           NaN             0           NaN    กรุงเทพมหานคร   \n",
      "9389      M             S             0           NaN         อุดรธานี   \n",
      "9412    NaN           NaN             0           NaN    กรุงเทพมหานคร   \n",
      "9424      F             S             0           NaN    กรุงเทพมหานคร   \n",
      "9435    NaN           NaN             0           NaN              NaN   \n",
      "9502      F             S             0           NaN      สมุทรปราการ   \n",
      "9558      F           NaN             0           NaN     สุราษฎร์ธานี   \n",
      "9598      F             S             0           NaN      สมุทรปราการ   \n",
      "9640    NaN           NaN             0           NaN    กรุงเทพมหานคร   \n",
      "9644      F             M             0           NaN    กรุงเทพมหานคร   \n",
      "9651      M           NaN             0           NaN          นนทบุรี   \n",
      "9667      F           NaN             0           NaN      สมุทรปราการ   \n",
      "9670      M             S             0           NaN    กรุงเทพมหานคร   \n",
      "9681    NaN           NaN             0           NaN    กรุงเทพมหานคร   \n",
      "9856    NaN           NaN             0           NaN    กรุงเทพมหานคร   \n",
      "9859      F             M             0             0      อุบลราชธานี   \n",
      "9871      F           NaN             0           NaN           นครปฐม   \n",
      "9910      F             M             0           NaN      สมุทรปราการ   \n",
      "9915    NaN             M             0           NaN           RAYONG   \n",
      "9929      F             M             2         36,33           นครปฐม   \n",
      "9975      F             S             0           NaN          นนทบุรี   \n",
      "\n",
      "                 Amphor            Tambon    ...     CardRegisterBUID  \\\n",
      "77           เมืองระยอง           เนินพระ    ...                  NaN   \n",
      "100   เมืองสุราษฎร์ธานี         วัดประดู่    ...                 15.0   \n",
      "133                 จุน               จุน    ...                  4.0   \n",
      "149            ทวีวัฒนา      ศาลาธรรมสพน์    ...                  NaN   \n",
      "222             บางพลัด           บางพลัด    ...                  NaN   \n",
      "236           บางบัวทอง             ละหาร    ...                  1.0   \n",
      "273             พระโขนง            บางจาก    ...                  NaN   \n",
      "300              บางเลน         นราภิรมย์    ...                  1.0   \n",
      "323             สวนหลวง           สวนหลวง    ...                  1.0   \n",
      "333         บางขุนเทียน           ท่าข้าม    ...                  NaN   \n",
      "353             ลำลูกกา        บึงคำพร้อย    ...                  NaN   \n",
      "367             ลำลูกกา              คูคต    ...                  1.0   \n",
      "464             ท่าเรือ              จำปา    ...                  2.0   \n",
      "471             สันทราย          หนองจ๋อม    ...                  1.0   \n",
      "496              ดอนตูม          บ้านหลวง    ...                  6.0   \n",
      "640               ดุสิต      ถนนนครไชยศรี    ...                  1.0   \n",
      "653           คลองสามวา      สามวาตะวันตก    ...                  6.0   \n",
      "720           ภาษีเจริญ  ปากคลองภาษีเจริญ    ...                  1.0   \n",
      "734            บางเสาธง    ศรีษะจรเข้น้อย    ...                 11.0   \n",
      "742            ปากเกร็ด         คลองเกลือ    ...                  1.0   \n",
      "754         เมืองชลบุรี        หนองไม้แดง    ...                  2.0   \n",
      "756         บางขุนเทียน             แสมดำ    ...                  NaN   \n",
      "758           คลองสามวา            บางชัน    ...                  NaN   \n",
      "775               เมือง           บ้านโขด    ...                  2.0   \n",
      "787            ห้วยขวาง         สามเสนนอก    ...                  NaN   \n",
      "825   ป้อมปราบศัตรูพ่าย          ป้อมปราบ    ...                  1.0   \n",
      "857             โพธาราม          บ้านฆ้อง    ...                  1.0   \n",
      "876             มีนบุรี           มีนบุรี    ...                  NaN   \n",
      "878          อรัญประเทศ        อรัญประเทศ    ...                  1.0   \n",
      "884                 NaN               NaN    ...                 11.0   \n",
      "...                 ...               ...    ...                  ...   \n",
      "8797           บ้านค่าย           บางบุตร    ...                  4.0   \n",
      "8800      เมืองปทุมธานี           บางปรอก    ...                  NaN   \n",
      "8880          คลองสามวา     สามวาตะวันออก    ...                  2.0   \n",
      "8910                NaN               NaN    ...                  1.0   \n",
      "8971      เมืองปทุมธานี            บางพูน    ...                  NaN   \n",
      "8972             บางเขน           ท่าแร้ง    ...                  NaN   \n",
      "9042          Klongtoey        Prakhanong    ...                  NaN   \n",
      "9251           ทวีวัฒนา      ศาลาธรรมสพน์    ...                  NaN   \n",
      "9311   เมืองสมุทรปราการ      ท้ายบ้านใหม่    ...                  6.0   \n",
      "9374            สวนหลวง           สวนหลวง    ...                  NaN   \n",
      "9389      เมืองอุดรธานี            หมูม่น    ...                  2.0   \n",
      "9412              วัฒนา           คลองตัน    ...                  NaN   \n",
      "9424            จตุจักร             จอมพล    ...                  NaN   \n",
      "9435                NaN               NaN    ...                  NaN   \n",
      "9502           บางเสาธง    ศีรษะจรเข้น้อย    ...                 15.0   \n",
      "9558        คีรีรัฐนิคม          ถ้ำสิงขร    ...                  2.0   \n",
      "9598   เมืองสมุทรปราการ          ท้ายบ้าน    ...                  NaN   \n",
      "9640            ปทุมวัน           วังใหม่    ...                  2.0   \n",
      "9644              บางแค            บางไผ่    ...                  2.0   \n",
      "9651            บางกรวย          บางสีทอง    ...                  NaN   \n",
      "9667   เมืองสมุทรปราการ         เทพารักษ์    ...                  1.0   \n",
      "9670            บางซื่อ           บางซื่อ    ...                  NaN   \n",
      "9681        ราษฎร์บูรณะ          บางปะกอก    ...                  1.0   \n",
      "9856            สวนหลวง           สวนหลวง    ...                  NaN   \n",
      "9859         วารินชำราบ            แสนสุข    ...                  NaN   \n",
      "9871          นครชัยศรี           ขุนแก้ว    ...                  3.0   \n",
      "9910     พระสมุทรเจดีย์        แหลมฟ้าฝ่า    ...                  NaN   \n",
      "9915                NaN               NaN    ...                 11.0   \n",
      "9929            สามพราน        กระทุ่มล้ม    ...                  NaN   \n",
      "9975          บางบัวทอง       บางรักพัฒนา    ...                  5.0   \n",
      "\n",
      "     CardRegisterBranchID              CardRegisterBU CardRegisterLocation  \\\n",
      "77                    NaN                         NaN                  NaN   \n",
      "100                 883.0                Office Depot           Suratthani   \n",
      "133                 161.0                   Homeworks              Rama II   \n",
      "149                   NaN                         NaN                  NaN   \n",
      "222                   NaN                         NaN                  NaN   \n",
      "236                  10.0    Central Department Store              Pinklao   \n",
      "273                   NaN                         NaN                  NaN   \n",
      "300                  10.0    Central Department Store              Pinklao   \n",
      "323                   5.0    Central Department Store             Lardprao   \n",
      "333                   NaN                         NaN                  NaN   \n",
      "353                   NaN                         NaN                  NaN   \n",
      "367                   5.0    Central Department Store             Lardprao   \n",
      "464                 117.0                    Robinson              RANGSIT   \n",
      "471                  12.0    Central Department Store        Kad Suan Kaew   \n",
      "496                 397.0                    PowerBuy  PWB - Central World   \n",
      "640                  10.0    Central Department Store              Pinklao   \n",
      "653                  57.0                    PowerBuy          PWB-RANGSIT   \n",
      "720                   3.0    Central Department Store              Chidlom   \n",
      "734                 145.0  Central Retail Corporation          Head Office   \n",
      "742                 489.0    Central Department Store        Cheangwattana   \n",
      "754                 126.0                    Robinson             SRIRACHA   \n",
      "756                   NaN                         NaN                  NaN   \n",
      "758                   NaN                         NaN                  NaN   \n",
      "775                 126.0                    Robinson             SRIRACHA   \n",
      "787                   NaN                         NaN                  NaN   \n",
      "825                  10.0    Central Department Store              Pinklao   \n",
      "857                  17.0    Central Department Store             RAMA III   \n",
      "876                   NaN                         NaN                  NaN   \n",
      "878                   3.0    Central Department Store              Chidlom   \n",
      "884                 145.0  Central Retail Corporation          Head Office   \n",
      "...                   ...                         ...                  ...   \n",
      "8797                393.0                   Homeworks              Pattaya   \n",
      "8800                  NaN                         NaN                  NaN   \n",
      "8880                123.0                    Robinson             RATCHADA   \n",
      "8910                  3.0    Central Department Store              Chidlom   \n",
      "8971                  NaN                         NaN                  NaN   \n",
      "8972                  NaN                         NaN                  NaN   \n",
      "9042                  NaN                         NaN                  NaN   \n",
      "9251                  NaN                         NaN                  NaN   \n",
      "9311                107.0                    PowerBuy   PWB-Big C Suksawad   \n",
      "9374                  NaN                         NaN                  NaN   \n",
      "9389                758.0                    Robinson               Rama 9   \n",
      "9412                  NaN                         NaN                  NaN   \n",
      "9424                  NaN                         NaN                  NaN   \n",
      "9435                  NaN                         NaN                  NaN   \n",
      "9502                569.0                Office Depot               Rayong   \n",
      "9558                878.0                    Robinson       RBS Suratthani   \n",
      "9598                  NaN                         NaN                  NaN   \n",
      "9640                124.0                    Robinson           SRINAKARIN   \n",
      "9644                121.0                    Robinson            SUKHUMVIT   \n",
      "9651                  NaN                         NaN                  NaN   \n",
      "9667                 20.0    Central Department Store              RAMA II   \n",
      "9670                  NaN                         NaN                  NaN   \n",
      "9681                 17.0    Central Department Store             RAMA III   \n",
      "9856                  NaN                         NaN                  NaN   \n",
      "9859                  NaN                         NaN                  NaN   \n",
      "9871                260.0                         B2S      B2S CDS Pinklao   \n",
      "9910                  NaN                         NaN                  NaN   \n",
      "9915                145.0  Central Retail Corporation          Head Office   \n",
      "9929                  NaN                         NaN                  NaN   \n",
      "9975                182.0                Super Sports      SSP CDS Pinklao   \n",
      "\n",
      "     HaveOnlineaccount CDS_Line  RBS_Line  IsMobilePhone IsEmail IsAddress  \n",
      "77                   N        N         N              Y       N         Y  \n",
      "100                  N        Y         Y              Y       N         Y  \n",
      "133                  N        N         Y              Y       Y         Y  \n",
      "149                  N        N         N              Y       N         Y  \n",
      "222                  Y        N         N              Y       Y         Y  \n",
      "236                  N        N         N              Y       Y         Y  \n",
      "273                  N        N         N              Y       Y         Y  \n",
      "300                  N        N         N              Y       N         Y  \n",
      "323                  N        N         N              Y       Y         Y  \n",
      "333                  N        N         N              Y       N         Y  \n",
      "353                  N        N         N              Y       N         Y  \n",
      "367                  N        N         N              Y       Y         Y  \n",
      "464                  N        N         N              Y       N         Y  \n",
      "471                  Y        N         N              Y       Y         Y  \n",
      "496                  N        N         N              Y       Y         Y  \n",
      "640                  Y        N         N              Y       N         Y  \n",
      "653                  N        N         N              Y       Y         Y  \n",
      "720                  Y        N         N              Y       Y         Y  \n",
      "734                  N        N         N              Y       N         Y  \n",
      "742                  N        N         N              Y       Y         Y  \n",
      "754                  Y        N         N              Y       Y         Y  \n",
      "756                  N        N         N              Y       N         Y  \n",
      "758                  N        N         N              Y       N         Y  \n",
      "775                  N        N         Y              Y       N         Y  \n",
      "787                  N        Y         N              Y       N         Y  \n",
      "825                  N        N         N              Y       N         Y  \n",
      "857                  N        N         N              Y       N         Y  \n",
      "876                  N        N         N              Y       N         Y  \n",
      "878                  N        N         N              Y       Y         Y  \n",
      "884                  N        N         N              Y       N         N  \n",
      "...                ...      ...       ...            ...     ...       ...  \n",
      "8797                 Y        N         Y              Y       Y         Y  \n",
      "8800                 N        Y         N              Y       N         Y  \n",
      "8880                 N        Y         N              Y       N         Y  \n",
      "8910                 N        N         N              Y       N         N  \n",
      "8971                 N        N         N              Y       N         Y  \n",
      "8972                 N        N         N              Y       N         Y  \n",
      "9042                 N        N         N              Y       N         Y  \n",
      "9251                 N        N         N              Y       N         Y  \n",
      "9311                 N        N         N              Y       Y         Y  \n",
      "9374                 N        N         N              Y       N         Y  \n",
      "9389                 Y        N         N              Y       Y         Y  \n",
      "9412                 N        N         N              Y       Y         Y  \n",
      "9424                 N        N         N              Y       Y         Y  \n",
      "9435                 N        N         N              Y       N         N  \n",
      "9502                 N        N         N              Y       N         Y  \n",
      "9558                 N        N         N              Y       N         Y  \n",
      "9598                 N        N         N              Y       Y         Y  \n",
      "9640                 N        N         N              Y       N         Y  \n",
      "9644                 N        N         N              Y       Y         Y  \n",
      "9651                 N        N         N              Y       Y         Y  \n",
      "9667                 N        N         N              Y       Y         Y  \n",
      "9670                 N        N         N              Y       N         Y  \n",
      "9681                 N        N         N              Y       N         Y  \n",
      "9856                 N        Y         N              Y       N         Y  \n",
      "9859                 N        N         N              Y       N         Y  \n",
      "9871                 N        N         N              Y       Y         Y  \n",
      "9910                 Y        N         N              Y       N         Y  \n",
      "9915                 N        N         N              Y       Y         N  \n",
      "9929                 N        N         N              Y       N         Y  \n",
      "9975                 N        N         N              Y       Y         Y  \n",
      "\n",
      "[355 rows x 26 columns]\n"
     ]
    }
   ],
   "source": [
    "print 'The details of these customers are listed here:'\n",
    "print ''\n",
    "print sub_customer"
   ]
  },
  {
   "cell_type": "markdown",
   "metadata": {},
   "source": [
    "## use case 2 -- recommend a certain group of users a certain item"
   ]
  },
  {
   "cell_type": "markdown",
   "metadata": {},
   "source": [
    "As a discussion with May-E, this will be based on the original plan of recommending 64 (cube(4)) different user groups based on RFM segmentations.\n",
    "\n",
    "Below are current segmentation according to 4 quartiles."
   ]
  },
  {
   "cell_type": "code",
   "execution_count": 277,
   "metadata": {},
   "outputs": [],
   "source": [
    "# Arguments (x = value, p = recency, monetary_value, frequency, k = quartiles dict)\n",
    "def RClass(x,p,d):\n",
    "    if x <= d[p][0.25]:\n",
    "        return 1\n",
    "    elif x <= d[p][0.50]:\n",
    "        return 2\n",
    "    elif x <= d[p][0.75]: \n",
    "        return 3\n",
    "    else:\n",
    "        return 4\n",
    "\n",
    "# Arguments (x = value, p = recency, monetary_value, frequency, k = quartiles dict)\n",
    "def FMClass(x,p,d):\n",
    "    if x <= d[p][0.25]:\n",
    "        return 4\n",
    "    elif x <= d[p][0.50]:\n",
    "        return 3\n",
    "    elif x <= d[p][0.75]: \n",
    "        return 2\n",
    "    else:\n",
    "        return 1"
   ]
  },
  {
   "cell_type": "markdown",
   "metadata": {},
   "source": [
    "Making the RFM table according to the data read:"
   ]
  },
  {
   "cell_type": "code",
   "execution_count": 284,
   "metadata": {},
   "outputs": [],
   "source": [
    "import datetime\n",
    "NOW = datetime.date(2017, 1, 1)\n",
    "orders = data\n",
    "orders['tDate2'] = pd.to_datetime(orders['TransactionDate']).dt.date\n",
    "rfmTable = orders.groupby('CustomerID').agg({'tDate2': lambda x: (NOW - x.max()).days, # Recency\n",
    "                                           'TicketNumber': lambda x: len(x),      # Frequency\n",
    "                                           'Spending': lambda x: x.mean()}) # Monetary Value"
   ]
  },
  {
   "cell_type": "code",
   "execution_count": 286,
   "metadata": {},
   "outputs": [],
   "source": [
    "rfmTable['tDate2'] = rfmTable['tDate2'].astype(int)\n",
    "rfmTable.rename(columns={'tDate2': 'recency', \n",
    "                          'TicketNumber': 'frequency', \n",
    "                          'Spending': 'monetary_value'}, inplace=True)"
   ]
  },
  {
   "cell_type": "code",
   "execution_count": 288,
   "metadata": {},
   "outputs": [],
   "source": [
    "quantiles = rfmTable.quantile(q=[0.25, 0.50, 0.75])\n",
    "quantiles = quantiles.to_dict()\n",
    "rfmSegmentation = rfmTable\n",
    "rfmSegmentation['R_Quartile'] = rfmSegmentation['recency'].apply(RClass, args=('recency',quantiles,))\n",
    "rfmSegmentation['F_Quartile'] = rfmSegmentation['frequency'].apply(FMClass, args=('frequency',quantiles,))\n",
    "rfmSegmentation['M_Quartile'] = rfmSegmentation['monetary_value'].apply(FMClass, args=('monetary_value',quantiles,))\n",
    "rfmSegmentation['RFMClass'] = rfmSegmentation.R_Quartile.map(str) + rfmSegmentation.F_Quartile.map(str) + rfmSegmentation.M_Quartile.map(str)\n"
   ]
  },
  {
   "cell_type": "markdown",
   "metadata": {},
   "source": [
    "The segmentations are ready, hence recommend item based on the result matrix to each segment.\n",
    "\n",
    "One may wonder that why there are many \"recommendation failed\" -- it is because the data contains a vast of missing values (i.e., NaN) for office items."
   ]
  },
  {
   "cell_type": "code",
   "execution_count": 313,
   "metadata": {
    "scrolled": false
   },
   "outputs": [
    {
     "name": "stdout",
     "output_type": "stream",
     "text": [
      "category-R(1)-F(1)-M(1) has 118 customers.\n",
      "Among them, 80 ladies and 27 gentlemen, while 11 ppl have not indicated their gender.\n",
      "SKUID 310637 is a unknown product -- recommendation failed\n",
      "category-R(1)-F(1)-M(2) has 184 customers.\n",
      "Among them, 125 ladies and 39 gentlemen, while 20 ppl have not indicated their gender.\n",
      "SKUID 310636 is a unknown product -- recommendation failed\n",
      "category-R(1)-F(1)-M(3) has 125 customers.\n",
      "Among them, 88 ladies and 16 gentlemen, while 21 ppl have not indicated their gender.\n",
      "SKUID 171179 is a unknown product -- recommendation failed\n",
      "category-R(1)-F(1)-M(4) has 23 customers.\n",
      "Among them, 20 ladies and 3 gentlemen, while 0 ppl have not indicated their gender.\n",
      "SKUID 328557 is a unknown product -- recommendation failed\n",
      "category-R(1)-F(2)-M(1) has 55 customers.\n",
      "Among them, 40 ladies and 13 gentlemen, while 2 ppl have not indicated their gender.\n",
      "SKUID 310637 is a unknown product -- recommendation failed\n",
      "category-R(1)-F(2)-M(2) has 49 customers.\n",
      "Among them, 34 ladies and 11 gentlemen, while 4 ppl have not indicated their gender.\n",
      "SKUID 329544 is a unknown product -- recommendation failed\n",
      "category-R(1)-F(2)-M(3) has 60 customers.\n",
      "Among them, 39 ladies and 12 gentlemen, while 9 ppl have not indicated their gender.\n",
      "SKUID 194904 is a unknown product -- recommendation failed\n",
      "category-R(1)-F(2)-M(4) has 46 customers.\n",
      "Among them, 37 ladies and 5 gentlemen, while 4 ppl have not indicated their gender.\n",
      "SKUID 171179 is a unknown product -- recommendation failed\n",
      "category-R(1)-F(3)-M(1) has 44 customers.\n",
      "Among them, 26 ladies and 14 gentlemen, while 4 ppl have not indicated their gender.\n",
      "SKUID 330244 is a unknown product -- recommendation failed\n",
      "category-R(1)-F(3)-M(2) has 25 customers.\n",
      "Among them, 18 ladies and 5 gentlemen, while 2 ppl have not indicated their gender.\n",
      "Recommendation:    WRITING INSTRUMENTS    WRITING SCHOOL\n",
      "category-R(1)-F(3)-M(3) has 34 customers.\n",
      "Among them, 24 ladies and 6 gentlemen, while 4 ppl have not indicated their gender.\n",
      "Recommendation:    OFFICE SUPPLIES    FASTENING/SUPPLIES\n",
      "category-R(1)-F(3)-M(4) has 33 customers.\n",
      "Among them, 25 ladies and 5 gentlemen, while 3 ppl have not indicated their gender.\n",
      "Recommendation:    WRITING INSTRUMENTS    WRITING SCHOOL\n",
      "category-R(1)-F(4)-M(1) has 28 customers.\n",
      "Among them, 21 ladies and 3 gentlemen, while 4 ppl have not indicated their gender.\n",
      "SKUID 153501 is a unknown product -- recommendation failed\n",
      "category-R(1)-F(4)-M(2) has 17 customers.\n",
      "Among them, 10 ladies and 5 gentlemen, while 2 ppl have not indicated their gender.\n",
      "SKUID 330244 is a unknown product -- recommendation failed\n",
      "category-R(1)-F(4)-M(3) has 21 customers.\n",
      "Among them, 14 ladies and 3 gentlemen, while 4 ppl have not indicated their gender.\n",
      "SKUID 312309 is a unknown product -- recommendation failed\n",
      "category-R(1)-F(4)-M(4) has 35 customers.\n",
      "Among them, 21 ladies and 11 gentlemen, while 3 ppl have not indicated their gender.\n",
      "SKUID 171507 is a unknown product -- recommendation failed\n",
      "category-R(2)-F(1)-M(1) has 53 customers.\n",
      "Among them, 36 ladies and 10 gentlemen, while 7 ppl have not indicated their gender.\n",
      "SKUID 221057 is a unknown product -- recommendation failed\n",
      "category-R(2)-F(1)-M(2) has 98 customers.\n",
      "Among them, 72 ladies and 16 gentlemen, while 10 ppl have not indicated their gender.\n",
      "SKUID 316361 is a unknown product -- recommendation failed\n",
      "category-R(2)-F(1)-M(3) has 72 customers.\n",
      "Among them, 59 ladies and 11 gentlemen, while 2 ppl have not indicated their gender.\n",
      "SKUID 171179 is a unknown product -- recommendation failed\n",
      "category-R(2)-F(1)-M(4) has 25 customers.\n",
      "Among them, 21 ladies and 2 gentlemen, while 2 ppl have not indicated their gender.\n",
      "SKUID 171179 is a unknown product -- recommendation failed\n",
      "category-R(2)-F(2)-M(1) has 56 customers.\n",
      "Among them, 35 ladies and 15 gentlemen, while 6 ppl have not indicated their gender.\n",
      "SKUID 330244 is a unknown product -- recommendation failed\n",
      "category-R(2)-F(2)-M(2) has 66 customers.\n",
      "Among them, 49 ladies and 12 gentlemen, while 5 ppl have not indicated their gender.\n",
      "SKUID 318391 is a unknown product -- recommendation failed\n",
      "category-R(2)-F(2)-M(3) has 60 customers.\n",
      "Among them, 44 ladies and 8 gentlemen, while 8 ppl have not indicated their gender.\n",
      "SKUID 171179 is a unknown product -- recommendation failed\n",
      "category-R(2)-F(2)-M(4) has 57 customers.\n",
      "Among them, 43 ladies and 7 gentlemen, while 7 ppl have not indicated their gender.\n",
      "SKUID 171179 is a unknown product -- recommendation failed\n",
      "category-R(2)-F(3)-M(1) has 50 customers.\n",
      "Among them, 28 ladies and 12 gentlemen, while 10 ppl have not indicated their gender.\n",
      "SKUID 330244 is a unknown product -- recommendation failed\n",
      "category-R(2)-F(3)-M(2) has 57 customers.\n",
      "Among them, 43 ladies and 11 gentlemen, while 3 ppl have not indicated their gender.\n",
      "SKUID 153501 is a unknown product -- recommendation failed\n",
      "category-R(2)-F(3)-M(3) has 49 customers.\n",
      "Among them, 36 ladies and 9 gentlemen, while 4 ppl have not indicated their gender.\n",
      "SKUID 167329 is a unknown product -- recommendation failed\n",
      "category-R(2)-F(3)-M(4) has 72 customers.\n",
      "Among them, 41 ladies and 15 gentlemen, while 16 ppl have not indicated their gender.\n",
      "Recommendation:    OFFICE SUPPLIES    FASTENING/SUPPLIES\n",
      "category-R(2)-F(4)-M(1) has 43 customers.\n",
      "Among them, 32 ladies and 9 gentlemen, while 2 ppl have not indicated their gender.\n",
      "SKUID 330244 is a unknown product -- recommendation failed\n",
      "category-R(2)-F(4)-M(2) has 26 customers.\n",
      "Among them, 20 ladies and 4 gentlemen, while 2 ppl have not indicated their gender.\n",
      "SKUID 150412 is a unknown product -- recommendation failed\n",
      "category-R(2)-F(4)-M(3) has 38 customers.\n",
      "Among them, 25 ladies and 11 gentlemen, while 2 ppl have not indicated their gender.\n",
      "SKUID 320991 is a unknown product -- recommendation failed\n",
      "category-R(2)-F(4)-M(4) has 64 customers.\n",
      "Among them, 51 ladies and 8 gentlemen, while 5 ppl have not indicated their gender.\n",
      "SKUID 332423 is a unknown product -- recommendation failed\n",
      "category-R(3)-F(1)-M(1) has 16 customers.\n",
      "Among them, 11 ladies and 4 gentlemen, while 1 ppl have not indicated their gender.\n",
      "SKUID 330244 is a unknown product -- recommendation failed\n",
      "category-R(3)-F(1)-M(2) has 50 customers.\n",
      "Among them, 41 ladies and 8 gentlemen, while 1 ppl have not indicated their gender.\n",
      "SKUID 193166 is a unknown product -- recommendation failed\n",
      "category-R(3)-F(1)-M(3) has 41 customers.\n",
      "Among them, 26 ladies and 11 gentlemen, while 4 ppl have not indicated their gender.\n",
      "SKUID 171179 is a unknown product -- recommendation failed\n",
      "category-R(3)-F(1)-M(4) has 14 customers.\n",
      "Among them, 12 ladies and 1 gentlemen, while 1 ppl have not indicated their gender.\n",
      "SKUID 171179 is a unknown product -- recommendation failed\n",
      "category-R(3)-F(2)-M(1) has 56 customers.\n",
      "Among them, 36 ladies and 12 gentlemen, while 8 ppl have not indicated their gender.\n",
      "SKUID 330244 is a unknown product -- recommendation failed\n",
      "category-R(3)-F(2)-M(2) has 58 customers.\n",
      "Among them, 45 ladies and 9 gentlemen, while 4 ppl have not indicated their gender.\n",
      "SKUID 152118 is a unknown product -- recommendation failed\n",
      "category-R(3)-F(2)-M(3) has 68 customers.\n",
      "Among them, 47 ladies and 12 gentlemen, while 9 ppl have not indicated their gender.\n",
      "Recommendation:    OFFICE SUPPLIES    FILLING/BINDING\n",
      "category-R(3)-F(2)-M(4) has 53 customers.\n",
      "Among them, 38 ladies and 11 gentlemen, while 4 ppl have not indicated their gender.\n",
      "SKUID 171179 is a unknown product -- recommendation failed\n",
      "category-R(3)-F(3)-M(1) has 64 customers.\n",
      "Among them, 46 ladies and 14 gentlemen, while 4 ppl have not indicated their gender.\n",
      "SKUID 330244 is a unknown product -- recommendation failed\n",
      "category-R(3)-F(3)-M(2) has 57 customers.\n",
      "Among them, 40 ladies and 11 gentlemen, while 6 ppl have not indicated their gender.\n",
      "SKUID 317697 is a unknown product -- recommendation failed\n",
      "category-R(3)-F(3)-M(3) has 70 customers.\n",
      "Among them, 47 ladies and 19 gentlemen, while 4 ppl have not indicated their gender.\n",
      "SKUID 165115 is a unknown product -- recommendation failed\n",
      "category-R(3)-F(3)-M(4) has 79 customers.\n",
      "Among them, 61 ladies and 11 gentlemen, while 7 ppl have not indicated their gender.\n",
      "Recommendation:    OFFICE SUPPLIES    FILLING/BINDING\n",
      "category-R(3)-F(4)-M(1) has 90 customers.\n",
      "Among them, 61 ladies and 21 gentlemen, while 8 ppl have not indicated their gender.\n",
      "SKUID 330244 is a unknown product -- recommendation failed\n",
      "category-R(3)-F(4)-M(2) has 45 customers.\n",
      "Among them, 25 ladies and 11 gentlemen, while 9 ppl have not indicated their gender.\n",
      "SKUID 149981 is a unknown product -- recommendation failed\n",
      "category-R(3)-F(4)-M(3) has 45 customers.\n",
      "Among them, 34 ladies and 4 gentlemen, while 7 ppl have not indicated their gender.\n",
      "SKUID 314478 is a unknown product -- recommendation failed\n",
      "category-R(3)-F(4)-M(4) has 88 customers.\n",
      "Among them, 60 ladies and 17 gentlemen, while 10 ppl have not indicated their gender.\n"
     ]
    },
    {
     "name": "stdout",
     "output_type": "stream",
     "text": [
      "SKUID 317917 is a unknown product -- recommendation failed\n",
      "category-R(4)-F(1)-M(1) has 7 customers.\n",
      "Among them, 4 ladies and 1 gentlemen, while 2 ppl have not indicated their gender.\n",
      "SKUID 330244 is a unknown product -- recommendation failed\n",
      "category-R(4)-F(1)-M(2) has 16 customers.\n",
      "Among them, 12 ladies and 0 gentlemen, while 4 ppl have not indicated their gender.\n",
      "SKUID 149981 is a unknown product -- recommendation failed\n",
      "category-R(4)-F(1)-M(3) has 20 customers.\n",
      "Among them, 13 ladies and 2 gentlemen, while 5 ppl have not indicated their gender.\n",
      "SKUID 171179 is a unknown product -- recommendation failed\n",
      "category-R(4)-F(1)-M(4) has 5 customers.\n",
      "Among them, 5 ladies and 0 gentlemen, while 0 ppl have not indicated their gender.\n",
      "SKUID 171179 is a unknown product -- recommendation failed\n",
      "category-R(4)-F(2)-M(1) has 26 customers.\n",
      "Among them, 20 ladies and 3 gentlemen, while 3 ppl have not indicated their gender.\n",
      "SKUID 330244 is a unknown product -- recommendation failed\n",
      "category-R(4)-F(2)-M(2) has 23 customers.\n",
      "Among them, 18 ladies and 1 gentlemen, while 4 ppl have not indicated their gender.\n",
      "SKUID 325742 is a unknown product -- recommendation failed\n",
      "category-R(4)-F(2)-M(3) has 43 customers.\n",
      "Among them, 26 ladies and 7 gentlemen, while 10 ppl have not indicated their gender.\n",
      "Recommendation:    WRITING INSTRUMENTS    WRITING SCHOOL\n",
      "category-R(4)-F(2)-M(4) has 48 customers.\n",
      "Among them, 37 ladies and 6 gentlemen, while 5 ppl have not indicated their gender.\n",
      "SKUID 171179 is a unknown product -- recommendation failed\n",
      "category-R(4)-F(3)-M(1) has 49 customers.\n",
      "Among them, 32 ladies and 14 gentlemen, while 3 ppl have not indicated their gender.\n",
      "SKUID 330244 is a unknown product -- recommendation failed\n",
      "category-R(4)-F(3)-M(2) has 43 customers.\n",
      "Among them, 30 ladies and 10 gentlemen, while 3 ppl have not indicated their gender.\n",
      "SKUID 153501 is a unknown product -- recommendation failed\n",
      "category-R(4)-F(3)-M(3) has 74 customers.\n",
      "Among them, 57 ladies and 10 gentlemen, while 7 ppl have not indicated their gender.\n",
      "SKUID 157410 is a unknown product -- recommendation failed\n",
      "category-R(4)-F(3)-M(4) has 109 customers.\n",
      "Among them, 72 ladies and 31 gentlemen, while 6 ppl have not indicated their gender.\n",
      "SKUID 171179 is a unknown product -- recommendation failed\n",
      "category-R(4)-F(4)-M(1) has 134 customers.\n",
      "Among them, 85 ladies and 32 gentlemen, while 17 ppl have not indicated their gender.\n",
      "SKUID 330244 is a unknown product -- recommendation failed\n",
      "category-R(4)-F(4)-M(2) has 75 customers.\n",
      "Among them, 53 ladies and 13 gentlemen, while 9 ppl have not indicated their gender.\n",
      "SKUID 159065 is a unknown product -- recommendation failed\n",
      "category-R(4)-F(4)-M(3) has 69 customers.\n",
      "Among them, 51 ladies and 9 gentlemen, while 9 ppl have not indicated their gender.\n",
      "SKUID 327696 is a unknown product -- recommendation failed\n",
      "category-R(4)-F(4)-M(4) has 139 customers.\n",
      "Among them, 109 ladies and 19 gentlemen, while 11 ppl have not indicated their gender.\n",
      "SKUID 155239 is a unknown product -- recommendation failed\n"
     ]
    }
   ],
   "source": [
    "import collections\n",
    "idx_match_dic = dict(idx_match)\n",
    "\n",
    "for i in range(1,5):\n",
    "    for j in range(1,5):\n",
    "        for k in range(1,5):\n",
    "            # for each RFM Quartile, select the data out from original data based on CustermerID\n",
    "            sub_segment = rfmSegmentation[rfmSegmentation.RFMClass == str(i*100+j*10+k)]\n",
    "            sub_segment = sub_segment.reset_index()\n",
    "\n",
    "            print 'category-R('+str(i)+')-F('+str(j)+')-M('+str(k)+') has '+ str(sub_segment.shape[0]) + ' customers.'\n",
    "\n",
    "            sub_segment_df2 = customer[customer.CustomerID.isin(sub_segment.CustomerID)]\n",
    "            print 'Among them, ' + str(len(sub_segment_df2[sub_segment_df2.Gender == 'F'])) + ' ladies and ' + str(len(sub_segment_df2[sub_segment_df2.Gender == 'M'])) + ' gentlemen, while ' + str(len(sub_segment_df2[sub_segment_df2.Gender.isnull()])) + ' ppl have not indicated their gender.'\n",
    "\n",
    "#             sub_segment_df = orders[orders.CustomerID.isin(sub_segment.CustomerID)]\n",
    "#             some = collections.Counter(sub_segment_df.SKUCode).most_common()\n",
    "#             recommended_pos = int(math.floor(some.__len__()*.4))\n",
    "#             recommended_id = some[recommended_pos][0]\n",
    "\n",
    "            rec_customer_indices = map(idx_match_dic.get, sub_segment.CustomerID)\n",
    "            sub_res = res[rec_customer_indices]\n",
    "            rec_from = sub_res.mean(axis=0)\n",
    "            rec_item_SKUID = itm_match_rev_dic[np.where(rec_from == rec_from.max())[0][0]]            \n",
    "\n",
    "            result = product1[product1.SKUID == rec_item_SKUID] #recommended_id]\n",
    "            try:\n",
    "                if result.shape[0]:\n",
    "                    print 'Recommendation:'+ '    ' + result.iloc[0].DeptName + '    ' + result.iloc[0].SubDeptName\n",
    "                else:\n",
    "                    result = product2[product2.SKUID == recommended_id]\n",
    "                    if result.shape[0]:\n",
    "                        print 'Recommendation:'+ '    ' + result.iloc[0].PRODUCT_ENG_DESC\n",
    "            except:\n",
    "                print 'SKUID ' + str(result.iloc[0].SKUID) + ' is a unknown product -- recommendation failed'\n"
   ]
  },
  {
   "cell_type": "markdown",
   "metadata": {},
   "source": []
  },
  {
   "cell_type": "code",
   "execution_count": null,
   "metadata": {},
   "outputs": [],
   "source": []
  }
 ],
 "metadata": {
  "kernelspec": {
   "display_name": "Python 2",
   "language": "python",
   "name": "python2"
  },
  "language_info": {
   "codemirror_mode": {
    "name": "ipython",
    "version": 2
   },
   "file_extension": ".py",
   "mimetype": "text/x-python",
   "name": "python",
   "nbconvert_exporter": "python",
   "pygments_lexer": "ipython2",
   "version": "2.7.10"
  }
 },
 "nbformat": 4,
 "nbformat_minor": 2
}
