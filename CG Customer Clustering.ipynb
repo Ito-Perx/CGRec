{
 "cells": [
  {
   "cell_type": "markdown",
   "metadata": {},
   "source": [
    "\n",
    "# Perform Customer Clustering based on user portrait and corresponding transactions\n"
   ]
  },
  {
   "cell_type": "code",
   "execution_count": 136,
   "metadata": {},
   "outputs": [],
   "source": [
    "# -*- coding: utf-8 -*-\n",
    "\n",
    "import sys, getopt\n",
    "import pandas as pd\n",
    "import datetime\n",
    "import os\n",
    "import Tkinter, tkFileDialog\n",
    "import numpy as np\n",
    "\n",
    "# input path\n",
    "pathInp_data = \"/Users/ito/venv/CG-RecoEng/data/\"\n",
    "# set the working directory\n",
    "os.chdir(pathInp_data)"
   ]
  },
  {
   "cell_type": "markdown",
   "metadata": {},
   "source": [
    "## Data Wrangling"
   ]
  },
  {
   "cell_type": "code",
   "execution_count": 163,
   "metadata": {},
   "outputs": [
    {
     "name": "stdout",
     "output_type": "stream",
     "text": [
      "The fields present in the input data set are:\n",
      "Index([u'TypeGroup', u'BUID', u'BranchID', u'TransactionDate', u'CustomerID',\n",
      "       u'CardNo', u'TicketNumber', u'SKUCode', u'Spending', u'DeptCode',\n",
      "       u'SubDeptCode', u'QTY'],\n",
      "      dtype='object')\n"
     ]
    }
   ],
   "source": [
    "NOW = datetime.date.today()\n",
    "inputfile = '/Users/ito/venv/CG-RecoEng/data/og_data/Sales_Transaction.csv'\n",
    "orders = pd.read_csv(inputfile, sep=',', engine='c', parse_dates=['TransactionDate'])\n",
    "print \"The fields present in the input data set are:\"\n",
    "print orders.columns"
   ]
  },
  {
   "cell_type": "code",
   "execution_count": 164,
   "metadata": {},
   "outputs": [
    {
     "data": {
      "text/html": [
       "<div>\n",
       "<style>\n",
       "    .dataframe thead tr:only-child th {\n",
       "        text-align: right;\n",
       "    }\n",
       "\n",
       "    .dataframe thead th {\n",
       "        text-align: left;\n",
       "    }\n",
       "\n",
       "    .dataframe tbody tr th {\n",
       "        vertical-align: top;\n",
       "    }\n",
       "</style>\n",
       "<table border=\"1\" class=\"dataframe\">\n",
       "  <thead>\n",
       "    <tr style=\"text-align: right;\">\n",
       "      <th></th>\n",
       "      <th>TypeGroup</th>\n",
       "      <th>BUID</th>\n",
       "      <th>BranchID</th>\n",
       "      <th>TransactionDate</th>\n",
       "      <th>CustomerID</th>\n",
       "      <th>CardNo</th>\n",
       "      <th>TicketNumber</th>\n",
       "      <th>SKUCode</th>\n",
       "      <th>Spending</th>\n",
       "      <th>DeptCode</th>\n",
       "      <th>SubDeptCode</th>\n",
       "      <th>QTY</th>\n",
       "    </tr>\n",
       "  </thead>\n",
       "  <tbody>\n",
       "    <tr>\n",
       "      <th>0</th>\n",
       "      <td>1</td>\n",
       "      <td>1</td>\n",
       "      <td>175</td>\n",
       "      <td>2017-01-04 18:53:00</td>\n",
       "      <td>B794153F-943C-4181-A73D-22899BEC5DED</td>\n",
       "      <td>8041474156</td>\n",
       "      <td>404089732</td>\n",
       "      <td>4423513</td>\n",
       "      <td>350.0</td>\n",
       "      <td>600.0</td>\n",
       "      <td>601.0</td>\n",
       "      <td>1</td>\n",
       "    </tr>\n",
       "    <tr>\n",
       "      <th>1</th>\n",
       "      <td>1</td>\n",
       "      <td>1</td>\n",
       "      <td>5</td>\n",
       "      <td>2017-01-08 12:49:00</td>\n",
       "      <td>7451F1CB-4686-4D5F-8CB3-9E747B575A6F</td>\n",
       "      <td>8013455916</td>\n",
       "      <td>211318750</td>\n",
       "      <td>3415920</td>\n",
       "      <td>1473.0</td>\n",
       "      <td>200.0</td>\n",
       "      <td>205.0</td>\n",
       "      <td>1</td>\n",
       "    </tr>\n",
       "  </tbody>\n",
       "</table>\n",
       "</div>"
      ],
      "text/plain": [
       "   TypeGroup  BUID  BranchID     TransactionDate  \\\n",
       "0          1     1       175 2017-01-04 18:53:00   \n",
       "1          1     1         5 2017-01-08 12:49:00   \n",
       "\n",
       "                             CustomerID      CardNo  TicketNumber  SKUCode  \\\n",
       "0  B794153F-943C-4181-A73D-22899BEC5DED  8041474156     404089732  4423513   \n",
       "1  7451F1CB-4686-4D5F-8CB3-9E747B575A6F  8013455916     211318750  3415920   \n",
       "\n",
       "   Spending  DeptCode  SubDeptCode  QTY  \n",
       "0     350.0     600.0        601.0    1  \n",
       "1    1473.0     200.0        205.0    1  "
      ]
     },
     "execution_count": 164,
     "metadata": {},
     "output_type": "execute_result"
    }
   ],
   "source": [
    "orders.head(2)"
   ]
  },
  {
   "cell_type": "markdown",
   "metadata": {},
   "source": [
    "From the discussion with Joc, we fix Tops data as the data for the demo.\n",
    "\n",
    "Reason is because that in the data \"ProductMaster_Tops.csv\" that given to us, all the products are in details rather than category info -- which is good for our analysis (e.g., item of interest, item of recommendation).\n"
   ]
  },
  {
   "cell_type": "code",
   "execution_count": 143,
   "metadata": {},
   "outputs": [],
   "source": [
    "productfile = '/Users/ito/venv/CG-RecoEng/data/og_data/ProductMaster_Tops.csv'\n",
    "product = pd.read_csv(productfile, sep=',', engine='c')"
   ]
  },
  {
   "cell_type": "code",
   "execution_count": 144,
   "metadata": {},
   "outputs": [
    {
     "data": {
      "text/html": [
       "<div>\n",
       "<style>\n",
       "    .dataframe thead tr:only-child th {\n",
       "        text-align: right;\n",
       "    }\n",
       "\n",
       "    .dataframe thead th {\n",
       "        text-align: left;\n",
       "    }\n",
       "\n",
       "    .dataframe tbody tr th {\n",
       "        vertical-align: top;\n",
       "    }\n",
       "</style>\n",
       "<table border=\"1\" class=\"dataframe\">\n",
       "  <thead>\n",
       "    <tr style=\"text-align: right;\">\n",
       "      <th></th>\n",
       "      <th>BUID</th>\n",
       "      <th>SKUID</th>\n",
       "      <th>PRODUCT_ENG_DESC</th>\n",
       "      <th>DEPT_ID</th>\n",
       "      <th>DEPT_ENG_DESC</th>\n",
       "      <th>SUBDEPT_ID</th>\n",
       "      <th>SUBDEPT_ENG_DESC</th>\n",
       "      <th>CLASS_ID</th>\n",
       "      <th>CLASS_ENG_DESC</th>\n",
       "      <th>CAT_ID</th>\n",
       "      <th>CAT_ENG_DESC</th>\n",
       "      <th>SUBCAT_ID</th>\n",
       "      <th>SUBCAT_ENG_DESC</th>\n",
       "      <th>BRAND_CODE</th>\n",
       "      <th>BRAND_ENG_NAME</th>\n",
       "      <th>SUPPLIER_CODE</th>\n",
       "      <th>SUPPLIER_ENG_NAME</th>\n",
       "    </tr>\n",
       "  </thead>\n",
       "  <tbody>\n",
       "    <tr>\n",
       "      <th>0</th>\n",
       "      <td>150</td>\n",
       "      <td>8851984131769</td>\n",
       "      <td>Autoquip Takara Springe(C2</td>\n",
       "      <td>3</td>\n",
       "      <td>GM/Housewares</td>\n",
       "      <td>5</td>\n",
       "      <td>GM/Non FMCG</td>\n",
       "      <td>1</td>\n",
       "      <td>DIY/Non FMCG</td>\n",
       "      <td>2</td>\n",
       "      <td>Garden Accessories/Non FMCG</td>\n",
       "      <td>1</td>\n",
       "      <td>Gardening Tools</td>\n",
       "      <td>10703</td>\n",
       "      <td>AUTO QUIP</td>\n",
       "      <td>9811566</td>\n",
       "      <td>AUTO QUIP LTD.,PART</td>\n",
       "    </tr>\n",
       "    <tr>\n",
       "      <th>1</th>\n",
       "      <td>150</td>\n",
       "      <td>8851984131837</td>\n",
       "      <td>Autoquip Takara Roll Jasmin(C2</td>\n",
       "      <td>3</td>\n",
       "      <td>GM/Housewares</td>\n",
       "      <td>5</td>\n",
       "      <td>GM/Non FMCG</td>\n",
       "      <td>1</td>\n",
       "      <td>DIY/Non FMCG</td>\n",
       "      <td>2</td>\n",
       "      <td>Garden Accessories/Non FMCG</td>\n",
       "      <td>1</td>\n",
       "      <td>Gardening Tools</td>\n",
       "      <td>10703</td>\n",
       "      <td>AUTO QUIP</td>\n",
       "      <td>9811566</td>\n",
       "      <td>AUTO QUIP LTD.,PART</td>\n",
       "    </tr>\n",
       "  </tbody>\n",
       "</table>\n",
       "</div>"
      ],
      "text/plain": [
       "   BUID          SKUID                PRODUCT_ENG_DESC  DEPT_ID  \\\n",
       "0   150  8851984131769      Autoquip Takara Springe(C2        3   \n",
       "1   150  8851984131837  Autoquip Takara Roll Jasmin(C2        3   \n",
       "\n",
       "   DEPT_ENG_DESC  SUBDEPT_ID SUBDEPT_ENG_DESC  CLASS_ID CLASS_ENG_DESC  \\\n",
       "0  GM/Housewares           5      GM/Non FMCG         1   DIY/Non FMCG   \n",
       "1  GM/Housewares           5      GM/Non FMCG         1   DIY/Non FMCG   \n",
       "\n",
       "   CAT_ID                 CAT_ENG_DESC  SUBCAT_ID  SUBCAT_ENG_DESC  \\\n",
       "0       2  Garden Accessories/Non FMCG          1  Gardening Tools   \n",
       "1       2  Garden Accessories/Non FMCG          1  Gardening Tools   \n",
       "\n",
       "   BRAND_CODE BRAND_ENG_NAME  SUPPLIER_CODE    SUPPLIER_ENG_NAME  \n",
       "0       10703      AUTO QUIP        9811566  AUTO QUIP LTD.,PART  \n",
       "1       10703      AUTO QUIP        9811566  AUTO QUIP LTD.,PART  "
      ]
     },
     "execution_count": 144,
     "metadata": {},
     "output_type": "execute_result"
    }
   ],
   "source": [
    "product.head(2)"
   ]
  },
  {
   "cell_type": "markdown",
   "metadata": {},
   "source": [
    "Hence, we set Tops_trans_df as the data frame of the grocery data for the demo."
   ]
  },
  {
   "cell_type": "code",
   "execution_count": 145,
   "metadata": {},
   "outputs": [
    {
     "name": "stdout",
     "output_type": "stream",
     "text": [
      "1995491\n",
      "44057\n"
     ]
    }
   ],
   "source": [
    "# Data Segmentation for Tops\n",
    "Tops_trans_df = orders[orders.SKUCode.isin(product.SKUID)]\n",
    "print len(Tops_trans_df.SKUCode)\n",
    "print len(Tops_trans_df.SKUCode.drop_duplicates())"
   ]
  },
  {
   "cell_type": "markdown",
   "metadata": {},
   "source": [
    "Means that, for Tops supermarket, among 1995491 times of product purchasing, there are 44057 kinds of unique items.\n"
   ]
  },
  {
   "cell_type": "code",
   "execution_count": 146,
   "metadata": {},
   "outputs": [
    {
     "data": {
      "text/html": [
       "<div>\n",
       "<style>\n",
       "    .dataframe thead tr:only-child th {\n",
       "        text-align: right;\n",
       "    }\n",
       "\n",
       "    .dataframe thead th {\n",
       "        text-align: left;\n",
       "    }\n",
       "\n",
       "    .dataframe tbody tr th {\n",
       "        vertical-align: top;\n",
       "    }\n",
       "</style>\n",
       "<table border=\"1\" class=\"dataframe\">\n",
       "  <thead>\n",
       "    <tr style=\"text-align: right;\">\n",
       "      <th></th>\n",
       "      <th>TypeGroup</th>\n",
       "      <th>BUID</th>\n",
       "      <th>BranchID</th>\n",
       "      <th>TransactionDate</th>\n",
       "      <th>CustomerID</th>\n",
       "      <th>CardNo</th>\n",
       "      <th>TicketNumber</th>\n",
       "      <th>SKUCode</th>\n",
       "      <th>Spending</th>\n",
       "      <th>DeptCode</th>\n",
       "      <th>SubDeptCode</th>\n",
       "      <th>QTY</th>\n",
       "    </tr>\n",
       "  </thead>\n",
       "  <tbody>\n",
       "    <tr>\n",
       "      <th>7360</th>\n",
       "      <td>1</td>\n",
       "      <td>150</td>\n",
       "      <td>4294</td>\n",
       "      <td>2017-02-27 20:12:00</td>\n",
       "      <td>312CB58B-09B6-49CA-9F1D-AEF8D56E3F4E</td>\n",
       "      <td>8035450104</td>\n",
       "      <td>40155510</td>\n",
       "      <td>8851954101211</td>\n",
       "      <td>17.00</td>\n",
       "      <td>1.0</td>\n",
       "      <td>3.0</td>\n",
       "      <td>1</td>\n",
       "    </tr>\n",
       "    <tr>\n",
       "      <th>7361</th>\n",
       "      <td>1</td>\n",
       "      <td>150</td>\n",
       "      <td>2865</td>\n",
       "      <td>2017-01-18 12:28:00</td>\n",
       "      <td>35FFAE65-80FA-4A2B-8F05-98ACAE82EF86</td>\n",
       "      <td>8028520371</td>\n",
       "      <td>80176812</td>\n",
       "      <td>8851717901607</td>\n",
       "      <td>100.39</td>\n",
       "      <td>1.0</td>\n",
       "      <td>4.0</td>\n",
       "      <td>2</td>\n",
       "    </tr>\n",
       "  </tbody>\n",
       "</table>\n",
       "</div>"
      ],
      "text/plain": [
       "      TypeGroup  BUID  BranchID     TransactionDate  \\\n",
       "7360          1   150      4294 2017-02-27 20:12:00   \n",
       "7361          1   150      2865 2017-01-18 12:28:00   \n",
       "\n",
       "                                CustomerID      CardNo  TicketNumber  \\\n",
       "7360  312CB58B-09B6-49CA-9F1D-AEF8D56E3F4E  8035450104      40155510   \n",
       "7361  35FFAE65-80FA-4A2B-8F05-98ACAE82EF86  8028520371      80176812   \n",
       "\n",
       "            SKUCode  Spending  DeptCode  SubDeptCode  QTY  \n",
       "7360  8851954101211     17.00       1.0          3.0    1  \n",
       "7361  8851717901607    100.39       1.0          4.0    2  "
      ]
     },
     "execution_count": 146,
     "metadata": {},
     "output_type": "execute_result"
    }
   ],
   "source": [
    "Tops_trans_df.head(2)"
   ]
  },
  {
   "cell_type": "code",
   "execution_count": 147,
   "metadata": {},
   "outputs": [],
   "source": [
    "cstmfile = '/Users/ito/venv/CG-RecoEng//data/og_data/Customer_Profile.csv'\n",
    "customer = pd.read_csv(cstmfile, sep=',', engine='c')\n",
    "\n",
    "def strip_brace(input):\n",
    "#     input = input.strip('{')\n",
    "#     input = input.strip('}')\n",
    "    return input[1:-1]\n",
    "#     return input\n",
    "\n",
    "customer.CustomerID = customer.CustomerID.map(strip_brace)"
   ]
  },
  {
   "cell_type": "code",
   "execution_count": 148,
   "metadata": {},
   "outputs": [],
   "source": [
    "grouped_by_userID = Tops_trans_df.groupby('CustomerID')"
   ]
  },
  {
   "cell_type": "code",
   "execution_count": 149,
   "metadata": {},
   "outputs": [
    {
     "data": {
      "text/plain": [
       "796"
      ]
     },
     "execution_count": 149,
     "metadata": {},
     "output_type": "execute_result"
    }
   ],
   "source": [
    "10000 - grouped_by_userID.__len__()"
   ]
  },
  {
   "cell_type": "markdown",
   "metadata": {},
   "source": [
    "Means that, there are 10000 - 9204 = 796 customers who never go to Tops until now.\n",
    "\n",
    "Below we calculate the portrait for each customer."
   ]
  },
  {
   "cell_type": "markdown",
   "metadata": {},
   "source": [
    "## Calculation for the fields in the user portrait"
   ]
  },
  {
   "cell_type": "code",
   "execution_count": 150,
   "metadata": {},
   "outputs": [
    {
     "name": "stderr",
     "output_type": "stream",
     "text": [
      "/Users/ito/venv/CG-RecoEng/lib/python2.7/site-packages/ipykernel_launcher.py:1: SettingWithCopyWarning: \n",
      "A value is trying to be set on a copy of a slice from a DataFrame.\n",
      "Try using .loc[row_indexer,col_indexer] = value instead\n",
      "\n",
      "See the caveats in the documentation: http://pandas.pydata.org/pandas-docs/stable/indexing.html#indexing-view-versus-copy\n",
      "  \"\"\"Entry point for launching an IPython kernel.\n",
      "/Users/ito/venv/CG-RecoEng/lib/python2.7/site-packages/ipykernel_launcher.py:2: FutureWarning: using a dict on a Series for aggregation\n",
      "is deprecated and will be removed in a future version\n",
      "  \n"
     ]
    }
   ],
   "source": [
    "Tops_trans_df['tDate2'] = pd.to_datetime(Tops_trans_df['TransactionDate']).dt.date\n",
    "recency = grouped_by_userID.tDate2.agg({'recency': lambda x: (NOW - x.max()).days})"
   ]
  },
  {
   "cell_type": "code",
   "execution_count": 151,
   "metadata": {},
   "outputs": [
    {
     "name": "stderr",
     "output_type": "stream",
     "text": [
      "/Users/ito/venv/CG-RecoEng/lib/python2.7/site-packages/ipykernel_launcher.py:1: FutureWarning: using a dict on a Series for aggregation\n",
      "is deprecated and will be removed in a future version\n",
      "  \"\"\"Entry point for launching an IPython kernel.\n"
     ]
    }
   ],
   "source": [
    "spent = grouped_by_userID.Spending.agg({'total_spent': np.sum, 'avg_spent': np.mean, 'med_spent': np.median})"
   ]
  },
  {
   "cell_type": "code",
   "execution_count": 152,
   "metadata": {},
   "outputs": [
    {
     "name": "stderr",
     "output_type": "stream",
     "text": [
      "/Users/ito/venv/CG-RecoEng/lib/python2.7/site-packages/ipykernel_launcher.py:1: FutureWarning: using a dict on a Series for aggregation\n",
      "is deprecated and will be removed in a future version\n",
      "  \"\"\"Entry point for launching an IPython kernel.\n"
     ]
    }
   ],
   "source": [
    "frequency = grouped_by_userID.TicketNumber.agg({'frequency': lambda x: len(x)})"
   ]
  },
  {
   "cell_type": "code",
   "execution_count": 153,
   "metadata": {},
   "outputs": [
    {
     "name": "stderr",
     "output_type": "stream",
     "text": [
      "/Users/ito/venv/CG-RecoEng/lib/python2.7/site-packages/ipykernel_launcher.py:1: FutureWarning: using a dict on a Series for aggregation\n",
      "is deprecated and will be removed in a future version\n",
      "  \"\"\"Entry point for launching an IPython kernel.\n"
     ]
    }
   ],
   "source": [
    "spent_range = grouped_by_userID.Spending.agg({'spent_range': lambda x: x.max()- x.min()})"
   ]
  },
  {
   "cell_type": "code",
   "execution_count": 154,
   "metadata": {},
   "outputs": [
    {
     "name": "stderr",
     "output_type": "stream",
     "text": [
      "/Users/ito/venv/CG-RecoEng/lib/python2.7/site-packages/ipykernel_launcher.py:1: FutureWarning: using a dict on a Series for aggregation\n",
      "is deprecated and will be removed in a future version\n",
      "  \"\"\"Entry point for launching an IPython kernel.\n"
     ]
    }
   ],
   "source": [
    "quantities = grouped_by_userID.QTY.agg({'quantities': np.sum})"
   ]
  },
  {
   "cell_type": "code",
   "execution_count": 155,
   "metadata": {},
   "outputs": [
    {
     "name": "stderr",
     "output_type": "stream",
     "text": [
      "/Users/ito/venv/CG-RecoEng/lib/python2.7/site-packages/ipykernel_launcher.py:2: FutureWarning: using a dict on a Series for aggregation\n",
      "is deprecated and will be removed in a future version\n",
      "  \n"
     ]
    }
   ],
   "source": [
    "from collections import Counter \n",
    "varieties = grouped_by_userID.SKUCode.agg({'varieties': lambda x: len(Counter(x))})"
   ]
  },
  {
   "cell_type": "code",
   "execution_count": 156,
   "metadata": {},
   "outputs": [
    {
     "name": "stderr",
     "output_type": "stream",
     "text": [
      "/Users/ito/venv/CG-RecoEng/lib/python2.7/site-packages/ipykernel_launcher.py:1: FutureWarning: using a dict on a Series for aggregation\n",
      "is deprecated and will be removed in a future version\n",
      "  \"\"\"Entry point for launching an IPython kernel.\n",
      "/Users/ito/venv/CG-RecoEng/lib/python2.7/site-packages/ipykernel_launcher.py:2: FutureWarning: using a dict on a Series for aggregation\n",
      "is deprecated and will be removed in a future version\n",
      "  \n"
     ]
    }
   ],
   "source": [
    "valid = grouped_by_userID.Spending.agg({'valid_trans': np.count_nonzero})\n",
    "refund = grouped_by_userID.Spending.agg({'refund': lambda x: len(x[x<0])})\n",
    "# Counter(Tops_trans_df.Spending<0)[True]"
   ]
  },
  {
   "cell_type": "code",
   "execution_count": 157,
   "metadata": {},
   "outputs": [
    {
     "data": {
      "text/html": [
       "<div>\n",
       "<style>\n",
       "    .dataframe thead tr:only-child th {\n",
       "        text-align: right;\n",
       "    }\n",
       "\n",
       "    .dataframe thead th {\n",
       "        text-align: left;\n",
       "    }\n",
       "\n",
       "    .dataframe tbody tr th {\n",
       "        vertical-align: top;\n",
       "    }\n",
       "</style>\n",
       "<table border=\"1\" class=\"dataframe\">\n",
       "  <thead>\n",
       "    <tr style=\"text-align: right;\">\n",
       "      <th></th>\n",
       "      <th>recency</th>\n",
       "      <th>total_spent</th>\n",
       "      <th>avg_spent</th>\n",
       "      <th>med_spent</th>\n",
       "      <th>spent_range</th>\n",
       "      <th>quantities</th>\n",
       "      <th>varieties</th>\n",
       "      <th>frequency</th>\n",
       "      <th>valid_trans</th>\n",
       "      <th>refund</th>\n",
       "    </tr>\n",
       "    <tr>\n",
       "      <th>CustomerID</th>\n",
       "      <th></th>\n",
       "      <th></th>\n",
       "      <th></th>\n",
       "      <th></th>\n",
       "      <th></th>\n",
       "      <th></th>\n",
       "      <th></th>\n",
       "      <th></th>\n",
       "      <th></th>\n",
       "      <th></th>\n",
       "    </tr>\n",
       "  </thead>\n",
       "  <tbody>\n",
       "    <tr>\n",
       "      <th>0003B311-AEFF-494D-9AAD-9951FA5AC599</th>\n",
       "      <td>169</td>\n",
       "      <td>16554.28</td>\n",
       "      <td>88.054681</td>\n",
       "      <td>46.775</td>\n",
       "      <td>1677.05</td>\n",
       "      <td>217</td>\n",
       "      <td>160</td>\n",
       "      <td>188</td>\n",
       "      <td>184.0</td>\n",
       "      <td>1.0</td>\n",
       "    </tr>\n",
       "    <tr>\n",
       "      <th>0005861F-87C4-4CEB-80D4-61CFB8F34E47</th>\n",
       "      <td>173</td>\n",
       "      <td>3458.70</td>\n",
       "      <td>111.570968</td>\n",
       "      <td>76.000</td>\n",
       "      <td>340.00</td>\n",
       "      <td>33</td>\n",
       "      <td>30</td>\n",
       "      <td>31</td>\n",
       "      <td>31.0</td>\n",
       "      <td>0.0</td>\n",
       "    </tr>\n",
       "    <tr>\n",
       "      <th>000684B2-425D-4B3E-9F97-388B88C2A2AD</th>\n",
       "      <td>155</td>\n",
       "      <td>11432.30</td>\n",
       "      <td>178.629688</td>\n",
       "      <td>101.500</td>\n",
       "      <td>856.00</td>\n",
       "      <td>139</td>\n",
       "      <td>54</td>\n",
       "      <td>64</td>\n",
       "      <td>61.0</td>\n",
       "      <td>0.0</td>\n",
       "    </tr>\n",
       "  </tbody>\n",
       "</table>\n",
       "</div>"
      ],
      "text/plain": [
       "                                      recency  total_spent   avg_spent  \\\n",
       "CustomerID                                                               \n",
       "0003B311-AEFF-494D-9AAD-9951FA5AC599      169     16554.28   88.054681   \n",
       "0005861F-87C4-4CEB-80D4-61CFB8F34E47      173      3458.70  111.570968   \n",
       "000684B2-425D-4B3E-9F97-388B88C2A2AD      155     11432.30  178.629688   \n",
       "\n",
       "                                      med_spent  spent_range  quantities  \\\n",
       "CustomerID                                                                 \n",
       "0003B311-AEFF-494D-9AAD-9951FA5AC599     46.775      1677.05         217   \n",
       "0005861F-87C4-4CEB-80D4-61CFB8F34E47     76.000       340.00          33   \n",
       "000684B2-425D-4B3E-9F97-388B88C2A2AD    101.500       856.00         139   \n",
       "\n",
       "                                      varieties  frequency  valid_trans  \\\n",
       "CustomerID                                                                \n",
       "0003B311-AEFF-494D-9AAD-9951FA5AC599        160        188        184.0   \n",
       "0005861F-87C4-4CEB-80D4-61CFB8F34E47         30         31         31.0   \n",
       "000684B2-425D-4B3E-9F97-388B88C2A2AD         54         64         61.0   \n",
       "\n",
       "                                      refund  \n",
       "CustomerID                                    \n",
       "0003B311-AEFF-494D-9AAD-9951FA5AC599     1.0  \n",
       "0005861F-87C4-4CEB-80D4-61CFB8F34E47     0.0  \n",
       "000684B2-425D-4B3E-9F97-388B88C2A2AD     0.0  "
      ]
     },
     "execution_count": 157,
     "metadata": {},
     "output_type": "execute_result"
    }
   ],
   "source": [
    "portrait_df = pd.concat([recency, spent, spent_range, quantities, varieties, frequency, valid, refund],join=\"inner\",axis=1)\n",
    "portrait_df.head(3)"
   ]
  },
  {
   "cell_type": "code",
   "execution_count": 158,
   "metadata": {},
   "outputs": [
    {
     "data": {
      "text/html": [
       "<div>\n",
       "<style>\n",
       "    .dataframe thead tr:only-child th {\n",
       "        text-align: right;\n",
       "    }\n",
       "\n",
       "    .dataframe thead th {\n",
       "        text-align: left;\n",
       "    }\n",
       "\n",
       "    .dataframe tbody tr th {\n",
       "        vertical-align: top;\n",
       "    }\n",
       "</style>\n",
       "<table border=\"1\" class=\"dataframe\">\n",
       "  <thead>\n",
       "    <tr style=\"text-align: right;\">\n",
       "      <th></th>\n",
       "      <th>TypeGroup</th>\n",
       "      <th>BUID</th>\n",
       "      <th>BranchID</th>\n",
       "      <th>TransactionDate</th>\n",
       "      <th>CustomerID</th>\n",
       "      <th>CardNo</th>\n",
       "      <th>TicketNumber</th>\n",
       "      <th>SKUCode</th>\n",
       "      <th>Spending</th>\n",
       "      <th>DeptCode</th>\n",
       "      <th>SubDeptCode</th>\n",
       "      <th>QTY</th>\n",
       "      <th>tDate2</th>\n",
       "    </tr>\n",
       "  </thead>\n",
       "  <tbody>\n",
       "    <tr>\n",
       "      <th>7360</th>\n",
       "      <td>1</td>\n",
       "      <td>150</td>\n",
       "      <td>4294</td>\n",
       "      <td>2017-02-27 20:12:00</td>\n",
       "      <td>312CB58B-09B6-49CA-9F1D-AEF8D56E3F4E</td>\n",
       "      <td>8035450104</td>\n",
       "      <td>40155510</td>\n",
       "      <td>8851954101211</td>\n",
       "      <td>17.00</td>\n",
       "      <td>1.0</td>\n",
       "      <td>3.0</td>\n",
       "      <td>1</td>\n",
       "      <td>2017-02-27</td>\n",
       "    </tr>\n",
       "    <tr>\n",
       "      <th>7361</th>\n",
       "      <td>1</td>\n",
       "      <td>150</td>\n",
       "      <td>2865</td>\n",
       "      <td>2017-01-18 12:28:00</td>\n",
       "      <td>35FFAE65-80FA-4A2B-8F05-98ACAE82EF86</td>\n",
       "      <td>8028520371</td>\n",
       "      <td>80176812</td>\n",
       "      <td>8851717901607</td>\n",
       "      <td>100.39</td>\n",
       "      <td>1.0</td>\n",
       "      <td>4.0</td>\n",
       "      <td>2</td>\n",
       "      <td>2017-01-18</td>\n",
       "    </tr>\n",
       "  </tbody>\n",
       "</table>\n",
       "</div>"
      ],
      "text/plain": [
       "      TypeGroup  BUID  BranchID     TransactionDate  \\\n",
       "7360          1   150      4294 2017-02-27 20:12:00   \n",
       "7361          1   150      2865 2017-01-18 12:28:00   \n",
       "\n",
       "                                CustomerID      CardNo  TicketNumber  \\\n",
       "7360  312CB58B-09B6-49CA-9F1D-AEF8D56E3F4E  8035450104      40155510   \n",
       "7361  35FFAE65-80FA-4A2B-8F05-98ACAE82EF86  8028520371      80176812   \n",
       "\n",
       "            SKUCode  Spending  DeptCode  SubDeptCode  QTY      tDate2  \n",
       "7360  8851954101211     17.00       1.0          3.0    1  2017-02-27  \n",
       "7361  8851717901607    100.39       1.0          4.0    2  2017-01-18  "
      ]
     },
     "execution_count": 158,
     "metadata": {},
     "output_type": "execute_result"
    }
   ],
   "source": [
    "# Index([u'TypeGroup', u'BUID', u'BranchID', u'TransactionDate', u'CustomerID',\n",
    "#        u'CardNo', u'TicketNumber', u'SKUCode', u'Spending', u'DeptCode',\n",
    "#        u'SubDeptCode', u'QTY'],\n",
    "#       dtype='object')\n",
    "Tops_trans_df.head(2)"
   ]
  },
  {
   "cell_type": "markdown",
   "metadata": {},
   "source": [
    "## Customer Clustering\n",
    "Data Normalization before training process."
   ]
  },
  {
   "cell_type": "code",
   "execution_count": 165,
   "metadata": {},
   "outputs": [
    {
     "name": "stdout",
     "output_type": "stream",
     "text": [
      "\n"
     ]
    }
   ],
   "source": [
    "from sklearn.preprocessing import normalize\n",
    "\n",
    "print\n",
    "X = np.array(portrait_df)\n",
    "normed_X = normalize(X, axis=0, norm='l1')\n",
    "X = normed_X"
   ]
  },
  {
   "cell_type": "markdown",
   "metadata": {},
   "source": [
    "Suggested by Joc, hereby an elbow method for #cluster selection is conducted. Firstly, initialize the plot env."
   ]
  },
  {
   "cell_type": "code",
   "execution_count": 166,
   "metadata": {},
   "outputs": [],
   "source": [
    "import matplotlib.pyplot as plt\n",
    "plt.plot()\n",
    "colors = ['b', 'g', 'r']\n",
    "markers = ['o', 'v', 's']"
   ]
  },
  {
   "cell_type": "markdown",
   "metadata": {},
   "source": [
    "Perform k-means while tracking their avg clustering distortions.\n",
    "\n",
    "The “elkan” variation is more efficient by using the triangle inequality.\n",
    "And it doesn’t support sparse data -- which is good -- our data is dense :)"
   ]
  },
  {
   "cell_type": "code",
   "execution_count": 176,
   "metadata": {},
   "outputs": [],
   "source": [
    "from scipy.spatial.distance import cdist\n",
    "from sklearn.cluster import KMeans\n",
    "from sklearn import metrics\n",
    "\n",
    "distortions = []\n",
    "K = range(1,20)\n",
    "for k in K:\n",
    "    kmeanModel = KMeans(n_clusters=k, algorithm='elkan',init='k-means++').fit(X)\n",
    "    kmeanModel.fit(X)\n",
    "    distortions.append(sum(np.min(cdist(X, kmeanModel.cluster_centers_, 'cosine'), axis=1)) / X.shape[0])"
   ]
  },
  {
   "cell_type": "markdown",
   "metadata": {},
   "source": [
    "Plot the elbow according to the distortions from k-means."
   ]
  },
  {
   "cell_type": "code",
   "execution_count": 177,
   "metadata": {},
   "outputs": [
    {
     "data": {
      "image/png": "[encoded data removed]",
      "text/plain": [
       "<matplotlib.figure.Figure at 0x10f1f2c10>"
      ]
     },
     "metadata": {},
     "output_type": "display_data"
    }
   ],
   "source": [
    "plt.plot(K, distortions, 'bo-')\n",
    "plt.xlabel('value of k')\n",
    "plt.ylabel('Distortion')\n",
    "plt.title('Using The Elbow Method to show the optimal k')\n",
    "plt.gcf().set_size_inches(16, 10)\n",
    "plt.show()"
   ]
  },
  {
   "cell_type": "markdown",
   "metadata": {},
   "source": [
    "At this stage, I would rather choose k = 5 for k, since 5, 6, 7.. share similar performance. Hence let's proceed to analyse when k = 5. \n",
    "\n",
    "Also we care about when k = 8."
   ]
  },
  {
   "cell_type": "markdown",
   "metadata": {},
   "source": [
    "## Clusters Analysis"
   ]
  },
  {
   "cell_type": "code",
   "execution_count": 193,
   "metadata": {},
   "outputs": [],
   "source": [
    "kmeanModelfinal = KMeans(n_clusters=5, algorithm='elkan').fit(X)"
   ]
  },
  {
   "cell_type": "markdown",
   "metadata": {},
   "source": [
    "See the number of customers in each cluster."
   ]
  },
  {
   "cell_type": "code",
   "execution_count": 232,
   "metadata": {},
   "outputs": [
    {
     "name": "stdout",
     "output_type": "stream",
     "text": [
      "[7799, 7, 25, 118, 1255]\n"
     ]
    }
   ],
   "source": [
    "clusters = kmeanModelfinal.labels_.tolist()\n",
    "clusters_dic = Counter(clusters)\n",
    "pie_vec = [clusters_dic[i] for i in range(5)]\n",
    "print pie_vec"
   ]
  },
  {
   "cell_type": "markdown",
   "metadata": {},
   "source": [
    "A pie chart plot to visualize the %."
   ]
  },
  {
   "cell_type": "code",
   "execution_count": 233,
   "metadata": {},
   "outputs": [
    {
     "data": {
      "image/png": "[encoded data removed]",
      "text/plain": [
       "<matplotlib.figure.Figure at 0x125876890>"
      ]
     },
     "metadata": {},
     "output_type": "display_data"
    }
   ],
   "source": [
    "labels = ['1','2','3','4','5']\n",
    "colors = ['lightskyblue', 'yellow', 'gold', 'lightcoral', 'yellowgreen']\n",
    "explode = (0, 0.2, 0.3, 0.4, 0.1)\n",
    "plt.pie(pie_vec, labels=labels, explode=explode, colors=colors, autopct='%1.2f%%', shadow=True, startangle=90)\n",
    "plt.gcf().set_size_inches(10, 10)\n",
    "\n",
    "# Set aspect ratio to be equal so that pie is drawn as a circle.\n",
    "plt.axis('equal')\n",
    "plt.show()"
   ]
  },
  {
   "cell_type": "code",
   "execution_count": 276,
   "metadata": {},
   "outputs": [],
   "source": [
    "cluster_df = pd.DataFrame(clusters)\n",
    "cluster_df.index = portrait_df.index\n",
    "frame = pd.concat([portrait_df, cluster_df], axis=1)"
   ]
  },
  {
   "cell_type": "code",
   "execution_count": 313,
   "metadata": {},
   "outputs": [
    {
     "data": {
      "text/html": [
       "<div>\n",
       "<style>\n",
       "    .dataframe thead tr:only-child th {\n",
       "        text-align: right;\n",
       "    }\n",
       "\n",
       "    .dataframe thead th {\n",
       "        text-align: left;\n",
       "    }\n",
       "\n",
       "    .dataframe tbody tr th {\n",
       "        vertical-align: top;\n",
       "    }\n",
       "</style>\n",
       "<table border=\"1\" class=\"dataframe\">\n",
       "  <thead>\n",
       "    <tr style=\"text-align: right;\">\n",
       "      <th></th>\n",
       "      <th>recency</th>\n",
       "      <th>total_spent</th>\n",
       "      <th>avg_spent</th>\n",
       "      <th>med_spent</th>\n",
       "      <th>spent_range</th>\n",
       "      <th>quantities</th>\n",
       "      <th>varieties</th>\n",
       "      <th>frequency</th>\n",
       "      <th>valid_trans</th>\n",
       "      <th>refund</th>\n",
       "      <th>0</th>\n",
       "    </tr>\n",
       "    <tr>\n",
       "      <th>CustomerID</th>\n",
       "      <th></th>\n",
       "      <th></th>\n",
       "      <th></th>\n",
       "      <th></th>\n",
       "      <th></th>\n",
       "      <th></th>\n",
       "      <th></th>\n",
       "      <th></th>\n",
       "      <th></th>\n",
       "      <th></th>\n",
       "      <th></th>\n",
       "    </tr>\n",
       "  </thead>\n",
       "  <tbody>\n",
       "    <tr>\n",
       "      <th>0003B311-AEFF-494D-9AAD-9951FA5AC599</th>\n",
       "      <td>169</td>\n",
       "      <td>16554.28</td>\n",
       "      <td>88.054681</td>\n",
       "      <td>46.775</td>\n",
       "      <td>1677.05</td>\n",
       "      <td>217</td>\n",
       "      <td>160</td>\n",
       "      <td>188</td>\n",
       "      <td>184.0</td>\n",
       "      <td>1.0</td>\n",
       "      <td>3</td>\n",
       "    </tr>\n",
       "    <tr>\n",
       "      <th>0005861F-87C4-4CEB-80D4-61CFB8F34E47</th>\n",
       "      <td>173</td>\n",
       "      <td>3458.70</td>\n",
       "      <td>111.570968</td>\n",
       "      <td>76.000</td>\n",
       "      <td>340.00</td>\n",
       "      <td>33</td>\n",
       "      <td>30</td>\n",
       "      <td>31</td>\n",
       "      <td>31.0</td>\n",
       "      <td>0.0</td>\n",
       "      <td>0</td>\n",
       "    </tr>\n",
       "    <tr>\n",
       "      <th>000684B2-425D-4B3E-9F97-388B88C2A2AD</th>\n",
       "      <td>155</td>\n",
       "      <td>11432.30</td>\n",
       "      <td>178.629688</td>\n",
       "      <td>101.500</td>\n",
       "      <td>856.00</td>\n",
       "      <td>139</td>\n",
       "      <td>54</td>\n",
       "      <td>64</td>\n",
       "      <td>61.0</td>\n",
       "      <td>0.0</td>\n",
       "      <td>0</td>\n",
       "    </tr>\n",
       "    <tr>\n",
       "      <th>000728AC-3ED5-479A-8DF9-3A94AA40665F</th>\n",
       "      <td>140</td>\n",
       "      <td>61919.39</td>\n",
       "      <td>154.798475</td>\n",
       "      <td>75.000</td>\n",
       "      <td>2286.50</td>\n",
       "      <td>527</td>\n",
       "      <td>252</td>\n",
       "      <td>400</td>\n",
       "      <td>400.0</td>\n",
       "      <td>0.0</td>\n",
       "      <td>0</td>\n",
       "    </tr>\n",
       "    <tr>\n",
       "      <th>0008248F-CEAB-407C-9626-73283BB11EB4</th>\n",
       "      <td>148</td>\n",
       "      <td>4196.78</td>\n",
       "      <td>209.839000</td>\n",
       "      <td>79.550</td>\n",
       "      <td>1632.00</td>\n",
       "      <td>30</td>\n",
       "      <td>20</td>\n",
       "      <td>20</td>\n",
       "      <td>20.0</td>\n",
       "      <td>0.0</td>\n",
       "      <td>0</td>\n",
       "    </tr>\n",
       "  </tbody>\n",
       "</table>\n",
       "</div>"
      ],
      "text/plain": [
       "                                      recency  total_spent   avg_spent  \\\n",
       "CustomerID                                                               \n",
       "0003B311-AEFF-494D-9AAD-9951FA5AC599      169     16554.28   88.054681   \n",
       "0005861F-87C4-4CEB-80D4-61CFB8F34E47      173      3458.70  111.570968   \n",
       "000684B2-425D-4B3E-9F97-388B88C2A2AD      155     11432.30  178.629688   \n",
       "000728AC-3ED5-479A-8DF9-3A94AA40665F      140     61919.39  154.798475   \n",
       "0008248F-CEAB-407C-9626-73283BB11EB4      148      4196.78  209.839000   \n",
       "\n",
       "                                      med_spent  spent_range  quantities  \\\n",
       "CustomerID                                                                 \n",
       "0003B311-AEFF-494D-9AAD-9951FA5AC599     46.775      1677.05         217   \n",
       "0005861F-87C4-4CEB-80D4-61CFB8F34E47     76.000       340.00          33   \n",
       "000684B2-425D-4B3E-9F97-388B88C2A2AD    101.500       856.00         139   \n",
       "000728AC-3ED5-479A-8DF9-3A94AA40665F     75.000      2286.50         527   \n",
       "0008248F-CEAB-407C-9626-73283BB11EB4     79.550      1632.00          30   \n",
       "\n",
       "                                      varieties  frequency  valid_trans  \\\n",
       "CustomerID                                                                \n",
       "0003B311-AEFF-494D-9AAD-9951FA5AC599        160        188        184.0   \n",
       "0005861F-87C4-4CEB-80D4-61CFB8F34E47         30         31         31.0   \n",
       "000684B2-425D-4B3E-9F97-388B88C2A2AD         54         64         61.0   \n",
       "000728AC-3ED5-479A-8DF9-3A94AA40665F        252        400        400.0   \n",
       "0008248F-CEAB-407C-9626-73283BB11EB4         20         20         20.0   \n",
       "\n",
       "                                      refund  0  \n",
       "CustomerID                                       \n",
       "0003B311-AEFF-494D-9AAD-9951FA5AC599     1.0  3  \n",
       "0005861F-87C4-4CEB-80D4-61CFB8F34E47     0.0  0  \n",
       "000684B2-425D-4B3E-9F97-388B88C2A2AD     0.0  0  \n",
       "000728AC-3ED5-479A-8DF9-3A94AA40665F     0.0  0  \n",
       "0008248F-CEAB-407C-9626-73283BB11EB4     0.0  0  "
      ]
     },
     "execution_count": 313,
     "metadata": {},
     "output_type": "execute_result"
    }
   ],
   "source": [
    "frame.head()"
   ]
  },
  {
   "cell_type": "code",
   "execution_count": 322,
   "metadata": {},
   "outputs": [
    {
     "data": {
      "image/png": "[encoded data removed]",
      "text/plain": [
       "<matplotlib.figure.Figure at 0x126ef6450>"
      ]
     },
     "metadata": {},
     "output_type": "display_data"
    }
   ],
   "source": [
    "plt.bar(range(5),list(frame.groupby(0).total_spent.mean()), )\n",
    "plt.title(\"Spending Analysis for each group\")\n",
    "plt.xlabel(\"Group\")\n",
    "plt.ylabel(\"Avg total amount spent\")\n",
    "plt.gcf()\n",
    "plt.show()"
   ]
  },
  {
   "cell_type": "code",
   "execution_count": 321,
   "metadata": {},
   "outputs": [
    {
     "data": {
      "image/png": "[encoded data removed]",
      "text/plain": [
       "<matplotlib.figure.Figure at 0x115123710>"
      ]
     },
     "metadata": {},
     "output_type": "display_data"
    }
   ],
   "source": [
    "plt.bar(range(5),list(frame.groupby(0).refund.mean()), )\n",
    "plt.title(\"Refund Analysis for each group\")\n",
    "plt.xlabel(\"Group\")\n",
    "plt.ylabel(\"Avg value for refunding\")\n",
    "plt.gcf()\n",
    "plt.show()"
   ]
  },
  {
   "cell_type": "markdown",
   "metadata": {},
   "source": [
    "### We can hence name each group (roughly) based on such analysis"
   ]
  },
  {
   "cell_type": "code",
   "execution_count": 323,
   "metadata": {},
   "outputs": [
    {
     "data": {
      "image/png": "[encoded data removed]",
      "text/plain": [
       "<matplotlib.figure.Figure at 0x126edf910>"
      ]
     },
     "metadata": {},
     "output_type": "display_data"
    }
   ],
   "source": [
    "plt.bar(range(5),list(frame.groupby(0).frequency.mean()), )\n",
    "plt.title(\"Refund Analysis for each group\")\n",
    "plt.xlabel(\"Group\")\n",
    "plt.ylabel(\"Avg value for refunding\")\n",
    "plt.gcf()\n",
    "plt.show()"
   ]
  },
  {
   "cell_type": "markdown",
   "metadata": {},
   "source": [
    "### such as from this analysis, we understand that the group 0 is very special -- call it common?"
   ]
  },
  {
   "cell_type": "code",
   "execution_count": null,
   "metadata": {},
   "outputs": [],
   "source": []
  }
 ],
 "metadata": {
  "kernelspec": {
   "display_name": "Python 2",
   "language": "python",
   "name": "python2"
  },
  "language_info": {
   "codemirror_mode": {
    "name": "ipython",
    "version": 2
   },
   "file_extension": ".py",
   "mimetype": "text/x-python",
   "name": "python",
   "nbconvert_exporter": "python",
   "pygments_lexer": "ipython2",
   "version": "2.7.10"
  }
 },
 "nbformat": 4,
 "nbformat_minor": 2
}
