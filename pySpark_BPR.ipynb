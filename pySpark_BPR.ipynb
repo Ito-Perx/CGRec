{
 "cells": [
  {
   "cell_type": "markdown",
   "metadata": {},
   "source": [
    "## pySpark-recommendation with BPR implemented (implicit feedback)"
   ]
  },
  {
   "cell_type": "markdown",
   "metadata": {},
   "source": [
    "Have noted with Vidyut that currently we have to build method-pool instead of rules. (Notes are in separated email.)\n",
    "\n",
    "* Here we illustrate the pySpark with ALS and BPR using our own data"
   ]
  },
  {
   "cell_type": "code",
   "execution_count": 1,
   "metadata": {},
   "outputs": [],
   "source": [
    "from pyspark import SparkConf, SparkContext \n",
    "from pyspark.mllib.recommendation import ALS, Rating\n",
    "import numpy as np"
   ]
  },
  {
   "cell_type": "markdown",
   "metadata": {},
   "source": [
    "This fuction translates the data into RDD rating format."
   ]
  },
  {
   "cell_type": "code",
   "execution_count": 3,
   "metadata": {},
   "outputs": [],
   "source": [
    "def get_rating(str):  \n",
    "    arr = str.split('\\t') \n",
    "    user_id = int(arr[0])  \n",
    "    movie_id = int(arr[1])  \n",
    "    user_rating = float(arr[2])  \n",
    "    return Rating(user_id, movie_id, user_rating)\n",
    "try:\n",
    "    sc.stop()\n",
    "except:\n",
    "    pass"
   ]
  },
  {
   "cell_type": "markdown",
   "metadata": {},
   "source": [
    "### Load our data"
   ]
  },
  {
   "cell_type": "markdown",
   "metadata": {},
   "source": [
    "Set Spark Context (cannot be reset once set well)."
   ]
  },
  {
   "cell_type": "code",
   "execution_count": 80,
   "metadata": {},
   "outputs": [],
   "source": [
    "conf = SparkConf().setMaster('local').setAppName('RecoEng').set(\"spark.executor.memory\", \"1g\")  \n",
    "sc = SparkContext(conf=conf)"
   ]
  },
  {
   "cell_type": "code",
   "execution_count": 81,
   "metadata": {},
   "outputs": [],
   "source": [
    "data = sc.textFile('/Users/ito/venv/pyspark-rec/CG-Tops/Tops_user-item_data')  "
   ]
  },
  {
   "cell_type": "code",
   "execution_count": 82,
   "metadata": {},
   "outputs": [
    {
     "data": {
      "text/plain": [
       "[u'999\\t7071\\t1\\t736433', u'999\\t7070\\t1\\t736433', u'999\\t6951\\t1\\t736485']"
      ]
     },
     "execution_count": 82,
     "metadata": {},
     "output_type": "execute_result"
    }
   ],
   "source": [
    "data.top(3)"
   ]
  },
  {
   "cell_type": "code",
   "execution_count": 83,
   "metadata": {},
   "outputs": [
    {
     "data": {
      "text/plain": [
       "[Rating(user=9204, product=43518, rating=1.0),\n",
       " Rating(user=9204, product=43392, rating=2.0),\n",
       " Rating(user=9204, product=43378, rating=1.0)]"
      ]
     },
     "execution_count": 83,
     "metadata": {},
     "output_type": "execute_result"
    }
   ],
   "source": [
    "ratings = data.map(get_rating) \n",
    "ratings.top(3)"
   ]
  },
  {
   "cell_type": "markdown",
   "metadata": {},
   "source": [
    "### ALS model"
   ]
  },
  {
   "cell_type": "code",
   "execution_count": 84,
   "metadata": {},
   "outputs": [],
   "source": [
    "rank = 10  \n",
    "iterations = 5    "
   ]
  },
  {
   "cell_type": "code",
   "execution_count": 85,
   "metadata": {},
   "outputs": [
    {
     "name": "stdout",
     "output_type": "stream",
     "text": [
      "CPU times: user 8.55 ms, sys: 2.99 ms, total: 11.5 ms\n",
      "Wall time: 20.3 s\n"
     ]
    }
   ],
   "source": [
    "%%time\n",
    "ALSmodel = ALS.train(ratings, rank, iterations)"
   ]
  },
  {
   "cell_type": "markdown",
   "metadata": {},
   "source": [
    "The scalability and efficiency of pySpark is going well, and even it is not CPU-wise multiprocessed. So far so good, means my next step is towards accuracy and realistic level."
   ]
  },
  {
   "cell_type": "code",
   "execution_count": 86,
   "metadata": {},
   "outputs": [
    {
     "name": "stdout",
     "output_type": "stream",
     "text": [
      "\n",
      "################################\n",
      "recommend items for userid 10:\n",
      "Rating(user=10, product=39247, rating=109.10205162239563)\n",
      "Rating(user=10, product=36829, rating=86.21868390496543)\n",
      "Rating(user=10, product=39898, rating=80.4563362042768)\n",
      "Rating(user=10, product=10884, rating=56.624898387699034)\n",
      "Rating(user=10, product=10939, rating=55.588593045927624)\n",
      "################################\n",
      "\n"
     ]
    }
   ],
   "source": [
    "userid = 10\n",
    "rec_items = ALSmodel.recommendProducts(userid, 5)  \n",
    "print ('\\n################################')    \n",
    "print ('recommend items for userid %d:' % userid)\n",
    "for i in rec_items:\n",
    "    print(i) \n",
    "print ('################################\\n' ) "
   ]
  },
  {
   "cell_type": "code",
   "execution_count": 22,
   "metadata": {},
   "outputs": [],
   "source": [
    "sc.stop()"
   ]
  },
  {
   "cell_type": "markdown",
   "metadata": {},
   "source": [
    "### BPR model"
   ]
  },
  {
   "cell_type": "code",
   "execution_count": 23,
   "metadata": {},
   "outputs": [],
   "source": [
    "from bpr_spark.bpr import bprMF"
   ]
  },
  {
   "cell_type": "code",
   "execution_count": 24,
   "metadata": {},
   "outputs": [],
   "source": [
    "conf = SparkConf().setMaster(\"local\").setAppName(\"BPR\").set(\"spark.executor.memory\", \"8g\")\n",
    "sc = SparkContext(conf=conf)"
   ]
  },
  {
   "cell_type": "code",
   "execution_count": 25,
   "metadata": {},
   "outputs": [],
   "source": [
    "data = sc.textFile(\"/Users/ito/venv/pyspark-rec/CG-Tops/Tops_user-item_data\")\n",
    "ratings = data.map(lambda line: line.split(\"\\t\")).map(lambda x: map(int, x[:2]))"
   ]
  },
  {
   "cell_type": "markdown",
   "metadata": {},
   "source": [
    "* Have remained only user-item information yet (the basic BPR or say BPR-1)"
   ]
  },
  {
   "cell_type": "code",
   "execution_count": 26,
   "metadata": {},
   "outputs": [
    {
     "data": {
      "text/plain": [
       "[[9204, 43518], [9204, 43392], [9204, 43378], [9204, 43378], [9204, 42598]]"
      ]
     },
     "execution_count": 26,
     "metadata": {},
     "output_type": "execute_result"
    }
   ],
   "source": [
    "ratings.top(5)"
   ]
  },
  {
   "cell_type": "code",
   "execution_count": 27,
   "metadata": {},
   "outputs": [
    {
     "name": "stdout",
     "output_type": "stream",
     "text": [
      "CPU times: user 458 ms, sys: 405 ms, total: 863 ms\n",
      "Wall time: 17min 32s\n"
     ]
    }
   ],
   "source": [
    "%%time\n",
    "userMat, prodMat = bprMF(ratings, 10, 10) "
   ]
  },
  {
   "cell_type": "markdown",
   "metadata": {},
   "source": [
    "Building another version that can run faster (MR for map reduce)"
   ]
  },
  {
   "cell_type": "code",
   "execution_count": 28,
   "metadata": {},
   "outputs": [],
   "source": [
    "# from bpr_spark.bprMR import bpr_MF_MR\n",
    "# userMat2, prodMat2 = bpr_MF_MR(ratings, 10, 10)"
   ]
  },
  {
   "cell_type": "code",
   "execution_count": 44,
   "metadata": {},
   "outputs": [],
   "source": [
    "import numpy as np\n",
    "userid = 10\n",
    "rec_items_bpr = np.inner(userMat[userid].T, prodMat)"
   ]
  },
  {
   "cell_type": "code",
   "execution_count": 48,
   "metadata": {},
   "outputs": [],
   "source": [
    "import heapq\n",
    "res = []\n",
    "top_howmany = 5\n",
    "top_list = heapq.nlargest(top_howmany,rec_items_bpr)\n",
    "res.append([i for i in range(len(rec_items_bpr)) if rec_items_bpr[i] in top_list])"
   ]
  },
  {
   "cell_type": "code",
   "execution_count": 78,
   "metadata": {},
   "outputs": [
    {
     "name": "stdout",
     "output_type": "stream",
     "text": [
      "\n",
      "################################\n",
      "recommend items for userid 10:\n",
      "user=10,  product=92\n",
      "user=10,  product=108\n",
      "user=10,  product=1226\n",
      "user=10,  product=6951\n",
      "user=10,  product=11419\n",
      "################################\n",
      "\n"
     ]
    }
   ],
   "source": [
    "print ('\\n################################')    \n",
    "print ('recommend items for userid %d:' % userid)\n",
    "for i in res[0]:\n",
    "    print 'user=%d, ' % userid + ' product=%d' %i  \n",
    "print ('################################\\n' ) "
   ]
  },
  {
   "cell_type": "code",
   "execution_count": null,
   "metadata": {},
   "outputs": [],
   "source": [
    "recommend movies for userid 10:\n",
    "Rating(user=10, product=10884, rating=59.42902969981236)\n",
    "Rating(user=10, product=2560, rating=58.662982221055486)\n",
    "Rating(user=10, product=5565, rating=31.719984045270465)\n",
    "Rating(user=10, product=39898, rating=30.352139717436557)\n",
    "Rating(user=10, product=11101, rating=24.679715171218653)"
   ]
  },
  {
   "cell_type": "code",
   "execution_count": 79,
   "metadata": {},
   "outputs": [],
   "source": [
    "sc.stop()"
   ]
  },
  {
   "cell_type": "code",
   "execution_count": null,
   "metadata": {},
   "outputs": [],
   "source": []
  }
 ],
 "metadata": {
  "kernelspec": {
   "display_name": "Python 2",
   "language": "python",
   "name": "python2"
  },
  "language_info": {
   "codemirror_mode": {
    "name": "ipython",
    "version": 2
   },
   "file_extension": ".py",
   "mimetype": "text/x-python",
   "name": "python",
   "nbconvert_exporter": "python",
   "pygments_lexer": "ipython2",
   "version": "2.7.10"
  }
 },
 "nbformat": 4,
 "nbformat_minor": 2
}
