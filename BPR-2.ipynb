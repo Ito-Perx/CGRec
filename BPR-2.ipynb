{
 "cells": [
  {
   "cell_type": "markdown",
   "metadata": {},
   "source": [
    "## Bayesian Personalized Ranking (BPR) Algorithm -- by timestamp"
   ]
  },
  {
   "cell_type": "code",
   "execution_count": 8,
   "metadata": {},
   "outputs": [],
   "source": [
    "from dataloader import LoadRatingFile_HoldKOut\n",
    "from MFbpr import MFbpr\n",
    "import multiprocessing as mp\n",
    "import os\n",
    "import pandas as pd\n",
    "import numpy as np\n",
    "\n",
    "# ShoppingMall = pd.read_csv('/Users/ito/venv/CG-RecoEng/data/SM-focus.csv', sep=',', engine='c')\n",
    "Tops_trans_df = pd.read_csv('/Users/ito/venv/CG-RecoEng/data/og_data/Tops_supermarket.csv', \n",
    "                            parse_dates=['TransactionDate'], sep=',', engine='c')"
   ]
  },
  {
   "cell_type": "code",
   "execution_count": 9,
   "metadata": {},
   "outputs": [
    {
     "name": "stdout",
     "output_type": "stream",
     "text": [
      "(1995491, 13)\n"
     ]
    },
    {
     "data": {
      "text/html": [
       "<div>\n",
       "<style>\n",
       "    .dataframe thead tr:only-child th {\n",
       "        text-align: right;\n",
       "    }\n",
       "\n",
       "    .dataframe thead th {\n",
       "        text-align: left;\n",
       "    }\n",
       "\n",
       "    .dataframe tbody tr th {\n",
       "        vertical-align: top;\n",
       "    }\n",
       "</style>\n",
       "<table border=\"1\" class=\"dataframe\">\n",
       "  <thead>\n",
       "    <tr style=\"text-align: right;\">\n",
       "      <th></th>\n",
       "      <th>TypeGroup</th>\n",
       "      <th>BUID</th>\n",
       "      <th>BranchID</th>\n",
       "      <th>TransactionDate</th>\n",
       "      <th>CustomerID</th>\n",
       "      <th>CardNo</th>\n",
       "      <th>TicketNumber</th>\n",
       "      <th>SKUCode</th>\n",
       "      <th>Spending</th>\n",
       "      <th>DeptCode</th>\n",
       "      <th>SubDeptCode</th>\n",
       "      <th>QTY</th>\n",
       "      <th>tDate2</th>\n",
       "    </tr>\n",
       "  </thead>\n",
       "  <tbody>\n",
       "    <tr>\n",
       "      <th>0</th>\n",
       "      <td>1</td>\n",
       "      <td>150</td>\n",
       "      <td>4294</td>\n",
       "      <td>2017-02-27 20:12:00</td>\n",
       "      <td>312CB58B-09B6-49CA-9F1D-AEF8D56E3F4E</td>\n",
       "      <td>8035450104</td>\n",
       "      <td>40155510</td>\n",
       "      <td>8851954101211</td>\n",
       "      <td>17.00</td>\n",
       "      <td>1.0</td>\n",
       "      <td>3.0</td>\n",
       "      <td>1</td>\n",
       "      <td>2017-02-27</td>\n",
       "    </tr>\n",
       "    <tr>\n",
       "      <th>1</th>\n",
       "      <td>1</td>\n",
       "      <td>150</td>\n",
       "      <td>2865</td>\n",
       "      <td>2017-01-18 12:28:00</td>\n",
       "      <td>35FFAE65-80FA-4A2B-8F05-98ACAE82EF86</td>\n",
       "      <td>8028520371</td>\n",
       "      <td>80176812</td>\n",
       "      <td>8851717901607</td>\n",
       "      <td>100.39</td>\n",
       "      <td>1.0</td>\n",
       "      <td>4.0</td>\n",
       "      <td>2</td>\n",
       "      <td>2017-01-18</td>\n",
       "    </tr>\n",
       "  </tbody>\n",
       "</table>\n",
       "</div>"
      ],
      "text/plain": [
       "   TypeGroup  BUID  BranchID     TransactionDate  \\\n",
       "0          1   150      4294 2017-02-27 20:12:00   \n",
       "1          1   150      2865 2017-01-18 12:28:00   \n",
       "\n",
       "                             CustomerID      CardNo  TicketNumber  \\\n",
       "0  312CB58B-09B6-49CA-9F1D-AEF8D56E3F4E  8035450104      40155510   \n",
       "1  35FFAE65-80FA-4A2B-8F05-98ACAE82EF86  8028520371      80176812   \n",
       "\n",
       "         SKUCode  Spending  DeptCode  SubDeptCode  QTY      tDate2  \n",
       "0  8851954101211     17.00       1.0          3.0    1  2017-02-27  \n",
       "1  8851717901607    100.39       1.0          4.0    2  2017-01-18  "
      ]
     },
     "execution_count": 9,
     "metadata": {},
     "output_type": "execute_result"
    }
   ],
   "source": [
    "print Tops_trans_df.shape\n",
    "Tops_trans_df.head(2)"
   ]
  },
  {
   "cell_type": "code",
   "execution_count": 10,
   "metadata": {},
   "outputs": [],
   "source": [
    "# productfile1 = '/Users/ito/venv/CG-RecoEng/data/og_data/ProductMaster.csv'\n",
    "productfile2 = '/Users/ito/venv/CG-RecoEng/data/og_data/ProductMaster_Tops.csv'\n",
    "# product1 = pd.read_csv(productfile1, sep=',', engine='c')\n",
    "product2 = pd.read_csv(productfile2, sep=',', engine='c')"
   ]
  },
  {
   "cell_type": "code",
   "execution_count": 11,
   "metadata": {},
   "outputs": [],
   "source": [
    "# data = ShoppingMall\n",
    "data = Tops_trans_df"
   ]
  },
  {
   "cell_type": "code",
   "execution_count": 12,
   "metadata": {},
   "outputs": [],
   "source": [
    "# Creating the data that follows the timestamp format\n",
    "# type(data.TransactionDate[0])\n",
    "data['OrdinalTime'] = data.TransactionDate.map(pd._libs.tslib.Timestamp.toordinal)\n",
    "data['CustomerCat'] = pd.Categorical(list(data.CustomerID)).codes\n",
    "data['ItemCat'] = pd.Categorical(list(data.SKUCode)).codes\n",
    "sub_data = data[['CustomerCat','ItemCat','QTY','OrdinalTime']]\n",
    "sub_data.shape\n",
    "sub_data.head()\n",
    "\n",
    "sub_data = sub_data.sort_values(by=['CustomerCat','ItemCat'])\n",
    "sub_data.to_csv('Tops_BPR_2_data.csv', index=False,header=False)"
   ]
  },
  {
   "cell_type": "markdown",
   "metadata": {},
   "source": [
    "Match the ID and the \"series number\" by zipping them"
   ]
  },
  {
   "cell_type": "code",
   "execution_count": 13,
   "metadata": {},
   "outputs": [],
   "source": [
    "idx = pd.Categorical(list(data.CustomerID)).codes\n",
    "itm = pd.Categorical(list(data.SKUCode)).codes\n",
    "\n",
    "idx_match = zip(data.CustomerID, data['CustomerCat'] )\n",
    "itm_match = zip(data.SKUCode, data['ItemCat'])"
   ]
  },
  {
   "cell_type": "code",
   "execution_count": 14,
   "metadata": {
    "scrolled": true
   },
   "outputs": [
    {
     "data": {
      "text/plain": [
       "[('312CB58B-09B6-49CA-9F1D-AEF8D56E3F4E', 1785),\n",
       " ('35FFAE65-80FA-4A2B-8F05-98ACAE82EF86', 1971),\n",
       " ('D2F9C8EA-51C7-4824-B7F5-9ADAAE665EDB', 7656),\n",
       " ('0FEF3D2E-DFF0-4CAF-8CB2-471FF2404348', 595),\n",
       " ('B1E1C8CF-D484-4141-89A5-D24C570EF70A', 6470)]"
      ]
     },
     "execution_count": 14,
     "metadata": {},
     "output_type": "execute_result"
    }
   ],
   "source": [
    "idx_match[:5]"
   ]
  },
  {
   "cell_type": "markdown",
   "metadata": {},
   "source": [
    "## Data Preparation"
   ]
  },
  {
   "cell_type": "code",
   "execution_count": 15,
   "metadata": {},
   "outputs": [],
   "source": [
    "dataset = 'Tops_BPR_2_data.csv'\n",
    "splitter = \",\"\n",
    "hold_k_out = 1"
   ]
  },
  {
   "cell_type": "code",
   "execution_count": 16,
   "metadata": {},
   "outputs": [
    {
     "name": "stdout",
     "output_type": "stream",
     "text": [
      "Load data (Tops_BPR_2_data.csv) done.\n",
      "#users: 9204, #items: 44057, #ratings: 1995491\n"
     ]
    }
   ],
   "source": [
    "from dataloader import LoadRatingFile_HoldKOut\n",
    "train, test, num_user, num_item, num_ratings = LoadRatingFile_HoldKOut(dataset, splitter, hold_k_out)\n",
    "print(\"Load data (%s) done.\" %(dataset))\n",
    "print(\"#users: %d, #items: %d, #ratings: %d\" %(num_user, num_item, num_ratings))"
   ]
  },
  {
   "cell_type": "markdown",
   "metadata": {},
   "source": [
    "Setup the parameters for bpr with multiprocessing."
   ]
  },
  {
   "cell_type": "code",
   "execution_count": 19,
   "metadata": {},
   "outputs": [],
   "source": [
    "factors = 10\n",
    "learning_rate = 0.01\n",
    "reg = 0.01\n",
    "init_mean = 0\n",
    "init_stdev = 0.01\n",
    "maxIter = 30\n",
    "num_thread = mp.cpu_count()"
   ]
  },
  {
   "cell_type": "code",
   "execution_count": 20,
   "metadata": {},
   "outputs": [],
   "source": [
    "bpr = MFbpr(train, test, num_user, num_item, factors, learning_rate, reg, init_mean, init_stdev)"
   ]
  },
  {
   "cell_type": "code",
   "execution_count": 5,
   "metadata": {},
   "outputs": [
    {
     "name": "stdout",
     "output_type": "stream",
     "text": [
      "num of user = 9204\n",
      "Training MF-BPR with: learning_rate=0.01, regularization=0.0100, factors=10, #epoch=30, batch_size=1000.\n",
      "Iter=0 [63.0 s] HitRatio@100 = 0.008, NDCG@100 = 0.003 [4.2 s]\n",
      "Iter=1 [61.9 s] HitRatio@100 = 0.042, NDCG@100 = 0.011 [13.1 s]\n",
      "Iter=2 [59.9 s] HitRatio@100 = 0.068, NDCG@100 = 0.017 [18.5 s]\n",
      "Iter=3 [60.5 s] HitRatio@100 = 0.075, NDCG@100 = 0.019 [19.5 s]\n",
      "Iter=4 [61.9 s] HitRatio@100 = 0.076, NDCG@100 = 0.019 [21.8 s]\n",
      "Iter=5 [59.7 s] HitRatio@100 = 0.075, NDCG@100 = 0.019 [20.5 s]\n",
      "Iter=6 [59.5 s] HitRatio@100 = 0.075, NDCG@100 = 0.019 [22.8 s]\n",
      "Iter=7 [59.3 s] HitRatio@100 = 0.075, NDCG@100 = 0.020 [20.2 s]\n",
      "Iter=8 [58.7 s] HitRatio@100 = 0.074, NDCG@100 = 0.018 [20.9 s]\n",
      "Iter=9 [61.2 s] HitRatio@100 = 0.074, NDCG@100 = 0.018 [21.0 s]\n",
      "Iter=10 [62.8 s] HitRatio@100 = 0.075, NDCG@100 = 0.018 [22.1 s]\n",
      "Iter=11 [59.7 s] HitRatio@100 = 0.074, NDCG@100 = 0.018 [21.7 s]\n",
      "Iter=12 [62.9 s] HitRatio@100 = 0.075, NDCG@100 = 0.019 [22.9 s]\n",
      "Iter=13 [65.6 s] HitRatio@100 = 0.075, NDCG@100 = 0.019 [21.8 s]\n",
      "Iter=14 [63.2 s] HitRatio@100 = 0.074, NDCG@100 = 0.018 [23.6 s]\n",
      "Iter=15 [64.2 s] HitRatio@100 = 0.076, NDCG@100 = 0.018 [21.1 s]\n",
      "Iter=16 [63.3 s] HitRatio@100 = 0.075, NDCG@100 = 0.019 [22.5 s]\n",
      "Iter=17 [64.5 s] HitRatio@100 = 0.077, NDCG@100 = 0.020 [23.6 s]\n",
      "Iter=18 [63.0 s] HitRatio@100 = 0.075, NDCG@100 = 0.018 [21.7 s]\n",
      "Iter=19 [60.6 s] HitRatio@100 = 0.080, NDCG@100 = 0.020 [21.4 s]\n",
      "Iter=20 [64.0 s] HitRatio@100 = 0.075, NDCG@100 = 0.018 [22.5 s]\n",
      "Iter=21 [60.3 s] HitRatio@100 = 0.079, NDCG@100 = 0.020 [25.9 s]\n",
      "Iter=22 [59.2 s] HitRatio@100 = 0.080, NDCG@100 = 0.020 [24.0 s]\n",
      "Iter=23 [58.8 s] HitRatio@100 = 0.080, NDCG@100 = 0.020 [24.5 s]\n",
      "Iter=24 [59.0 s] HitRatio@100 = 0.078, NDCG@100 = 0.020 [25.0 s]\n",
      "Iter=25 [63.1 s] HitRatio@100 = 0.080, NDCG@100 = 0.020 [24.9 s]\n",
      "Iter=26 [57.5 s] HitRatio@100 = 0.077, NDCG@100 = 0.019 [24.1 s]\n",
      "Iter=27 [57.4 s] HitRatio@100 = 0.077, NDCG@100 = 0.020 [25.0 s]\n",
      "Iter=28 [58.2 s] HitRatio@100 = 0.080, NDCG@100 = 0.019 [25.4 s]\n",
      "Iter=29 [58.3 s] HitRatio@100 = 0.078, NDCG@100 = 0.020 [25.5 s]\n"
     ]
    }
   ],
   "source": [
    "# bpr.build_model(maxIter, num_thread, batch_size=32)\n",
    "bpr.build_model(maxIter, num_thread, batch_size=1000)"
   ]
  },
  {
   "cell_type": "code",
   "execution_count": 21,
   "metadata": {},
   "outputs": [
    {
     "data": {
      "text/plain": [
       "1.738651862470068"
      ]
     },
     "execution_count": 21,
     "metadata": {},
     "output_type": "execute_result"
    }
   ],
   "source": [
    "bpr.predict(test[0][0],test[0][1])"
   ]
  },
  {
   "cell_type": "markdown",
   "metadata": {},
   "source": [
    "## Appendix\n",
    "### Efficiency test"
   ]
  },
  {
   "cell_type": "code",
   "execution_count": null,
   "metadata": {},
   "outputs": [],
   "source": [
    "@exeTime\n",
    "def predict1(bpr, u, i):\n",
    "    res = np.inner(bpr.U_np[u], bpr.V_np[i])\n",
    "    return res\n",
    "\n",
    "@exeTime\n",
    "def predict2(bpr, u, i):\n",
    "    res = T.dot(bpr.U[u], bpr.V[i]).eval()\n",
    "    return res"
   ]
  },
  {
   "cell_type": "code",
   "execution_count": null,
   "metadata": {},
   "outputs": [],
   "source": [
    "def exeTime(func):\n",
    "    def newFunc(*args, **args2):\n",
    "        t0 = time.time()\n",
    "        print \"@%s, {%s} start\" % (time.strftime(\"%X\", time.localtime()), func.__name__)\n",
    "        back = func(*args, **args2)\n",
    "        print \"@%s, {%s} end\" % (time.strftime(\"%X\", time.localtime()), func.__name__)\n",
    "        print \"@%.3fs taken for {%s}\" % (time.time() - t0, func.__name__)\n",
    "        return back\n",
    "    return newFunc"
   ]
  },
  {
   "cell_type": "code",
   "execution_count": null,
   "metadata": {},
   "outputs": [],
   "source": [
    "alist = np.linspace(1,100,10000000)\n",
    "\n",
    "%%cython\n",
    "def c_add(int a, int b):\n",
    "    cdef int s = a+b\n",
    "    return s\n",
    "\n",
    "def p_add(a,b):\n",
    "    return a+b\n",
    "\n",
    "%%cython\n",
    "def cython_mean(double[:] x):\n",
    "    cdef double total = 0\n",
    "    for i in range(len(x)):\n",
    "        total += x[i]\n",
    "    return total / len(x)\n",
    "\n",
    "def python_mean(xs):\n",
    "    total = 0\n",
    "    for i in range(len(xs)):\n",
    "        total += xs[i]\n",
    "    return total/len(xs)\n",
    "\n",
    "from numba import jit\n",
    "@jit\n",
    "def numba_mean(xs):\n",
    "    total = 0\n",
    "    for i in range(len(xs)):\n",
    "        total += xs[i]\n",
    "    return total/len(xs)\n",
    "\n",
    "\n",
    "%timeit python_mean(alist)\n",
    "%timeit cython_mean(alist)\n",
    "\n",
    "%timeit np.mean(alist)\n",
    "\n",
    "%timeit numba_mean(alist)"
   ]
  },
  {
   "cell_type": "markdown",
   "metadata": {},
   "source": [
    "### Reducing mem for data frame"
   ]
  },
  {
   "cell_type": "code",
   "execution_count": 13,
   "metadata": {},
   "outputs": [
    {
     "name": "stdout",
     "output_type": "stream",
     "text": [
      "<class 'pandas.core.frame.DataFrame'>\n",
      "RangeIndex: 1995491 entries, 0 to 1995490\n",
      "Data columns (total 4 columns):\n",
      "CustomerCat    int16\n",
      "ItemCat        int32\n",
      "QTY            int64\n",
      "OrdinalTime    int64\n",
      "dtypes: int16(1), int32(1), int64(2)\n",
      "memory usage: 41.9 MB\n"
     ]
    }
   ],
   "source": [
    "sub_data.info()"
   ]
  },
  {
   "cell_type": "code",
   "execution_count": 14,
   "metadata": {},
   "outputs": [
    {
     "name": "stdout",
     "output_type": "stream",
     "text": [
      "<class 'pandas.core.frame.DataFrame'>\n",
      "RangeIndex: 1995491 entries, 0 to 1995490\n",
      "Data columns (total 4 columns):\n",
      "CustomerCat    int16\n",
      "ItemCat        int32\n",
      "QTY            int16\n",
      "OrdinalTime    int32\n",
      "dtypes: int16(2), int32(2)\n",
      "memory usage: 22.8 MB\n"
     ]
    },
    {
     "name": "stderr",
     "output_type": "stream",
     "text": [
      "/Users/ito/venv/CG-RecoEng/lib/python2.7/site-packages/pandas/core/generic.py:3110: SettingWithCopyWarning: \n",
      "A value is trying to be set on a copy of a slice from a DataFrame.\n",
      "Try using .loc[row_indexer,col_indexer] = value instead\n",
      "\n",
      "See the caveats in the documentation: http://pandas.pydata.org/pandas-docs/stable/indexing.html#indexing-view-versus-copy\n",
      "  self[name] = value\n"
     ]
    }
   ],
   "source": [
    "sub_data.QTY = sub_data.QTY.astype(np.int16)\n",
    "sub_data.OrdinalTime = sub_data.OrdinalTime.astype(np.int32)\n",
    "sub_data.info()"
   ]
  }
 ],
 "metadata": {
  "kernelspec": {
   "display_name": "Python 2",
   "language": "python",
   "name": "python2"
  },
  "language_info": {
   "codemirror_mode": {
    "name": "ipython",
    "version": 2
   },
   "file_extension": ".py",
   "mimetype": "text/x-python",
   "name": "python",
   "nbconvert_exporter": "python",
   "pygments_lexer": "ipython2",
   "version": "2.7.10"
  }
 },
 "nbformat": 4,
 "nbformat_minor": 2
}
